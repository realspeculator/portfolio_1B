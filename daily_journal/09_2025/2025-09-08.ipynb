{
 "cells": [
  {
   "cell_type": "markdown",
   "id": "f584b345-11ee-43b3-b8f6-d9b449f64778",
   "metadata": {},
   "source": [
    "##### 2025-09-08"
   ]
  },
  {
   "cell_type": "markdown",
   "id": "66439969-b254-455e-b465-bdd99b37eb50",
   "metadata": {},
   "source": [
    "![](https://www.tradingview.com/x/CT6hVOL7/)"
   ]
  },
  {
   "cell_type": "markdown",
   "id": "1e9258af-0d35-4ca6-ad11-bb1a12aef637",
   "metadata": {},
   "source": [
    "On Friday we got the disappointing jobs number. On back this econ data release we saw a rally in the long term treasury bonds. The market participants are extremely bearish on long term bonds and as a result this gives a good risk reward trading opportunity.\n",
    "\n",
    "We could risk 1-1.5% and make 5-15% returns if things go our way by going long these bonds.\n",
    "\n",
    "But right now there is fair bit of resistance it needs to overcome namely the 200 Day exponential moving average.\n",
    "\n",
    "I want to see a consolidation on the 4Hr chart. Lets zoom in a bit."
   ]
  },
  {
   "cell_type": "markdown",
   "id": "88037c9c-63fb-483a-88a1-624da6cf67fe",
   "metadata": {},
   "source": [
    "![](https://www.tradingview.com/x/ZmSK2sii/)"
   ]
  },
  {
   "cell_type": "markdown",
   "id": "c4ef1c7b-26e8-49f7-b32f-d351a4c4560f",
   "metadata": {},
   "source": [
    "For those who are trading the 10Y bonds or other rates affected products here are the levels to watch.b"
   ]
  },
  {
   "cell_type": "markdown",
   "id": "c02d0879-0108-49b0-8087-15440742355c",
   "metadata": {},
   "source": [
    "![](https://www.tradingview.com/x/72YZDGNv/)"
   ]
  },
  {
   "cell_type": "markdown",
   "id": "2ec0202a-16a1-462e-8a41-37562598064b",
   "metadata": {},
   "source": [
    "##### QQQ\n",
    "\n",
    "![](https://www.tradingview.com/x/P9JINmeR/)\n",
    "\n",
    "As far as QQQ is concerned it also saw a major pull back on Friday after the jobs number. This was driven mainly by the shift in momentum stocks. But it has since bounced back somewhat.\n",
    "\n",
    "Will this breakout be successfull or do we see a pullback? If we do see a pullback we could be in for a 5-7% correction over the next few weeks/months. \n",
    "\n",
    "A further deterioration in the markets and we are looking at the unfilled gaps from April and May. Market structure is not very healthy below this level. As of this moment I'm not predicting a pullback to those levels (from April and May). But a 5-7% is well within the range of possible reasonable outcomes."
   ]
  },
  {
   "cell_type": "code",
   "execution_count": null,
   "id": "25292169-df2e-4da4-99ee-46896cb7c8fe",
   "metadata": {},
   "outputs": [],
   "source": []
  }
 ],
 "metadata": {
  "kernelspec": {
   "display_name": "Python 3 (ipykernel)",
   "language": "python",
   "name": "python3"
  },
  "language_info": {
   "codemirror_mode": {
    "name": "ipython",
    "version": 3
   },
   "file_extension": ".py",
   "mimetype": "text/x-python",
   "name": "python",
   "nbconvert_exporter": "python",
   "pygments_lexer": "ipython3",
   "version": "3.12.7"
  }
 },
 "nbformat": 4,
 "nbformat_minor": 5
}
