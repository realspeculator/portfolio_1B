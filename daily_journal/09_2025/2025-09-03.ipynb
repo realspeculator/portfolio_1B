{
 "cells": [
  {
   "cell_type": "markdown",
   "id": "37d51e39-c33f-4b61-83c5-e50344832b10",
   "metadata": {},
   "source": [
    "#### 2025-09-03"
   ]
  },
  {
   "cell_type": "markdown",
   "id": "fcbac9c8-2b2b-44e8-b012-76f189236494",
   "metadata": {},
   "source": [
    "Overnight we had the news on Google. This has pushed the futures higher.\n",
    "\n",
    "![](https://private-user-images.githubusercontent.com/120210274/485113506-fcbef495-a3c9-4939-a659-dd682a7f3ed2.png?jwt=eyJ0eXAiOiJKV1QiLCJhbGciOiJIUzI1NiJ9.eyJpc3MiOiJnaXRodWIuY29tIiwiYXVkIjoicmF3LmdpdGh1YnVzZXJjb250ZW50LmNvbSIsImtleSI6ImtleTUiLCJleHAiOjE3NTY5MDQxODksIm5iZiI6MTc1NjkwMzg4OSwicGF0aCI6Ii8xMjAyMTAyNzQvNDg1MTEzNTA2LWZjYmVmNDk1LWEzYzktNDkzOS1hNjU5LWRkNjgyYTdmM2VkMi5wbmc_WC1BbXotQWxnb3JpdGhtPUFXUzQtSE1BQy1TSEEyNTYmWC1BbXotQ3JlZGVudGlhbD1BS0lBVkNPRFlMU0E1M1BRSzRaQSUyRjIwMjUwOTAzJTJGdXMtZWFzdC0xJTJGczMlMkZhd3M0X3JlcXVlc3QmWC1BbXotRGF0ZT0yMDI1MDkwM1QxMjUxMjlaJlgtQW16LUV4cGlyZXM9MzAwJlgtQW16LVNpZ25hdHVyZT0xZDkyM2JmYmE3YzkzMjc3MGI3ODAyMThmNmY1Yjc0NTZmOTU4Y2MwNmE0NTVlZjI4YzliMjRiNzg4MDVlMmFhJlgtQW16LVNpZ25lZEhlYWRlcnM9aG9zdCJ9.8EmsZywHFwhiLM6O5sm2Q5F0lXnxU_RhfxqypO2uSPI)\n"
   ]
  },
  {
   "cell_type": "markdown",
   "id": "6ff014ff-0c9a-41e3-bcac-201a6c7983f3",
   "metadata": {},
   "source": [
    "##### ES\n",
    "\n",
    "This morning I went short 200 ES.\n",
    "\n",
    "![](https://private-user-images.githubusercontent.com/120210274/485113908-c01d3635-1af4-4154-b8c8-707b6a699836.png?jwt=eyJ0eXAiOiJKV1QiLCJhbGciOiJIUzI1NiJ9.eyJpc3MiOiJnaXRodWIuY29tIiwiYXVkIjoicmF3LmdpdGh1YnVzZXJjb250ZW50LmNvbSIsImtleSI6ImtleTUiLCJleHAiOjE3NTY5MDQyNDgsIm5iZiI6MTc1NjkwMzk0OCwicGF0aCI6Ii8xMjAyMTAyNzQvNDg1MTEzOTA4LWMwMWQzNjM1LTFhZjQtNDE1NC1iOGM4LTcwN2I2YTY5OTgzNi5wbmc_WC1BbXotQWxnb3JpdGhtPUFXUzQtSE1BQy1TSEEyNTYmWC1BbXotQ3JlZGVudGlhbD1BS0lBVkNPRFlMU0E1M1BRSzRaQSUyRjIwMjUwOTAzJTJGdXMtZWFzdC0xJTJGczMlMkZhd3M0X3JlcXVlc3QmWC1BbXotRGF0ZT0yMDI1MDkwM1QxMjUyMjhaJlgtQW16LUV4cGlyZXM9MzAwJlgtQW16LVNpZ25hdHVyZT0zNzMzZTcwNTlmMjY2NDNhMzE4MWJiYTlmNDU0NzczYmJmZGI5ZTdkYzJlMjMzZTkwYjIxZTczZWJkYjU0NGFlJlgtQW16LVNpZ25lZEhlYWRlcnM9aG9zdCJ9.FnxJfRPh4F0QvODfn5yusye77fQ8MikYI26PrbxoWgY)"
   ]
  },
  {
   "cell_type": "markdown",
   "id": "a5a186d3-aec7-4071-a92a-a89eae297746",
   "metadata": {},
   "source": [
    "##### 9:23\n",
    "\n",
    "Closed and reversed the ES position. We are gapping up above yesterdays high.\n",
    "\n",
    "![](https://private-user-images.githubusercontent.com/120210274/485126632-dd676455-22ca-4446-a965-5298cd5224f9.png?jwt=eyJ0eXAiOiJKV1QiLCJhbGciOiJIUzI1NiJ9.eyJpc3MiOiJnaXRodWIuY29tIiwiYXVkIjoicmF3LmdpdGh1YnVzZXJjb250ZW50LmNvbSIsImtleSI6ImtleTUiLCJleHAiOjE3NTY5MDYwODgsIm5iZiI6MTc1NjkwNTc4OCwicGF0aCI6Ii8xMjAyMTAyNzQvNDg1MTI2NjMyLWRkNjc2NDU1LTIyY2EtNDQ0Ni1hOTY1LTUyOThjZDUyMjRmOS5wbmc_WC1BbXotQWxnb3JpdGhtPUFXUzQtSE1BQy1TSEEyNTYmWC1BbXotQ3JlZGVudGlhbD1BS0lBVkNPRFlMU0E1M1BRSzRaQSUyRjIwMjUwOTAzJTJGdXMtZWFzdC0xJTJGczMlMkZhd3M0X3JlcXVlc3QmWC1BbXotRGF0ZT0yMDI1MDkwM1QxMzIzMDhaJlgtQW16LUV4cGlyZXM9MzAwJlgtQW16LVNpZ25hdHVyZT0yM2E0OGQ5YzgyNGMyZGUxYTU5ZDNiNjZhZGViOWFjZjhiNjVhYzc5YmVlYzczNWI1ZDg1MTljZmRmMjNjYzI3JlgtQW16LVNpZ25lZEhlYWRlcnM9aG9zdCJ9.c5PapH1YkkBr8AwwWHEuQliFLMIfko3aSBCdK48anXY)"
   ]
  },
  {
   "cell_type": "code",
   "execution_count": null,
   "id": "7ec48d2f-b0ba-44b7-b93b-81727f6eda30",
   "metadata": {},
   "outputs": [],
   "source": []
  }
 ],
 "metadata": {
  "kernelspec": {
   "display_name": "Python 3 (ipykernel)",
   "language": "python",
   "name": "python3"
  },
  "language_info": {
   "codemirror_mode": {
    "name": "ipython",
    "version": 3
   },
   "file_extension": ".py",
   "mimetype": "text/x-python",
   "name": "python",
   "nbconvert_exporter": "python",
   "pygments_lexer": "ipython3",
   "version": "3.12.7"
  }
 },
 "nbformat": 4,
 "nbformat_minor": 5
}
