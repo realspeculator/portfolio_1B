{
 "cells": [
  {
   "cell_type": "markdown",
   "id": "37d51e39-c33f-4b61-83c5-e50344832b10",
   "metadata": {},
   "source": [
    "#### 2025-09-03"
   ]
  },
  {
   "cell_type": "markdown",
   "id": "fcbac9c8-2b2b-44e8-b012-76f189236494",
   "metadata": {},
   "source": [
    "Overnight we had the news on Google. This has pushed the futures higher.\n",
    "\n",
    "![](https://private-user-images.githubusercontent.com/120210274/485113506-fcbef495-a3c9-4939-a659-dd682a7f3ed2.png?jwt=eyJ0eXAiOiJKV1QiLCJhbGciOiJIUzI1NiJ9.eyJpc3MiOiJnaXRodWIuY29tIiwiYXVkIjoicmF3LmdpdGh1YnVzZXJjb250ZW50LmNvbSIsImtleSI6ImtleTUiLCJleHAiOjE3NTY5Mzk3MjcsIm5iZiI6MTc1NjkzOTQyNywicGF0aCI6Ii8xMjAyMTAyNzQvNDg1MTEzNTA2LWZjYmVmNDk1LWEzYzktNDkzOS1hNjU5LWRkNjgyYTdmM2VkMi5wbmc_WC1BbXotQWxnb3JpdGhtPUFXUzQtSE1BQy1TSEEyNTYmWC1BbXotQ3JlZGVudGlhbD1BS0lBVkNPRFlMU0E1M1BRSzRaQSUyRjIwMjUwOTAzJTJGdXMtZWFzdC0xJTJGczMlMkZhd3M0X3JlcXVlc3QmWC1BbXotRGF0ZT0yMDI1MDkwM1QyMjQzNDdaJlgtQW16LUV4cGlyZXM9MzAwJlgtQW16LVNpZ25hdHVyZT1mMmUyOTI1ZjMyMWZhZjIxOWZhMTg5NDEyNjYzMDk0NWJlZTQ1MTMwZDFhNmQ1MDI5NWE5YzcxODM4N2M0NDYyJlgtQW16LVNpZ25lZEhlYWRlcnM9aG9zdCJ9.rHu3TDhhKqXmFXaGRXQS8bvigTQDLDEjkeNsXjcPCnk)"
   ]
  },
  {
   "cell_type": "markdown",
   "id": "6ff014ff-0c9a-41e3-bcac-201a6c7983f3",
   "metadata": {},
   "source": [
    "##### ES\n",
    "\n",
    "This morning I went short 200 ES.\n",
    "\n",
    "![](https://private-user-images.githubusercontent.com/120210274/485113908-c01d3635-1af4-4154-b8c8-707b6a699836.png?jwt=eyJ0eXAiOiJKV1QiLCJhbGciOiJIUzI1NiJ9.eyJpc3MiOiJnaXRodWIuY29tIiwiYXVkIjoicmF3LmdpdGh1YnVzZXJjb250ZW50LmNvbSIsImtleSI6ImtleTUiLCJleHAiOjE3NTY5Mzk3MjgsIm5iZiI6MTc1NjkzOTQyOCwicGF0aCI6Ii8xMjAyMTAyNzQvNDg1MTEzOTA4LWMwMWQzNjM1LTFhZjQtNDE1NC1iOGM4LTcwN2I2YTY5OTgzNi5wbmc_WC1BbXotQWxnb3JpdGhtPUFXUzQtSE1BQy1TSEEyNTYmWC1BbXotQ3JlZGVudGlhbD1BS0lBVkNPRFlMU0E1M1BRSzRaQSUyRjIwMjUwOTAzJTJGdXMtZWFzdC0xJTJGczMlMkZhd3M0X3JlcXVlc3QmWC1BbXotRGF0ZT0yMDI1MDkwM1QyMjQzNDhaJlgtQW16LUV4cGlyZXM9MzAwJlgtQW16LVNpZ25hdHVyZT0xNDdhZWRkOWNkOGE4ZTA0MTBjZjc1M2M3ZGZmMDE5ZTg1MDFjZTIzYjk3YmRmNWE3MDNkYTlkMWM5OTkyNDU3JlgtQW16LVNpZ25lZEhlYWRlcnM9aG9zdCJ9.5K_F0NH-zENwrN2sb5iKMonaFwYCOl3MQtBpxBr46fQ)"
   ]
  },
  {
   "cell_type": "markdown",
   "id": "a5a186d3-aec7-4071-a92a-a89eae297746",
   "metadata": {},
   "source": [
    "##### 9:23\n",
    "\n",
    "Closed and reversed the ES position. We are gapping up above yesterdays high.\n",
    "\n",
    "![](https://private-user-images.githubusercontent.com/120210274/485126632-dd676455-22ca-4446-a965-5298cd5224f9.png?jwt=eyJ0eXAiOiJKV1QiLCJhbGciOiJIUzI1NiJ9.eyJpc3MiOiJnaXRodWIuY29tIiwiYXVkIjoicmF3LmdpdGh1YnVzZXJjb250ZW50LmNvbSIsImtleSI6ImtleTUiLCJleHAiOjE3NTY5Mzk3MjgsIm5iZiI6MTc1NjkzOTQyOCwicGF0aCI6Ii8xMjAyMTAyNzQvNDg1MTI2NjMyLWRkNjc2NDU1LTIyY2EtNDQ0Ni1hOTY1LTUyOThjZDUyMjRmOS5wbmc_WC1BbXotQWxnb3JpdGhtPUFXUzQtSE1BQy1TSEEyNTYmWC1BbXotQ3JlZGVudGlhbD1BS0lBVkNPRFlMU0E1M1BRSzRaQSUyRjIwMjUwOTAzJTJGdXMtZWFzdC0xJTJGczMlMkZhd3M0X3JlcXVlc3QmWC1BbXotRGF0ZT0yMDI1MDkwM1QyMjQzNDhaJlgtQW16LUV4cGlyZXM9MzAwJlgtQW16LVNpZ25hdHVyZT1hMGQ3YTAyYzkyZTE2M2EyNGNkYjI3MjlhMTUwNjVhYjQ0MmMxM2UxNjMyZmVjNzFkZGYwNzkyZDA5YjQ3ODhmJlgtQW16LVNpZ25lZEhlYWRlcnM9aG9zdCJ9.A6my0frt6q4s5npmtCVWVY4v0K7Y89ZX5bwioyNpd9U)"
   ]
  },
  {
   "cell_type": "markdown",
   "id": "3b537786-896a-4d61-9fc5-1393d9feedbc",
   "metadata": {},
   "source": [
    "##### 9:37\n",
    "\n",
    "ES gapped up, I added 200 more. I also added more NRG stock."
   ]
  },
  {
   "cell_type": "markdown",
   "id": "51a48d99-2c7b-4e53-852b-9e24eec30e97",
   "metadata": {},
   "source": [
    "Closed the entire position and stopped trading. Total daily loss 7bps or 750000. The market was not seeing any clear trend, the market chopped in very wide range. I will scratch this day as an abnormal trading day."
   ]
  },
  {
   "cell_type": "markdown",
   "id": "c16ee9b9-e9fc-4b9c-b9a3-f0992b2a318e",
   "metadata": {},
   "source": [
    "![](https://private-user-images.githubusercontent.com/120210274/485367247-a4ab1682-e46b-4399-978f-9bb421a2f598.png?jwt=eyJ0eXAiOiJKV1QiLCJhbGciOiJIUzI1NiJ9.eyJpc3MiOiJnaXRodWIuY29tIiwiYXVkIjoicmF3LmdpdGh1YnVzZXJjb250ZW50LmNvbSIsImtleSI6ImtleTUiLCJleHAiOjE3NTY5Mzk3NTEsIm5iZiI6MTc1NjkzOTQ1MSwicGF0aCI6Ii8xMjAyMTAyNzQvNDg1MzY3MjQ3LWE0YWIxNjgyLWU0NmItNDM5OS05NzhmLTliYjQyMWEyZjU5OC5wbmc_WC1BbXotQWxnb3JpdGhtPUFXUzQtSE1BQy1TSEEyNTYmWC1BbXotQ3JlZGVudGlhbD1BS0lBVkNPRFlMU0E1M1BRSzRaQSUyRjIwMjUwOTAzJTJGdXMtZWFzdC0xJTJGczMlMkZhd3M0X3JlcXVlc3QmWC1BbXotRGF0ZT0yMDI1MDkwM1QyMjQ0MTFaJlgtQW16LUV4cGlyZXM9MzAwJlgtQW16LVNpZ25hdHVyZT0wMDgyMmYzMWVjMGUyYTIwNmNkNDE1ZWJhYmYzOTdhZmYzNTg5NDIzY2RlNTY3YjM2MDhhMGFjMzQ1ZjNiMzcxJlgtQW16LVNpZ25lZEhlYWRlcnM9aG9zdCJ9.IfV0-Laoh_HiUxvDfcN0QfYPLZRNcz2UpfTvAg_4JtI)"
   ]
  }
 ],
 "metadata": {
  "kernelspec": {
   "display_name": "Python 3 (ipykernel)",
   "language": "python",
   "name": "python3"
  },
  "language_info": {
   "codemirror_mode": {
    "name": "ipython",
    "version": 3
   },
   "file_extension": ".py",
   "mimetype": "text/x-python",
   "name": "python",
   "nbconvert_exporter": "python",
   "pygments_lexer": "ipython3",
   "version": "3.12.7"
  }
 },
 "nbformat": 4,
 "nbformat_minor": 5
}
