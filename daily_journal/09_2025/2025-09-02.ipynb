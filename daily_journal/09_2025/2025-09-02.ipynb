{
 "cells": [
  {
   "cell_type": "markdown",
   "id": "8803ee14-a019-4406-ac4a-a2b5d4bd9f23",
   "metadata": {},
   "source": [
    "#### 2025-09-02"
   ]
  },
  {
   "cell_type": "markdown",
   "id": "4a558b36-5770-497b-9572-d4c19638b0d6",
   "metadata": {},
   "source": [
    "![](https://www.tradingview.com/x/wtBFxdBV/)"
   ]
  },
  {
   "cell_type": "markdown",
   "id": "ecc887b3-9178-4748-b7d3-8b25134f9387",
   "metadata": {},
   "source": [
    "##### 9:42AM\n",
    "\n",
    "QQQ is within the larger degree balance area. Currently its back in the range from August.\n",
    "\n",
    "August low is just 2% lower and August high is about 3.7% higher."
   ]
  },
  {
   "cell_type": "markdown",
   "id": "cbf4634b-d3b6-4dd2-af17-7701ae733f10",
   "metadata": {},
   "source": [
    "![](https://private-user-images.githubusercontent.com/120210274/484598902-7b4a14a2-11e1-444a-809e-69dc28c332b6.png?jwt=eyJ0eXAiOiJKV1QiLCJhbGciOiJIUzI1NiJ9.eyJpc3MiOiJnaXRodWIuY29tIiwiYXVkIjoicmF3LmdpdGh1YnVzZXJjb250ZW50LmNvbSIsImtleSI6ImtleTUiLCJleHAiOjE3NTY4MjEwNDAsIm5iZiI6MTc1NjgyMDc0MCwicGF0aCI6Ii8xMjAyMTAyNzQvNDg0NTk4OTAyLTdiNGExNGEyLTExZTEtNDQ0YS04MDllLTY5ZGMyOGMzMzJiNi5wbmc_WC1BbXotQWxnb3JpdGhtPUFXUzQtSE1BQy1TSEEyNTYmWC1BbXotQ3JlZGVudGlhbD1BS0lBVkNPRFlMU0E1M1BRSzRaQSUyRjIwMjUwOTAyJTJGdXMtZWFzdC0xJTJGczMlMkZhd3M0X3JlcXVlc3QmWC1BbXotRGF0ZT0yMDI1MDkwMlQxMzQ1NDBaJlgtQW16LUV4cGlyZXM9MzAwJlgtQW16LVNpZ25hdHVyZT0xNDk4YjRlOGZmYmM0OTg5YzgyNzVmOTAzMjgxZjUyN2IwNDUxODA3MzE5OWIwMjEzMjA4YTBlMGM4ZGU2OGI0JlgtQW16LVNpZ25lZEhlYWRlcnM9aG9zdCJ9.PAWowsendluxgo2NBz2s1etSwa82V3QwVCjOERg95D0)"
   ]
  },
  {
   "cell_type": "code",
   "execution_count": null,
   "id": "10af4957-41b2-4281-afc9-6f827a6a2af8",
   "metadata": {},
   "outputs": [],
   "source": []
  }
 ],
 "metadata": {
  "kernelspec": {
   "display_name": "Python 3 (ipykernel)",
   "language": "python",
   "name": "python3"
  },
  "language_info": {
   "codemirror_mode": {
    "name": "ipython",
    "version": 3
   },
   "file_extension": ".py",
   "mimetype": "text/x-python",
   "name": "python",
   "nbconvert_exporter": "python",
   "pygments_lexer": "ipython3",
   "version": "3.12.7"
  }
 },
 "nbformat": 4,
 "nbformat_minor": 5
}
