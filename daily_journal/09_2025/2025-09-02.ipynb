{
 "cells": [
  {
   "cell_type": "markdown",
   "id": "8803ee14-a019-4406-ac4a-a2b5d4bd9f23",
   "metadata": {},
   "source": [
    "#### 2025-09-02"
   ]
  },
  {
   "cell_type": "markdown",
   "id": "4a558b36-5770-497b-9572-d4c19638b0d6",
   "metadata": {},
   "source": [
    "![](https://www.tradingview.com/x/wtBFxdBV/)"
   ]
  },
  {
   "cell_type": "markdown",
   "id": "ecc887b3-9178-4748-b7d3-8b25134f9387",
   "metadata": {},
   "source": [
    "##### 9:42AM\n",
    "\n",
    "QQQ is within the larger degree balance area. Currently its back in the range from August.\n",
    "\n",
    "August low is just 2% lower and August high is about 3.7% higher."
   ]
  },
  {
   "cell_type": "code",
   "execution_count": null,
   "id": "edcbefde-0906-4e33-b21b-659effd3973a",
   "metadata": {},
   "outputs": [],
   "source": []
  }
 ],
 "metadata": {
  "kernelspec": {
   "display_name": "Python 3 (ipykernel)",
   "language": "python",
   "name": "python3"
  },
  "language_info": {
   "codemirror_mode": {
    "name": "ipython",
    "version": 3
   },
   "file_extension": ".py",
   "mimetype": "text/x-python",
   "name": "python",
   "nbconvert_exporter": "python",
   "pygments_lexer": "ipython3",
   "version": "3.12.7"
  }
 },
 "nbformat": 4,
 "nbformat_minor": 5
}
