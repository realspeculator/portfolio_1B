{
 "cells": [
  {
   "cell_type": "markdown",
   "id": "8803ee14-a019-4406-ac4a-a2b5d4bd9f23",
   "metadata": {},
   "source": [
    "#### 2025-09-02"
   ]
  },
  {
   "cell_type": "markdown",
   "id": "4a558b36-5770-497b-9572-d4c19638b0d6",
   "metadata": {},
   "source": [
    "![](https://www.tradingview.com/x/wtBFxdBV/)"
   ]
  },
  {
   "cell_type": "markdown",
   "id": "ecc887b3-9178-4748-b7d3-8b25134f9387",
   "metadata": {},
   "source": [
    "##### 9:42AM\n",
    "\n",
    "QQQ is within the larger degree balance area. Currently its back in the range from August.\n",
    "\n",
    "August low is just 2% lower and August high is about 3.7% higher."
   ]
  },
  {
   "cell_type": "markdown",
   "id": "cbf4634b-d3b6-4dd2-af17-7701ae733f10",
   "metadata": {},
   "source": [
    "![](https://private-user-images.githubusercontent.com/120210274/484598902-7b4a14a2-11e1-444a-809e-69dc28c332b6.png?jwt=eyJ0eXAiOiJKV1QiLCJhbGciOiJIUzI1NiJ9.eyJpc3MiOiJnaXRodWIuY29tIiwiYXVkIjoicmF3LmdpdGh1YnVzZXJjb250ZW50LmNvbSIsImtleSI6ImtleTUiLCJleHAiOjE3NTY4MjEwNDAsIm5iZiI6MTc1NjgyMDc0MCwicGF0aCI6Ii8xMjAyMTAyNzQvNDg0NTk4OTAyLTdiNGExNGEyLTExZTEtNDQ0YS04MDllLTY5ZGMyOGMzMzJiNi5wbmc_WC1BbXotQWxnb3JpdGhtPUFXUzQtSE1BQy1TSEEyNTYmWC1BbXotQ3JlZGVudGlhbD1BS0lBVkNPRFlMU0E1M1BRSzRaQSUyRjIwMjUwOTAyJTJGdXMtZWFzdC0xJTJGczMlMkZhd3M0X3JlcXVlc3QmWC1BbXotRGF0ZT0yMDI1MDkwMlQxMzQ1NDBaJlgtQW16LUV4cGlyZXM9MzAwJlgtQW16LVNpZ25hdHVyZT0xNDk4YjRlOGZmYmM0OTg5YzgyNzVmOTAzMjgxZjUyN2IwNDUxODA3MzE5OWIwMjEzMjA4YTBlMGM4ZGU2OGI0JlgtQW16LVNpZ25lZEhlYWRlcnM9aG9zdCJ9.PAWowsendluxgo2NBz2s1etSwa82V3QwVCjOERg95D0)"
   ]
  },
  {
   "cell_type": "markdown",
   "id": "c0626790-f2de-42e8-963f-7a5d90079e64",
   "metadata": {},
   "source": [
    "Current portfolio as of 9:45AM is showing a $3.5 loss. This is not correct its because of SGOV position going down in value because of dividends payment that will come later.\n",
    "\n",
    "But this will mess up my reporting and show a big loss for the next few days."
   ]
  },
  {
   "cell_type": "markdown",
   "id": "29057ee2-05a5-4f92-94b4-830ecce3993d",
   "metadata": {},
   "source": [
    "##### 9:57AM\n",
    "\n",
    "We are attempting a bounce at this level. I'm scanning the S&P 500 stocks to make a few swing trades for September."
   ]
  },
  {
   "cell_type": "markdown",
   "id": "b53aed2d-acc6-4953-a562-7c2dd9fb0fc3",
   "metadata": {},
   "source": [
    "- META\n",
    "- AMD\n",
    "- NVDA\n",
    "- MSFT\n",
    "- ORCL\n",
    "- CRM\n",
    "- CVS\n",
    "- PEP\n",
    "- GD\n",
    "- BA\n",
    "- COP\n",
    "- NRG"
   ]
  },
  {
   "cell_type": "markdown",
   "id": "ffb07607-c7d8-4124-abdc-ca2d3aa19f7d",
   "metadata": {},
   "source": [
    "##### META\n",
    "\n",
    "![](https://www.tradingview.com/x/BZ1oO3Au/)\n",
    "\n",
    "Waiting for a confirmation on this after the close of this and the next 1Hr bar."
   ]
  },
  {
   "cell_type": "markdown",
   "id": "6ff1f820-a91b-4f9a-9fef-599e44f64d69",
   "metadata": {},
   "source": [
    "##### AMD\n",
    "\n",
    "![](https://www.tradingview.com/x/sTBOc3lt/)"
   ]
  },
  {
   "cell_type": "markdown",
   "id": "92e8ae95-64b4-4fcc-ad07-681e0dd06ed9",
   "metadata": {},
   "source": [
    "##### NVDA\n",
    "\n",
    "This may take a while to get the confirmation. I will have to be patient with this one.\n",
    "\n",
    "![](https://www.tradingview.com/x/3ZY0LDT2/)"
   ]
  },
  {
   "cell_type": "markdown",
   "id": "ac9aa9bc-ac0e-420a-b017-0c2df9153b0e",
   "metadata": {},
   "source": [
    "##### MSFT\n",
    "\n",
    "![](https://www.tradingview.com/x/ZkmDfdUW/)"
   ]
  },
  {
   "cell_type": "markdown",
   "id": "5857ed96-2e6e-4a6f-9f19-3e54620b357d",
   "metadata": {},
   "source": [
    "##### ORCL\n",
    "\n",
    "![](https://www.tradingview.com/x/5WbbXzHG/)"
   ]
  },
  {
   "cell_type": "markdown",
   "id": "967c2a7d-8e65-4fd3-bbf5-864ea0b4e926",
   "metadata": {},
   "source": [
    "##### CRM\n",
    "\n",
    "![](https://www.tradingview.com/x/ZdOjd6iI/)"
   ]
  },
  {
   "cell_type": "markdown",
   "id": "08c7d124-ef68-44d9-9477-de004a2a9ce4",
   "metadata": {},
   "source": [
    "##### PEP\n",
    "\n",
    "![](https://www.tradingview.com/x/VJ7LbL96/)"
   ]
  },
  {
   "cell_type": "markdown",
   "id": "8a783129-044f-4462-bedb-a44c32fa88ad",
   "metadata": {},
   "source": [
    "##### GD\n",
    "\n",
    "![](https://www.tradingview.com/x/FQhiZNxi/)"
   ]
  },
  {
   "cell_type": "markdown",
   "id": "158e937b-60e0-41e9-ae1e-24398e633b6b",
   "metadata": {},
   "source": [
    "##### COP\n",
    "\n",
    "![](https://www.tradingview.com/x/MNJVC903/)"
   ]
  },
  {
   "cell_type": "markdown",
   "id": "8c8506d4-5dac-4e3e-882e-2c2fca8c6fc9",
   "metadata": {},
   "source": [
    "##### NRG\n",
    "\n",
    "![](https://www.tradingview.com/x/LoeLlUtj/)"
   ]
  }
 ],
 "metadata": {
  "kernelspec": {
   "display_name": "Python 3 (ipykernel)",
   "language": "python",
   "name": "python3"
  },
  "language_info": {
   "codemirror_mode": {
    "name": "ipython",
    "version": 3
   },
   "file_extension": ".py",
   "mimetype": "text/x-python",
   "name": "python",
   "nbconvert_exporter": "python",
   "pygments_lexer": "ipython3",
   "version": "3.12.7"
  }
 },
 "nbformat": 4,
 "nbformat_minor": 5
}
