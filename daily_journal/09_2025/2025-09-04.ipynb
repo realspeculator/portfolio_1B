{
 "cells": [
  {
   "cell_type": "markdown",
   "id": "5d333744-4bb2-48a6-800f-9539b31892b5",
   "metadata": {},
   "source": [
    "#### 2025-09-04"
   ]
  },
  {
   "cell_type": "markdown",
   "id": "2a3873d6-40b9-4931-b60f-33c50ed32735",
   "metadata": {},
   "source": [
    "##### 9:24AM\n",
    "\n",
    "Last 2 days have been poor trading on ES and NQ futures. In total I lost about \\$1mil or 10bps of performance. I need to reduce my size to 100 contract while I get a grasp back on this market."
   ]
  },
  {
   "cell_type": "markdown",
   "id": "7dd1d4ed-43a5-411c-9eb1-7f3827964ace",
   "metadata": {},
   "source": [
    "![](https://private-user-images.githubusercontent.com/120210274/485680073-c361e6a9-98af-47ce-902a-e855eec099da.png?jwt=eyJ0eXAiOiJKV1QiLCJhbGciOiJIUzI1NiJ9.eyJpc3MiOiJnaXRodWIuY29tIiwiYXVkIjoicmF3LmdpdGh1YnVzZXJjb250ZW50LmNvbSIsImtleSI6ImtleTUiLCJleHAiOjE3NTY5OTMwMDAsIm5iZiI6MTc1Njk5MjcwMCwicGF0aCI6Ii8xMjAyMTAyNzQvNDg1NjgwMDczLWMzNjFlNmE5LTk4YWYtNDdjZS05MDJhLWU4NTVlZWMwOTlkYS5wbmc_WC1BbXotQWxnb3JpdGhtPUFXUzQtSE1BQy1TSEEyNTYmWC1BbXotQ3JlZGVudGlhbD1BS0lBVkNPRFlMU0E1M1BRSzRaQSUyRjIwMjUwOTA0JTJGdXMtZWFzdC0xJTJGczMlMkZhd3M0X3JlcXVlc3QmWC1BbXotRGF0ZT0yMDI1MDkwNFQxMzMxNDBaJlgtQW16LUV4cGlyZXM9MzAwJlgtQW16LVNpZ25hdHVyZT0zZWEzOGNiYjUzZjA3NmM2ZjYxOWQyNjAyNjg1M2YzZDliMmU4ZDQ4ODJlYmIyZjQ4ZWU1MThhOTcyNjA0YzdiJlgtQW16LVNpZ25lZEhlYWRlcnM9aG9zdCJ9.rr-ryWBhZfhwObjjIZZF3_AaFtJUjipOKfD2CJPL-oA)"
   ]
  },
  {
   "cell_type": "markdown",
   "id": "19bb83d7-fad6-4a10-a437-2a16deb42262",
   "metadata": {},
   "source": [
    "We are gapping higher than yesterday's open. There is a good consolidation between the 6457 to 6475 range.\n",
    "\n",
    "I will let the market make a move one way or another before taking a trade."
   ]
  },
  {
   "cell_type": "markdown",
   "id": "26ab5fd9-a135-4edb-ae27-9641fefdd8c4",
   "metadata": {},
   "source": [
    "##### 10:16AM\n",
    "\n",
    "![](https://private-user-images.githubusercontent.com/120210274/485703712-5a8b157b-f99b-4fea-a724-96d1717af5d0.png?jwt=eyJ0eXAiOiJKV1QiLCJhbGciOiJIUzI1NiJ9.eyJpc3MiOiJnaXRodWIuY29tIiwiYXVkIjoicmF3LmdpdGh1YnVzZXJjb250ZW50LmNvbSIsImtleSI6ImtleTUiLCJleHAiOjE3NTY5OTU3MTMsIm5iZiI6MTc1Njk5NTQxMywicGF0aCI6Ii8xMjAyMTAyNzQvNDg1NzAzNzEyLTVhOGIxNTdiLWY5OWItNGZlYS1hNzI0LTk2ZDE3MTdhZjVkMC5wbmc_WC1BbXotQWxnb3JpdGhtPUFXUzQtSE1BQy1TSEEyNTYmWC1BbXotQ3JlZGVudGlhbD1BS0lBVkNPRFlMU0E1M1BRSzRaQSUyRjIwMjUwOTA0JTJGdXMtZWFzdC0xJTJGczMlMkZhd3M0X3JlcXVlc3QmWC1BbXotRGF0ZT0yMDI1MDkwNFQxNDE2NTNaJlgtQW16LUV4cGlyZXM9MzAwJlgtQW16LVNpZ25hdHVyZT1hZTQyMDllMjJmNTFjYjMzNGQzMjk0NjhiNGU3YWI3YWNjMjBiY2Q2NzQ1Mzk4MDczYjIzYmQ5NTg0ODU2NzY1JlgtQW16LVNpZ25lZEhlYWRlcnM9aG9zdCJ9.vvgsA2MqkIx2u747-WptzGqna7xiHXRgH85TUerS8ZY)"
   ]
  },
  {
   "cell_type": "markdown",
   "id": "1bd5cd27-327d-498f-afa2-3a7f57dfaeff",
   "metadata": {},
   "source": [
    "I shorted 100 ES and went long 50 SPX ATM puts. My belief is that we could trade back into low of yesterday from now until 1:30pm. "
   ]
  },
  {
   "cell_type": "markdown",
   "id": "661d4ac3-eb05-478a-91c4-19363b2d8f12",
   "metadata": {},
   "source": [
    "##### "
   ]
  }
 ],
 "metadata": {
  "kernelspec": {
   "display_name": "Python 3 (ipykernel)",
   "language": "python",
   "name": "python3"
  },
  "language_info": {
   "codemirror_mode": {
    "name": "ipython",
    "version": 3
   },
   "file_extension": ".py",
   "mimetype": "text/x-python",
   "name": "python",
   "nbconvert_exporter": "python",
   "pygments_lexer": "ipython3",
   "version": "3.12.7"
  }
 },
 "nbformat": 4,
 "nbformat_minor": 5
}
