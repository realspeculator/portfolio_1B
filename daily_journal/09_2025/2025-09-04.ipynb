{
 "cells": [
  {
   "cell_type": "markdown",
   "id": "5d333744-4bb2-48a6-800f-9539b31892b5",
   "metadata": {},
   "source": [
    "#### 2025-09-04"
   ]
  },
  {
   "cell_type": "markdown",
   "id": "2a3873d6-40b9-4931-b60f-33c50ed32735",
   "metadata": {},
   "source": [
    "##### 9:24AM\n",
    "\n",
    "Last 2 days have been poor trading on ES and NQ futures. In total I lost about \\$1mil or 10bps of performance. I need to reduce my size to 100 contract while I get a grasp back on this market."
   ]
  },
  {
   "cell_type": "code",
   "execution_count": null,
   "id": "09a2b38b-db20-466b-8249-5d9bbaf75afb",
   "metadata": {},
   "outputs": [],
   "source": []
  }
 ],
 "metadata": {
  "kernelspec": {
   "display_name": "Python 3 (ipykernel)",
   "language": "python",
   "name": "python3"
  },
  "language_info": {
   "codemirror_mode": {
    "name": "ipython",
    "version": 3
   },
   "file_extension": ".py",
   "mimetype": "text/x-python",
   "name": "python",
   "nbconvert_exporter": "python",
   "pygments_lexer": "ipython3",
   "version": "3.12.7"
  }
 },
 "nbformat": 4,
 "nbformat_minor": 5
}
