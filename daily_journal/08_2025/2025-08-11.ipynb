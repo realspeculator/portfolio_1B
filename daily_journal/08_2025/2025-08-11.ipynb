{
 "cells": [
  {
   "cell_type": "markdown",
   "id": "a0c9c0f2-79a0-4bca-8b93-29644d64f2a1",
   "metadata": {},
   "source": [
    "#### 2025-08-11\n",
    "\n",
    "8:30AM\n",
    "\n",
    "We start this week with a 5bps pullback in our portfolio. Overnight Silver dropped more than 2.25% and our STOP Loss was triggered. We are now out of the Silver long trade.\n",
    "\n",
    "22:17:09\tTRD\t5219879401\tSOLD -60 /SIU25:XCEC @38.105\t--\t-135.00\t-131,100.00\t-44,330,172.85\n",
    "\n",
    "The STOP loss was executed at 10:17pm and we got a fill of 38.105. The current price of Silve is 37.625\n",
    "\n",
    "![](https://www.tradingview.com/x/RJGfwIm2/)"
   ]
  },
  {
   "cell_type": "markdown",
   "id": "81ebef4d-1186-4afe-95db-86412a18a755",
   "metadata": {},
   "source": [
    "![](https://www.tradingview.com/x/4EUUfVNX/)\n",
    "\n",
    "GDXJ has also gapped down lower. We now have a 3% loss on this position. It is out of the balance are and is currently at a support level.\n",
    "A bounce here would give us an opportunity to close this position for a minor loss. But a break of this support level may cause us to close this position and take the loss.\n",
    "\n",
    "We also have import inflation numbers that come out tomorrow which are crucial for the precious metals market."
   ]
  },
  {
   "cell_type": "markdown",
   "id": "b17a892c-c7de-471b-a137-a98b598818ff",
   "metadata": {},
   "source": [
    "### QQQ and SPY\n",
    "\n",
    "For the QQQ and the SPY I want to look at the view from the top and then zoom into the granular data.\n",
    "\n",
    "##### Monthly QQQ\n",
    "\n",
    "![](https://www.tradingview.com/x/ojW0M0Fs/)\n",
    "\n",
    "On the monthly chart QQQ is attempting a breakout of this larger balance area (Balance 2). So far July and August have been successfull.\n",
    "\n",
    "##### Weekly QQQ\n",
    "\n",
    "![](https://www.tradingview.com/x/zgQasFic/)\n",
    "\n",
    "If we zoom into the weekly chart, we can see that we broke out of this Balance 2 area in July, but we saw a rejection on the last day of month of July. The first day of August the market attempted to auction lower. However this gap down was quickly bought and we traded higher again. \n",
    "\n",
    "So the weekly auction seems to be a two way auction with a well established balance area between 552 to 575 level. Lets zoom into the daily auction.\n",
    "\n",
    "##### Daily QQQ\n",
    "\n",
    "![](https://www.tradingview.com/x/PRq0IrZZ/)\n",
    "\n",
    "The daily auction confirms the two way action in the QQQ market.\n",
    "\n",
    "##### 1 Hour QQQ\n",
    "\n",
    "![](https://www.tradingview.com/x/Apevektc/)\n",
    "\n",
    "Looking at the 1 Hour chart we can see that overnight QQQ have been establishing a tight range between 573.5 to 576. My initial focus will be on this range. I will look to see if we get any breakout of this area, and trade in the same direction that market is going as indicated by the arrows."
   ]
  },
  {
   "cell_type": "markdown",
   "id": "dae8042f-24a0-4244-887a-69eff8782e76",
   "metadata": {},
   "source": [
    "##### Closed GDXJ long\n",
    "\n",
    "11:42\n",
    "\n",
    "\n",
    "![](https://www.tradingview.com/x/IVFlLIe0/)\n",
    "\n",
    "GDXJ has bounced back, so I closed the long. I will enter again above a break above or at the recent low. See above image"
   ]
  },
  {
   "cell_type": "markdown",
   "id": "c51f8897-c829-42e8-b2f3-9f9b6724a11d",
   "metadata": {},
   "source": [
    "##### QQQ breaking out\n",
    "\n",
    "![](https://www.tradingview.com/x/xquUnE8X/)\n",
    "\n",
    "QQQ is attempting a breakout. We want to see this bar close, before initiating a long trade."
   ]
  },
  {
   "cell_type": "code",
   "execution_count": null,
   "id": "3bf72fb2-2627-4699-9f99-a19fc08cfba7",
   "metadata": {},
   "outputs": [],
   "source": []
  }
 ],
 "metadata": {
  "kernelspec": {
   "display_name": "Python 3 (ipykernel)",
   "language": "python",
   "name": "python3"
  },
  "language_info": {
   "name": ""
  }
 },
 "nbformat": 4,
 "nbformat_minor": 5
}
