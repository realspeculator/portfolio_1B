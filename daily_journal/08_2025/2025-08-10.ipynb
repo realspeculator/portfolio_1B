{
 "cells": [
  {
   "cell_type": "markdown",
   "id": "c81183d1-051d-4a72-be73-7bee89507541",
   "metadata": {},
   "source": [
    " #### 2025-08-10\n",
    "\n",
    " 5:17PM\n",
    "\n",
    "Its sunday evening and I am prepapring for the next trading week. We will try to focus on the key events, major markets and any other wearnings "
   ]
  },
  {
   "cell_type": "code",
   "execution_count": null,
   "id": "841dae99-1878-4318-9d28-9545b6a836a8",
   "metadata": {},
   "outputs": [],
   "source": []
  }
 ],
 "metadata": {
  "kernelspec": {
   "display_name": "Python 3 (ipykernel)",
   "language": "python",
   "name": "python3"
  },
  "language_info": {
   "codemirror_mode": {
    "name": "ipython",
    "version": 3
   },
   "file_extension": ".py",
   "mimetype": "text/x-python",
   "name": "python",
   "nbconvert_exporter": "python",
   "pygments_lexer": "ipython3",
   "version": "3.12.7"
  }
 },
 "nbformat": 4,
 "nbformat_minor": 5
}
