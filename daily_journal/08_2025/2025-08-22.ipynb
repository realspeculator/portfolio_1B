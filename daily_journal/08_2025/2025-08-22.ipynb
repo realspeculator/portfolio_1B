{
 "cells": [
  {
   "cell_type": "markdown",
   "id": "0edd4a07-ffc7-494c-aba9-31713316aa26",
   "metadata": {},
   "source": [
    "#### 2025-08-22"
   ]
  },
  {
   "cell_type": "markdown",
   "id": "ee9de07a-1b26-4757-a7d7-775036450da5",
   "metadata": {},
   "source": [
    "NQ\n",
    "\n",
    "![](https://private-user-images.githubusercontent.com/120210274/480980618-a538ff5d-e4b4-45d0-9b4a-fbd219bd52be.png?jwt=eyJ0eXAiOiJKV1QiLCJhbGciOiJIUzI1NiJ9.eyJpc3MiOiJnaXRodWIuY29tIiwiYXVkIjoicmF3LmdpdGh1YnVzZXJjb250ZW50LmNvbSIsImtleSI6ImtleTUiLCJleHAiOjE3NTU4Njg3MjAsIm5iZiI6MTc1NTg2ODQyMCwicGF0aCI6Ii8xMjAyMTAyNzQvNDgwOTgwNjE4LWE1MzhmZjVkLWU0YjQtNDVkMC05YjRhLWZiZDIxOWJkNTJiZS5wbmc_WC1BbXotQWxnb3JpdGhtPUFXUzQtSE1BQy1TSEEyNTYmWC1BbXotQ3JlZGVudGlhbD1BS0lBVkNPRFlMU0E1M1BRSzRaQSUyRjIwMjUwODIyJTJGdXMtZWFzdC0xJTJGczMlMkZhd3M0X3JlcXVlc3QmWC1BbXotRGF0ZT0yMDI1MDgyMlQxMzEzNDBaJlgtQW16LUV4cGlyZXM9MzAwJlgtQW16LVNpZ25hdHVyZT0xNTYyZWJlOTAwNzVmY2MwMjk1MDRhNTc1MmJmZDYzMGM4M2M4NWE0ODNmNTQ3YjIyMWIxMWY3NzBiYmJlYjc0JlgtQW16LVNpZ25lZEhlYWRlcnM9aG9zdCJ9.xuw02vH8N4jAdp9V0DfxqX3D0StDl4FUV_Xap57foPk)"
   ]
  },
  {
   "cell_type": "markdown",
   "id": "5ed36c7b-c9a8-493e-8032-668d2db7ab2d",
   "metadata": {},
   "source": [
    "##### 9:14AM\n",
    "\n",
    "At 10:00am today we have Powell speaking at Jackson Hole. Historically this has been an important meeting where FED officials outline thier policy.\n",
    "\n",
    "NQ is now trading in the middle of this larger degree balance area. I dont expect much to happen for the first 30mins\n",
    "\n",
    "But keep the two horizontal balance area levels in mind. Those are key areas that market could find support/resistance."
   ]
  },
  {
   "cell_type": "markdown",
   "id": "3244008b-d04c-4e17-b2d9-a7da59c4e742",
   "metadata": {},
   "source": []
  },
  {
   "cell_type": "markdown",
   "id": "13349cbd-c0a7-46da-b722-76315391f7ba",
   "metadata": {},
   "source": [
    "![](https://private-user-images.githubusercontent.com/120210274/480980618-a538ff5d-e4b4-45d0-9b4a-fbd219bd52be.png?jwt=eyJ0eXAiOiJKV1QiLCJhbGciOiJIUzI1NiJ9.eyJpc3MiOiJnaXRodWIuY29tIiwiYXVkIjoicmF3LmdpdGh1YnVzZXJjb250ZW50LmNvbSIsImtleSI6ImtleTUiLCJleHAiOjE3NTU4NzAwMzgsIm5iZiI6MTc1NTg2OTczOCwicGF0aCI6Ii8xMjAyMTAyNzQvNDgwOTgwNjE4LWE1MzhmZjVkLWU0YjQtNDVkMC05YjRhLWZiZDIxOWJkNTJiZS5wbmc_WC1BbXotQWxnb3JpdGhtPUFXUzQtSE1BQy1TSEEyNTYmWC1BbXotQ3JlZGVudGlhbD1BS0lBVkNPRFlMU0E1M1BRSzRaQSUyRjIwMjUwODIyJTJGdXMtZWFzdC0xJTJGczMlMkZhd3M0X3JlcXVlc3QmWC1BbXotRGF0ZT0yMDI1MDgyMlQxMzM1MzhaJlgtQW16LUV4cGlyZXM9MzAwJlgtQW16LVNpZ25hdHVyZT0xYTQzNWUyZWY1MzlhNzc0YWM1ZTNhOWUyZTEyZDdjMDljNTdlZDA3MmU4NGJkYjEyMGY1ZjVkYzEyMTc5MzA4JlgtQW16LVNpZ25lZEhlYWRlcnM9aG9zdCJ9.EP-u2p76dC6-4h0u_--GhL2wAv0W2tRH61Y2PwdFZTA)"
   ]
  },
  {
   "cell_type": "code",
   "execution_count": null,
   "id": "d3a4ef1e-919a-4ced-890c-1ea07b981c3d",
   "metadata": {},
   "outputs": [],
   "source": []
  }
 ],
 "metadata": {
  "kernelspec": {
   "display_name": "Python 3 (ipykernel)",
   "language": "python",
   "name": "python3"
  },
  "language_info": {
   "codemirror_mode": {
    "name": "ipython",
    "version": 3
   },
   "file_extension": ".py",
   "mimetype": "text/x-python",
   "name": "python",
   "nbconvert_exporter": "python",
   "pygments_lexer": "ipython3",
   "version": "3.12.7"
  }
 },
 "nbformat": 4,
 "nbformat_minor": 5
}
