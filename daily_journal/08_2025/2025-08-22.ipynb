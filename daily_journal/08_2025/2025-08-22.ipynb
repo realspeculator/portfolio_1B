{
 "cells": [
  {
   "cell_type": "markdown",
   "id": "0edd4a07-ffc7-494c-aba9-31713316aa26",
   "metadata": {},
   "source": [
    "#### 2025-08-22"
   ]
  },
  {
   "cell_type": "markdown",
   "id": "5ed36c7b-c9a8-493e-8032-668d2db7ab2d",
   "metadata": {},
   "source": [
    "##### 9:14AM\n",
    "\n",
    "At 10:00am today we have Powell speaking at Jackson Hole. Historically this has been an important meeting where FED officials outline thier policy.\n",
    "\n",
    "NQ is now trading in the middle of this larger degree balance area. I dont expect much to happen for the first 30mins\n",
    "\n",
    "But keep the two horizontal balance area levels in mind. Those are key areas that market could find support/resistance."
   ]
  },
  {
   "cell_type": "markdown",
   "id": "13349cbd-c0a7-46da-b722-76315391f7ba",
   "metadata": {},
   "source": [
    "![](https://private-user-images.githubusercontent.com/120210274/480980618-a538ff5d-e4b4-45d0-9b4a-fbd219bd52be.png?jwt=eyJ0eXAiOiJKV1QiLCJhbGciOiJIUzI1NiJ9.eyJpc3MiOiJnaXRodWIuY29tIiwiYXVkIjoicmF3LmdpdGh1YnVzZXJjb250ZW50LmNvbSIsImtleSI6ImtleTUiLCJleHAiOjE3NTU4NzAwMzgsIm5iZiI6MTc1NTg2OTczOCwicGF0aCI6Ii8xMjAyMTAyNzQvNDgwOTgwNjE4LWE1MzhmZjVkLWU0YjQtNDVkMC05YjRhLWZiZDIxOWJkNTJiZS5wbmc_WC1BbXotQWxnb3JpdGhtPUFXUzQtSE1BQy1TSEEyNTYmWC1BbXotQ3JlZGVudGlhbD1BS0lBVkNPRFlMU0E1M1BRSzRaQSUyRjIwMjUwODIyJTJGdXMtZWFzdC0xJTJGczMlMkZhd3M0X3JlcXVlc3QmWC1BbXotRGF0ZT0yMDI1MDgyMlQxMzM1MzhaJlgtQW16LUV4cGlyZXM9MzAwJlgtQW16LVNpZ25hdHVyZT0xYTQzNWUyZWY1MzlhNzc0YWM1ZTNhOWUyZTEyZDdjMDljNTdlZDA3MmU4NGJkYjEyMGY1ZjVkYzEyMTc5MzA4JlgtQW16LVNpZ25lZEhlYWRlcnM9aG9zdCJ9.EP-u2p76dC6-4h0u_--GhL2wAv0W2tRH61Y2PwdFZTA)"
   ]
  },
  {
   "cell_type": "markdown",
   "id": "cb0f0583-1d23-4238-b011-fe429893bb15",
   "metadata": {},
   "source": [
    "##### 9:37AM\n",
    "\n",
    "TICs opened +1000 and AD line is above 1650. Wow. Markets are flat. This is a big discrepency."
   ]
  },
  {
   "attachments": {},
   "cell_type": "markdown",
   "id": "f9932655-f1b0-46b0-9963-106d9d184ba5",
   "metadata": {},
   "source": [
    "##### 9:46AM\n",
    "\n",
    "Went long 70000 NVO.\n",
    "\n",
    "![](https://private-user-images.githubusercontent.com/120210274/480992622-31071e3d-1250-46af-8944-6aa86d007830.png?jwt=eyJ0eXAiOiJKV1QiLCJhbGciOiJIUzI1NiJ9.eyJpc3MiOiJnaXRodWIuY29tIiwiYXVkIjoicmF3LmdpdGh1YnVzZXJjb250ZW50LmNvbSIsImtleSI6ImtleTUiLCJleHAiOjE3NTU4NzExOTgsIm5iZiI6MTc1NTg3MDg5OCwicGF0aCI6Ii8xMjAyMTAyNzQvNDgwOTkyNjIyLTMxMDcxZTNkLTEyNTAtNDZhZi04OTQ0LTZhYTg2ZDAwNzgzMC5wbmc_WC1BbXotQWxnb3JpdGhtPUFXUzQtSE1BQy1TSEEyNTYmWC1BbXotQ3JlZGVudGlhbD1BS0lBVkNPRFlMU0E1M1BRSzRaQSUyRjIwMjUwODIyJTJGdXMtZWFzdC0xJTJGczMlMkZhd3M0X3JlcXVlc3QmWC1BbXotRGF0ZT0yMDI1MDgyMlQxMzU0NThaJlgtQW16LUV4cGlyZXM9MzAwJlgtQW16LVNpZ25hdHVyZT04MDkwMzJkZGY5NTBiZDJkMDI0YTUzNjMzNjZmNTQyYWMwY2Q2MDJkYzYzZjk0OWIzZDVjMDM4MWVhZmIzZTQ3JlgtQW16LVNpZ25lZEhlYWRlcnM9aG9zdCJ9.vLUyfs9sunXcQeBUF3nRSBkagZYYD9GciTq4TYrubCk)"
   ]
  },
  {
   "cell_type": "markdown",
   "id": "4077f381-94b2-4b38-a8dd-e33306ee896f",
   "metadata": {},
   "source": [
    "##### 11:36AM\n",
    "\n",
    "    8/22/25\t01:00:00\tBAL\t--\tCash balance at the start of business day 22.08 CST\t--\t--\t--\t-22,618,097.30\n",
    "\t03:33:48\tTRD\t5225400568\tSOLD -100 /CLV25:XNYM @63.79\t--\t-225.00\t--\t-22,618,322.30\n",
    "\t09:43:13\tTRD\t5225626095\tBOT +70,000 NVO @57.30\t--\t--\t-4,011,000.00\t-26,629,322.30\n",
    "\t10:08:45\tTRD\t5225706650\tBOT +100 /NQU25:XCME @23536.50\t--\t-225.00\t--\t-26,629,547.30\n",
    "\t10:13:19\tTRD\t5225718798\tBOT +10,000 ORCL @236.32\t--\t--\t-2,363,200.00\t-28,992,747.30\n",
    "\t10:13:26\tTRD\t5225717966\tBOT +8,000 META @749.73\t--\t--\t-5,997,840.00\t-34,990,587.30\n",
    "\t10:14:17\tTRD\t5225720779\tBOT +50,000 PLTR @159.14\t--\t--\t-7,957,000.00\t-42,947,587.30\n",
    "\t10:17:23\tTRD\t5225730942\tBOT +20,000 LYV @164.98\t--\t--\t-3,299,600.00\t-46,247,187.30\n",
    "\t10:23:46\tTRD\t5225746196\tBOT +100 /NQU25:XCME @23512.75\t--\t-225.00\t--\t-46,247,412.30\n",
    "\t10:36:26\tTRD\t5225772629\tBOT +10,000 CRCL @141.60\t--\t--\t-1,416,000.00\t-47,663,412.30"
   ]
  },
  {
   "cell_type": "markdown",
   "id": "debfeaec-1b26-4ddf-9ec7-da4a6f534879",
   "metadata": {},
   "source": [
    "Trades done so far today.\n",
    "\n",
    "Closed short on META and ORCL\n",
    "\n",
    "Went long NQ, PLTR, LYV and CRCL"
   ]
  },
  {
   "cell_type": "code",
   "execution_count": null,
   "id": "e6688e74-c2b1-4c11-a4a9-5a0249a47429",
   "metadata": {},
   "outputs": [],
   "source": []
  }
 ],
 "metadata": {
  "kernelspec": {
   "display_name": "Python 3 (ipykernel)",
   "language": "python",
   "name": "python3"
  },
  "language_info": {
   "codemirror_mode": {
    "name": "ipython",
    "version": 3
   },
   "file_extension": ".py",
   "mimetype": "text/x-python",
   "name": "python",
   "nbconvert_exporter": "python",
   "pygments_lexer": "ipython3",
   "version": "3.12.7"
  }
 },
 "nbformat": 4,
 "nbformat_minor": 5
}
