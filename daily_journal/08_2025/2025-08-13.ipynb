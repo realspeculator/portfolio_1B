{
 "cells": [
  {
   "attachments": {},
   "cell_type": "markdown",
   "id": "85ce2ea5-3857-4fda-9697-8b8343f50000",
   "metadata": {},
   "source": [
    "#### 2025-08-13"
   ]
  },
  {
   "cell_type": "markdown",
   "id": "7041e633-311c-46e2-8363-3430590fd51c",
   "metadata": {},
   "source": [
    "As of 6:25AM NQ is gapping up above the high of yesterday. It still needs to hold for the next 3 hours. We dont have any major economic release, but there are a few FED speak events at 7:30, 1 and 1:30pm"
   ]
  },
  {
   "cell_type": "markdown",
   "id": "ca8ddb18-8713-463c-9116-a39357d39f8f",
   "metadata": {},
   "source": [
    "![](https://private-user-images.githubusercontent.com/120210274/477490618-5d691566-64e3-4fbe-ac99-838f9bbf290b.png?jwt=eyJ0eXAiOiJKV1QiLCJhbGciOiJIUzI1NiJ9.eyJpc3MiOiJnaXRodWIuY29tIiwiYXVkIjoicmF3LmdpdGh1YnVzZXJjb250ZW50LmNvbSIsImtleSI6ImtleTUiLCJleHAiOjE3NTUwODE2NzgsIm5iZiI6MTc1NTA4MTM3OCwicGF0aCI6Ii8xMjAyMTAyNzQvNDc3NDkwNjE4LTVkNjkxNTY2LTY0ZTMtNGZiZS1hYzk5LTgzOGY5YmJmMjkwYi5wbmc_WC1BbXotQWxnb3JpdGhtPUFXUzQtSE1BQy1TSEEyNTYmWC1BbXotQ3JlZGVudGlhbD1BS0lBVkNPRFlMU0E1M1BRSzRaQSUyRjIwMjUwODEzJTJGdXMtZWFzdC0xJTJGczMlMkZhd3M0X3JlcXVlc3QmWC1BbXotRGF0ZT0yMDI1MDgxM1QxMDM2MThaJlgtQW16LUV4cGlyZXM9MzAwJlgtQW16LVNpZ25hdHVyZT00MjhlOWQ2ZjYxYWQyNmM4ZDE1ZmJlN2ZlNDBiMDU4MWY4OTI2NGNlNDlhMzdhYTA2NjE2MmRjZTg1N2ExMWIzJlgtQW16LVNpZ25lZEhlYWRlcnM9aG9zdCJ9.u6-2BLFVa7B31Medmtsp3taLD4Yi5T_YsyemNNod8zQ)"
   ]
  },
  {
   "cell_type": "markdown",
   "id": "d5d596f2-f96c-4624-8b9c-a889a01146ed",
   "metadata": {},
   "source": [
    "Yesterday I mentioned some stocks. I will add more name to this.\n",
    "\n",
    "APTV, BLDR, TER, BLDR, MHK, ODFL, UNH, LYB"
   ]
  },
  {
   "cell_type": "markdown",
   "id": "dcf38c76-882f-4f3b-9f7f-f26abc5214ba",
   "metadata": {},
   "source": [
    "##### 9:37\n",
    "\n",
    "We got a huge gap up. Normally you go with the gap up, but I am waiting for the first 10mins to see if we can break above the range.\n",
    "\n"
   ]
  },
  {
   "cell_type": "markdown",
   "id": "acc78dc8-2161-4870-bbd0-0a0362fb10af",
   "metadata": {},
   "source": [
    "![](https://private-user-images.githubusercontent.com/120210274/477575670-064928ae-384d-43e7-8e15-a6ffae614d24.png?jwt=eyJ0eXAiOiJKV1QiLCJhbGciOiJIUzI1NiJ9.eyJpc3MiOiJnaXRodWIuY29tIiwiYXVkIjoicmF3LmdpdGh1YnVzZXJjb250ZW50LmNvbSIsImtleSI6ImtleTUiLCJleHAiOjE3NTUwOTI3NzAsIm5iZiI6MTc1NTA5MjQ3MCwicGF0aCI6Ii8xMjAyMTAyNzQvNDc3NTc1NjcwLTA2NDkyOGFlLTM4NGQtNDNlNy04ZTE1LWE2ZmZhZTYxNGQyNC5wbmc_WC1BbXotQWxnb3JpdGhtPUFXUzQtSE1BQy1TSEEyNTYmWC1BbXotQ3JlZGVudGlhbD1BS0lBVkNPRFlMU0E1M1BRSzRaQSUyRjIwMjUwODEzJTJGdXMtZWFzdC0xJTJGczMlMkZhd3M0X3JlcXVlc3QmWC1BbXotRGF0ZT0yMDI1MDgxM1QxMzQxMTBaJlgtQW16LUV4cGlyZXM9MzAwJlgtQW16LVNpZ25hdHVyZT1mY2UzODU2Yzk2MGFhNDU3M2Y4NGFkMTEwNTcxMWViMjE4MjIzYzYzNjU2ZTA1NzFmYzg3OWRjYjI2YmQ3OWQ0JlgtQW16LVNpZ25lZEhlYWRlcnM9aG9zdCJ9.fwB_xlI7As6dO_OLO3Y_Y4O5-5Pclp-_8qYhj0vv40o)"
   ]
  },
  {
   "cell_type": "markdown",
   "id": "5330519e-744f-4571-bca2-159b9efb6410",
   "metadata": {},
   "source": [
    "Went long 600 ES above the 5 min candle. Very tight stop at 6483.75"
   ]
  },
  {
   "cell_type": "markdown",
   "id": "ed549819-9388-48cf-9d79-6a4bdfef8f2d",
   "metadata": {},
   "source": [
    "##### 10:30\n",
    "\n",
    "![](https://private-user-images.githubusercontent.com/120210274/477597464-bff24f42-ec15-411c-9031-a10aca9f2b9c.png?jwt=eyJ0eXAiOiJKV1QiLCJhbGciOiJIUzI1NiJ9.eyJpc3MiOiJnaXRodWIuY29tIiwiYXVkIjoicmF3LmdpdGh1YnVzZXJjb250ZW50LmNvbSIsImtleSI6ImtleTUiLCJleHAiOjE3NTUwOTU2MzEsIm5iZiI6MTc1NTA5NTMzMSwicGF0aCI6Ii8xMjAyMTAyNzQvNDc3NTk3NDY0LWJmZjI0ZjQyLWVjMTUtNDExYy05MDMxLWExMGFjYTlmMmI5Yy5wbmc_WC1BbXotQWxnb3JpdGhtPUFXUzQtSE1BQy1TSEEyNTYmWC1BbXotQ3JlZGVudGlhbD1BS0lBVkNPRFlMU0E1M1BRSzRaQSUyRjIwMjUwODEzJTJGdXMtZWFzdC0xJTJGczMlMkZhd3M0X3JlcXVlc3QmWC1BbXotRGF0ZT0yMDI1MDgxM1QxNDI4NTFaJlgtQW16LUV4cGlyZXM9MzAwJlgtQW16LVNpZ25hdHVyZT01ZDFmNTM5MDZkYTlkNDNjYTVlY2Y4Y2MyZDAxNTg2MjJkMDViMTk0ODY3N2Q3YTczNDFiN2JiNTBkZDdiNDZjJlgtQW16LVNpZ25lZEhlYWRlcnM9aG9zdCJ9.rnrTvq169ToBQWoW8PEu4KRQ6BEeQ0iILLR6NU4pTuU)"
   ]
  },
  {
   "cell_type": "markdown",
   "id": "731a5ed7-7e37-4a21-8367-585e28e54571",
   "metadata": {},
   "source": [
    "We closed the NQ gap by 1 tic. I also got stopped out of ES long. Now I will look to short this market. Just want to see a balance form and then a break of the balance. But if we go back up then I must not think of shorting.\n",
    "\n",
    "Either way wait for the balance to form and then take the trade in the direction market wants to go."
   ]
  },
  {
   "cell_type": "code",
   "execution_count": null,
   "id": "73c7b54c-3eaf-43b2-a2fd-d064dd415cd8",
   "metadata": {},
   "outputs": [],
   "source": []
  }
 ],
 "metadata": {
  "kernelspec": {
   "display_name": "Python 3 (ipykernel)",
   "language": "python",
   "name": "python3"
  },
  "language_info": {
   "codemirror_mode": {
    "name": "ipython",
    "version": 3
   },
   "file_extension": ".py",
   "mimetype": "text/x-python",
   "name": "python",
   "nbconvert_exporter": "python",
   "pygments_lexer": "ipython3",
   "version": "3.12.7"
  }
 },
 "nbformat": 4,
 "nbformat_minor": 5
}
