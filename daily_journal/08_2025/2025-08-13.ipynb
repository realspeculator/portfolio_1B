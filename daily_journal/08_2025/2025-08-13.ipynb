{
 "cells": [
  {
   "attachments": {},
   "cell_type": "markdown",
   "id": "85ce2ea5-3857-4fda-9697-8b8343f50000",
   "metadata": {},
   "source": [
    "#### 2025-08-13\n",
    "\n",
    "![](https://private-user-images.githubusercontent.com/120210274/477490618-5d691566-64e3-4fbe-ac99-838f9bbf290b.png?jwt=eyJ0eXAiOiJKV1QiLCJhbGciOiJIUzI1NiJ9.eyJpc3MiOiJnaXRodWIuY29tIiwiYXVkIjoicmF3LmdpdGh1YnVzZXJjb250ZW50LmNvbSIsImtleSI6ImtleTUiLCJleHAiOjE3NTUwODA5NjksIm5iZiI6MTc1NTA4MDY2OSwicGF0aCI6Ii8xMjAyMTAyNzQvNDc3NDkwNjE4LTVkNjkxNTY2LTY0ZTMtNGZiZS1hYzk5LTgzOGY5YmJmMjkwYi5wbmc_WC1BbXotQWxnb3JpdGhtPUFXUzQtSE1BQy1TSEEyNTYmWC1BbXotQ3JlZGVudGlhbD1BS0lBVkNPRFlMU0E1M1BRSzRaQSUyRjIwMjUwODEzJTJGdXMtZWFzdC0xJTJGczMlMkZhd3M0X3JlcXVlc3QmWC1BbXotRGF0ZT0yMDI1MDgxM1QxMDI0MjlaJlgtQW16LUV4cGlyZXM9MzAwJlgtQW16LVNpZ25hdHVyZT02MDljNDU5MzA0NjJkZjk0Mzg2MGE2MzE1ZmFhZGYxZDQwODIzYWVjMmExZGIzZjI4YjdmYWU2MzUxNzAyOTBlJlgtQW16LVNpZ25lZEhlYWRlcnM9aG9zdCJ9.sTjKOQYWMpzuUPRMNxTlsS32p7qvm5JbNR9J0iyXdx0)"
   ]
  },
  {
   "cell_type": "markdown",
   "id": "7041e633-311c-46e2-8363-3430590fd51c",
   "metadata": {},
   "source": [
    "As of 6:25AM NQ is gapping up above the high of yesterday. It still needs to hold for the next 3 hours. We dont have any major economic release, but there are a few FED speak events at 7:30, 1 and 1:30pm"
   ]
  },
  {
   "cell_type": "code",
   "execution_count": null,
   "id": "57eb1baa-7d58-45fc-9529-79143a445203",
   "metadata": {},
   "outputs": [],
   "source": []
  }
 ],
 "metadata": {
  "kernelspec": {
   "display_name": "Python 3 (ipykernel)",
   "language": "python",
   "name": "python3"
  },
  "language_info": {
   "codemirror_mode": {
    "name": "ipython",
    "version": 3
   },
   "file_extension": ".py",
   "mimetype": "text/x-python",
   "name": "python",
   "nbconvert_exporter": "python",
   "pygments_lexer": "ipython3",
   "version": "3.12.7"
  }
 },
 "nbformat": 4,
 "nbformat_minor": 5
}
