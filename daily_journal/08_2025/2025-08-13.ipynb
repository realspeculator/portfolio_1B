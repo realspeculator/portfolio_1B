{
 "cells": [
  {
   "attachments": {},
   "cell_type": "markdown",
   "id": "85ce2ea5-3857-4fda-9697-8b8343f50000",
   "metadata": {},
   "source": [
    "#### 2025-08-13"
   ]
  },
  {
   "cell_type": "markdown",
   "id": "7041e633-311c-46e2-8363-3430590fd51c",
   "metadata": {},
   "source": [
    "As of 6:25AM NQ is gapping up above the high of yesterday. It still needs to hold for the next 3 hours. We dont have any major economic release, but there are a few FED speak events at 7:30, 1 and 1:30pm"
   ]
  },
  {
   "cell_type": "markdown",
   "id": "ca8ddb18-8713-463c-9116-a39357d39f8f",
   "metadata": {},
   "source": [
    "![](https://private-user-images.githubusercontent.com/120210274/477490618-5d691566-64e3-4fbe-ac99-838f9bbf290b.png?jwt=eyJ0eXAiOiJKV1QiLCJhbGciOiJIUzI1NiJ9.eyJpc3MiOiJnaXRodWIuY29tIiwiYXVkIjoicmF3LmdpdGh1YnVzZXJjb250ZW50LmNvbSIsImtleSI6ImtleTUiLCJleHAiOjE3NTUwODE2NzgsIm5iZiI6MTc1NTA4MTM3OCwicGF0aCI6Ii8xMjAyMTAyNzQvNDc3NDkwNjE4LTVkNjkxNTY2LTY0ZTMtNGZiZS1hYzk5LTgzOGY5YmJmMjkwYi5wbmc_WC1BbXotQWxnb3JpdGhtPUFXUzQtSE1BQy1TSEEyNTYmWC1BbXotQ3JlZGVudGlhbD1BS0lBVkNPRFlMU0E1M1BRSzRaQSUyRjIwMjUwODEzJTJGdXMtZWFzdC0xJTJGczMlMkZhd3M0X3JlcXVlc3QmWC1BbXotRGF0ZT0yMDI1MDgxM1QxMDM2MThaJlgtQW16LUV4cGlyZXM9MzAwJlgtQW16LVNpZ25hdHVyZT00MjhlOWQ2ZjYxYWQyNmM4ZDE1ZmJlN2ZlNDBiMDU4MWY4OTI2NGNlNDlhMzdhYTA2NjE2MmRjZTg1N2ExMWIzJlgtQW16LVNpZ25lZEhlYWRlcnM9aG9zdCJ9.u6-2BLFVa7B31Medmtsp3taLD4Yi5T_YsyemNNod8zQ)"
   ]
  },
  {
   "cell_type": "markdown",
   "id": "d5d596f2-f96c-4624-8b9c-a889a01146ed",
   "metadata": {},
   "source": [
    "Yesterday I mentioned some stocks. I will add more name to this.\n",
    "\n",
    "APTV, BLDR, TER, BLDR, MHK, ODFL, UNH, LYB"
   ]
  },
  {
   "cell_type": "markdown",
   "id": "dcf38c76-882f-4f3b-9f7f-f26abc5214ba",
   "metadata": {},
   "source": [
    "##### 9:37\n",
    "\n",
    "We got a huge gap up. Normally you go with the gap up, but I am waiting for the first 10mins to see if we can break above the range.\n",
    "\n"
   ]
  },
  {
   "cell_type": "markdown",
   "id": "acc78dc8-2161-4870-bbd0-0a0362fb10af",
   "metadata": {},
   "source": [
    "![](https://private-user-images.githubusercontent.com/120210274/477575670-064928ae-384d-43e7-8e15-a6ffae614d24.png?jwt=eyJ0eXAiOiJKV1QiLCJhbGciOiJIUzI1NiJ9.eyJpc3MiOiJnaXRodWIuY29tIiwiYXVkIjoicmF3LmdpdGh1YnVzZXJjb250ZW50LmNvbSIsImtleSI6ImtleTUiLCJleHAiOjE3NTUwOTI3NzAsIm5iZiI6MTc1NTA5MjQ3MCwicGF0aCI6Ii8xMjAyMTAyNzQvNDc3NTc1NjcwLTA2NDkyOGFlLTM4NGQtNDNlNy04ZTE1LWE2ZmZhZTYxNGQyNC5wbmc_WC1BbXotQWxnb3JpdGhtPUFXUzQtSE1BQy1TSEEyNTYmWC1BbXotQ3JlZGVudGlhbD1BS0lBVkNPRFlMU0E1M1BRSzRaQSUyRjIwMjUwODEzJTJGdXMtZWFzdC0xJTJGczMlMkZhd3M0X3JlcXVlc3QmWC1BbXotRGF0ZT0yMDI1MDgxM1QxMzQxMTBaJlgtQW16LUV4cGlyZXM9MzAwJlgtQW16LVNpZ25hdHVyZT1mY2UzODU2Yzk2MGFhNDU3M2Y4NGFkMTEwNTcxMWViMjE4MjIzYzYzNjU2ZTA1NzFmYzg3OWRjYjI2YmQ3OWQ0JlgtQW16LVNpZ25lZEhlYWRlcnM9aG9zdCJ9.fwB_xlI7As6dO_OLO3Y_Y4O5-5Pclp-_8qYhj0vv40o)"
   ]
  },
  {
   "cell_type": "markdown",
   "id": "5330519e-744f-4571-bca2-159b9efb6410",
   "metadata": {},
   "source": [
    "Went long 600 ES above the 5 min candle. Very tight stop at 6483.75"
   ]
  },
  {
   "cell_type": "markdown",
   "id": "ed549819-9388-48cf-9d79-6a4bdfef8f2d",
   "metadata": {},
   "source": [
    "##### 10:30\n",
    "\n",
    "![](https://private-user-images.githubusercontent.com/120210274/477597464-bff24f42-ec15-411c-9031-a10aca9f2b9c.png?jwt=eyJ0eXAiOiJKV1QiLCJhbGciOiJIUzI1NiJ9.eyJpc3MiOiJnaXRodWIuY29tIiwiYXVkIjoicmF3LmdpdGh1YnVzZXJjb250ZW50LmNvbSIsImtleSI6ImtleTUiLCJleHAiOjE3NTUwOTU2MzEsIm5iZiI6MTc1NTA5NTMzMSwicGF0aCI6Ii8xMjAyMTAyNzQvNDc3NTk3NDY0LWJmZjI0ZjQyLWVjMTUtNDExYy05MDMxLWExMGFjYTlmMmI5Yy5wbmc_WC1BbXotQWxnb3JpdGhtPUFXUzQtSE1BQy1TSEEyNTYmWC1BbXotQ3JlZGVudGlhbD1BS0lBVkNPRFlMU0E1M1BRSzRaQSUyRjIwMjUwODEzJTJGdXMtZWFzdC0xJTJGczMlMkZhd3M0X3JlcXVlc3QmWC1BbXotRGF0ZT0yMDI1MDgxM1QxNDI4NTFaJlgtQW16LUV4cGlyZXM9MzAwJlgtQW16LVNpZ25hdHVyZT01ZDFmNTM5MDZkYTlkNDNjYTVlY2Y4Y2MyZDAxNTg2MjJkMDViMTk0ODY3N2Q3YTczNDFiN2JiNTBkZDdiNDZjJlgtQW16LVNpZ25lZEhlYWRlcnM9aG9zdCJ9.rnrTvq169ToBQWoW8PEu4KRQ6BEeQ0iILLR6NU4pTuU)"
   ]
  },
  {
   "cell_type": "markdown",
   "id": "731a5ed7-7e37-4a21-8367-585e28e54571",
   "metadata": {},
   "source": [
    "We closed the NQ gap by 1 tic. I also got stopped out of ES long. Now I will look to short this market. Just want to see a balance form and then a break of the balance. But if we go back up then I must not think of shorting.\n",
    "\n",
    "Either way wait for the balance to form and then take the trade in the direction market wants to go."
   ]
  },
  {
   "cell_type": "markdown",
   "id": "ff71a4be-3053-4e4f-8e9b-84059d42c13a",
   "metadata": {},
   "source": [
    "##### 10:32AM"
   ]
  },
  {
   "cell_type": "markdown",
   "id": "27e755d4-25b3-4fa6-803b-59762b125f4b",
   "metadata": {},
   "source": [
    "![](https://private-user-images.githubusercontent.com/120210274/477599209-6914a224-cbb6-47af-8a86-bd2e06900ec9.png?jwt=eyJ0eXAiOiJKV1QiLCJhbGciOiJIUzI1NiJ9.eyJpc3MiOiJnaXRodWIuY29tIiwiYXVkIjoicmF3LmdpdGh1YnVzZXJjb250ZW50LmNvbSIsImtleSI6ImtleTUiLCJleHAiOjE3NTUwOTU4NjQsIm5iZiI6MTc1NTA5NTU2NCwicGF0aCI6Ii8xMjAyMTAyNzQvNDc3NTk5MjA5LTY5MTRhMjI0LWNiYjYtNDdhZi04YTg2LWJkMmUwNjkwMGVjOS5wbmc_WC1BbXotQWxnb3JpdGhtPUFXUzQtSE1BQy1TSEEyNTYmWC1BbXotQ3JlZGVudGlhbD1BS0lBVkNPRFlMU0E1M1BRSzRaQSUyRjIwMjUwODEzJTJGdXMtZWFzdC0xJTJGczMlMkZhd3M0X3JlcXVlc3QmWC1BbXotRGF0ZT0yMDI1MDgxM1QxNDMyNDRaJlgtQW16LUV4cGlyZXM9MzAwJlgtQW16LVNpZ25hdHVyZT1hYTVkNGMyMTIyN2RiM2U5MTRiNjI1YWVhYmJhNjU0ZjcyNTA4OWM5MWE3NzQyOWNhODFiYzkyODM5YTI2NmU3JlgtQW16LVNpZ25lZEhlYWRlcnM9aG9zdCJ9.jv_1gM7cEwLqOK9KMOaIZjD6VGDfEsKdUjSHmn3QrQU)\n"
   ]
  },
  {
   "cell_type": "markdown",
   "id": "72d34653-714c-49b3-8538-18dcca147fea",
   "metadata": {},
   "source": [
    "No shorting unless we go down below 23900 on NQ."
   ]
  },
  {
   "cell_type": "markdown",
   "id": "ce573bc6-46c8-431c-bed6-dde09e7700fa",
   "metadata": {},
   "source": [
    "##### 10:46AM\n",
    "\n",
    "Short 200 NQ"
   ]
  },
  {
   "cell_type": "markdown",
   "id": "e391d795-9d2e-4fa1-8326-2e6ba0250e43",
   "metadata": {},
   "source": [
    "![](https://private-user-images.githubusercontent.com/120210274/477606055-0544bb36-a126-434e-80ab-0331abfe8c2a.png?jwt=eyJ0eXAiOiJKV1QiLCJhbGciOiJIUzI1NiJ9.eyJpc3MiOiJnaXRodWIuY29tIiwiYXVkIjoicmF3LmdpdGh1YnVzZXJjb250ZW50LmNvbSIsImtleSI6ImtleTUiLCJleHAiOjE3NTUwOTY3MDksIm5iZiI6MTc1NTA5NjQwOSwicGF0aCI6Ii8xMjAyMTAyNzQvNDc3NjA2MDU1LTA1NDRiYjM2LWExMjYtNDM0ZS04MGFiLTAzMzFhYmZlOGMyYS5wbmc_WC1BbXotQWxnb3JpdGhtPUFXUzQtSE1BQy1TSEEyNTYmWC1BbXotQ3JlZGVudGlhbD1BS0lBVkNPRFlMU0E1M1BRSzRaQSUyRjIwMjUwODEzJTJGdXMtZWFzdC0xJTJGczMlMkZhd3M0X3JlcXVlc3QmWC1BbXotRGF0ZT0yMDI1MDgxM1QxNDQ2NDlaJlgtQW16LUV4cGlyZXM9MzAwJlgtQW16LVNpZ25hdHVyZT00NWE5YTg2ZjUzY2Y3OThhODgwNDBiMTIzNmE3OGY2NWVlOGE1OTk2OGJkYmM3YzJmNmE4NjhiNjQzODQ2ZGQ0JlgtQW16LVNpZ25lZEhlYWRlcnM9aG9zdCJ9.PpNscW3XR5-gOK9h4KUJkAIjPVY_xn_Dqhwiv8qCvUg)"
   ]
  },
  {
   "cell_type": "markdown",
   "id": "61ad809e-9167-431c-991c-8d4f7180a3d4",
   "metadata": {},
   "source": [
    "Shorted 200 more. Same STOP level."
   ]
  },
  {
   "cell_type": "markdown",
   "id": "1240e0d8-9743-4727-9495-719cda321cda",
   "metadata": {},
   "source": [
    "![](https://private-user-images.githubusercontent.com/120210274/477608169-47df4735-bc59-4afa-b93d-4625cc0fe924.png?jwt=eyJ0eXAiOiJKV1QiLCJhbGciOiJIUzI1NiJ9.eyJpc3MiOiJnaXRodWIuY29tIiwiYXVkIjoicmF3LmdpdGh1YnVzZXJjb250ZW50LmNvbSIsImtleSI6ImtleTUiLCJleHAiOjE3NTUwOTY5ODUsIm5iZiI6MTc1NTA5NjY4NSwicGF0aCI6Ii8xMjAyMTAyNzQvNDc3NjA4MTY5LTQ3ZGY0NzM1LWJjNTktNGFmYS1iOTNkLTQ2MjVjYzBmZTkyNC5wbmc_WC1BbXotQWxnb3JpdGhtPUFXUzQtSE1BQy1TSEEyNTYmWC1BbXotQ3JlZGVudGlhbD1BS0lBVkNPRFlMU0E1M1BRSzRaQSUyRjIwMjUwODEzJTJGdXMtZWFzdC0xJTJGczMlMkZhd3M0X3JlcXVlc3QmWC1BbXotRGF0ZT0yMDI1MDgxM1QxNDUxMjVaJlgtQW16LUV4cGlyZXM9MzAwJlgtQW16LVNpZ25hdHVyZT05YmIxMjMwNjJiYjM4YjI1NDhkMGMyZGJiMjZhZDc4MmJiNDU3OWIzMTRlY2UxNTFhOGY1YTdhNWQ1YzNiOWE3JlgtQW16LVNpZ25lZEhlYWRlcnM9aG9zdCJ9.SA0RhmJ14TDXUOgRRAdlivNoI6xr1cMB8HE4wVv1iWA)"
   ]
  },
  {
   "attachments": {},
   "cell_type": "markdown",
   "id": "933a2f8d-7d32-464f-8673-fce3854baedf",
   "metadata": {},
   "source": [
    "![](https://private-user-images.githubusercontent.com/120210274/477615146-f6dd9e07-e233-4233-86a7-1452ff56e088.png?jwt=eyJ0eXAiOiJKV1QiLCJhbGciOiJIUzI1NiJ9.eyJpc3MiOiJnaXRodWIuY29tIiwiYXVkIjoicmF3LmdpdGh1YnVzZXJjb250ZW50LmNvbSIsImtleSI6ImtleTUiLCJleHAiOjE3NTUwOTc5NTUsIm5iZiI6MTc1NTA5NzY1NSwicGF0aCI6Ii8xMjAyMTAyNzQvNDc3NjE1MTQ2LWY2ZGQ5ZTA3LWUyMzMtNDIzMy04NmE3LTE0NTJmZjU2ZTA4OC5wbmc_WC1BbXotQWxnb3JpdGhtPUFXUzQtSE1BQy1TSEEyNTYmWC1BbXotQ3JlZGVudGlhbD1BS0lBVkNPRFlMU0E1M1BRSzRaQSUyRjIwMjUwODEzJTJGdXMtZWFzdC0xJTJGczMlMkZhd3M0X3JlcXVlc3QmWC1BbXotRGF0ZT0yMDI1MDgxM1QxNTA3MzVaJlgtQW16LUV4cGlyZXM9MzAwJlgtQW16LVNpZ25hdHVyZT1hMTQyOWI5MDI2MzE4Zjk1MjliNjJmMzc1ZWY3N2Y1MGM1NTk2ZjdjNTM5MmRiMzEzODlhZTVjYzM2MzY3ZmVjJlgtQW16LVNpZ25lZEhlYWRlcnM9aG9zdCJ9.zn-qw71qq1CCFmaqieYG5yeYX8t_wrpwc8IGhfcVO24)"
   ]
  },
  {
   "cell_type": "markdown",
   "id": "8fe3a6a2-d98a-44d9-b719-1653beb4d5ef",
   "metadata": {},
   "source": [
    "##### 11:08AM\n",
    "\n",
    "Shorted 200 more. Now short 600 NQ. The inventory is very long, so traders might be forced to liquidate to rebalance it. Could be a 300 point downside play."
   ]
  },
  {
   "cell_type": "markdown",
   "id": "b6a32855-bc1e-47e7-98f8-3ab219ff3a43",
   "metadata": {},
   "source": []
  },
  {
   "cell_type": "markdown",
   "id": "68727478-aeb6-448e-a331-80f9b142a666",
   "metadata": {},
   "source": [
    "##### 6PM update\n",
    "\n",
    "I closed the 600 NQ short trade at 23918. Something was not right today, there appeared to be an invisible wall around the 23900 level. There was a consistent bid coming in at that level (see below image). I did not feel good holding this overnight.\n",
    "\n",
    "But this also tells me that I correctly anticipated 23900 as a key level. It will be something to really keep a close eye on."
   ]
  },
  {
   "cell_type": "markdown",
   "id": "9e61bb1c-1f60-4bac-87c0-38126824de29",
   "metadata": {},
   "source": [
    "![](https://private-user-images.githubusercontent.com/120210274/477764606-fd8500a0-eeab-477a-b398-228c090df837.png?jwt=eyJ0eXAiOiJKV1QiLCJhbGciOiJIUzI1NiJ9.eyJpc3MiOiJnaXRodWIuY29tIiwiYXVkIjoicmF3LmdpdGh1YnVzZXJjb250ZW50LmNvbSIsImtleSI6ImtleTUiLCJleHAiOjE3NTUxMjI4ODcsIm5iZiI6MTc1NTEyMjU4NywicGF0aCI6Ii8xMjAyMTAyNzQvNDc3NzY0NjA2LWZkODUwMGEwLWVlYWItNDc3YS1iMzk4LTIyOGMwOTBkZjgzNy5wbmc_WC1BbXotQWxnb3JpdGhtPUFXUzQtSE1BQy1TSEEyNTYmWC1BbXotQ3JlZGVudGlhbD1BS0lBVkNPRFlMU0E1M1BRSzRaQSUyRjIwMjUwODEzJTJGdXMtZWFzdC0xJTJGczMlMkZhd3M0X3JlcXVlc3QmWC1BbXotRGF0ZT0yMDI1MDgxM1QyMjAzMDdaJlgtQW16LUV4cGlyZXM9MzAwJlgtQW16LVNpZ25hdHVyZT1mYWYyMWRiOGQwNDQ1MTBiMzM0NjRmNTE4ZjFkNmVlZWYwYmUyZTFkMWI3YmFiNmNjOWY4ZTI5Y2E4MDNhM2Q4JlgtQW16LVNpZ25lZEhlYWRlcnM9aG9zdCJ9.BV5OOmJHfJ3wDke63QvAaRo88Ox0tP2avQ_8yh5ErkI)"
   ]
  },
  {
   "cell_type": "code",
   "execution_count": null,
   "id": "805a5aa4-968f-43a3-9fd9-bfb2f948dae6",
   "metadata": {},
   "outputs": [],
   "source": []
  }
 ],
 "metadata": {
  "kernelspec": {
   "display_name": "Python 3 (ipykernel)",
   "language": "python",
   "name": "python3"
  },
  "language_info": {
   "codemirror_mode": {
    "name": "ipython",
    "version": 3
   },
   "file_extension": ".py",
   "mimetype": "text/x-python",
   "name": "python",
   "nbconvert_exporter": "python",
   "pygments_lexer": "ipython3",
   "version": "3.12.7"
  }
 },
 "nbformat": 4,
 "nbformat_minor": 5
}
