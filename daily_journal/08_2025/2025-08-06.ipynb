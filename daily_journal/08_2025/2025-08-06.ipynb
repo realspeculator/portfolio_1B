{
 "cells": [
  {
   "cell_type": "markdown",
   "id": "9e0af862-389b-4564-9307-83baf88152d0",
   "metadata": {},
   "source": [
    "#### 2025-08-06\n",
    "\n",
    "I opened a short NQ trade overnight, which was stopped out around 1:33AM. \n",
    "\n",
    "Short 200 NQ 23070.755 <br>\n",
    "Buy 200 NQ 23186.50\n",
    "\n",
    "Loss $463000\n",
    "\n"
   ]
  },
  {
   "cell_type": "code",
   "execution_count": null,
   "id": "53b2ebf7-3d03-4709-9ffd-e183dce0bed7",
   "metadata": {},
   "outputs": [],
   "source": []
  }
 ],
 "metadata": {
  "kernelspec": {
   "display_name": "Python 3 (ipykernel)",
   "language": "python",
   "name": "python3"
  },
  "language_info": {
   "codemirror_mode": {
    "name": "ipython",
    "version": 3
   },
   "file_extension": ".py",
   "mimetype": "text/x-python",
   "name": "python",
   "nbconvert_exporter": "python",
   "pygments_lexer": "ipython3",
   "version": "3.12.7"
  }
 },
 "nbformat": 4,
 "nbformat_minor": 5
}
