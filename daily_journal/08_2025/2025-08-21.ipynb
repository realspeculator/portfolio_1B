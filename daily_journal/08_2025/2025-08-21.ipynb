{
 "cells": [
  {
   "cell_type": "markdown",
   "id": "40e6058e-e9a6-490f-bb0d-8b7670359e3b",
   "metadata": {},
   "source": [
    "##### 2025-08-21"
   ]
  },
  {
   "attachments": {},
   "cell_type": "markdown",
   "id": "c0b4a01e-b21d-45e5-9e6a-3c1ed02d35eb",
   "metadata": {},
   "source": [
    "![](https://private-user-images.githubusercontent.com/120210274/480471357-3cd0543e-c2da-44f7-beef-0dcf270aa261.png?jwt=eyJ0eXAiOiJKV1QiLCJhbGciOiJIUzI1NiJ9.eyJpc3MiOiJnaXRodWIuY29tIiwiYXVkIjoicmF3LmdpdGh1YnVzZXJjb250ZW50LmNvbSIsImtleSI6ImtleTUiLCJleHAiOjE3NTU3NzUxNDksIm5iZiI6MTc1NTc3NDg0OSwicGF0aCI6Ii8xMjAyMTAyNzQvNDgwNDcxMzU3LTNjZDA1NDNlLWMyZGEtNDRmNy1iZWVmLTBkY2YyNzBhYTI2MS5wbmc_WC1BbXotQWxnb3JpdGhtPUFXUzQtSE1BQy1TSEEyNTYmWC1BbXotQ3JlZGVudGlhbD1BS0lBVkNPRFlMU0E1M1BRSzRaQSUyRjIwMjUwODIxJTJGdXMtZWFzdC0xJTJGczMlMkZhd3M0X3JlcXVlc3QmWC1BbXotRGF0ZT0yMDI1MDgyMVQxMTE0MDlaJlgtQW16LUV4cGlyZXM9MzAwJlgtQW16LVNpZ25hdHVyZT04ZGFjMDg2N2QwNWRiYzE2MzJlYjU0NjBjMzgwMGVjZjUyM2EwMjEzNGIwNTI0NDE5NTIwMjlmMzNiMzAwYWY2JlgtQW16LVNpZ25lZEhlYWRlcnM9aG9zdCJ9.-_YpEGMkNoBYdueqgWhrZtjNTKM9ldNMEBxEWLEktcY)"
   ]
  },
  {
   "cell_type": "markdown",
   "id": "964e587b-f979-4791-ab8e-0e2b49d5c8c1",
   "metadata": {},
   "source": [
    "On April 21st the 11-22 4Hr exponential moving average turned position. In hindsight a break above april high was a great trade location.\n",
    "Then on August 5th it turned negative, but was quickly reversed on August 6th. Yesterday it went negative again.\n",
    "\n",
    "I recall the post I made on August 11th where I shared the below chart\n",
    "\n",
    "![](https://camo.githubusercontent.com/275efd52e47f5d3b95a2c3fbc129f8ac22a4bb08f0bbf39976f1718c0496734d/68747470733a2f2f7777772e74726164696e67766965772e636f6d2f782f41706576656b74632f)"
   ]
  },
  {
   "cell_type": "markdown",
   "id": "cb4dec5c-daff-44fd-a5f5-e242e0f3b3b3",
   "metadata": {},
   "source": [
    "Now An updated view of the chart\n",
    "\n",
    "![](https://www.tradingview.com/x/5qRZh5iS/)"
   ]
  },
  {
   "cell_type": "markdown",
   "id": "bc9924de-9fef-4603-9967-6733b7af6c82",
   "metadata": {},
   "source": [
    "We are still 2.25% away from the low made on August 1st."
   ]
  },
  {
   "cell_type": "markdown",
   "id": "b175351c-37e0-4aa1-bdb5-9f38dfe4242e",
   "metadata": {},
   "source": [
    "Tomorrow at 10am we have Fed Chair Powell speaking at jackson hole. This is most certainly a market moving headline that will affect major asset classes across the board."
   ]
  },
  {
   "cell_type": "markdown",
   "id": "0e53b081-8be7-4d15-a28d-db86cf882226",
   "metadata": {},
   "source": [
    "##### 9:27AM\n",
    "\n",
    "![](https://private-user-images.githubusercontent.com/120210274/480522234-8a0aebd9-cce2-4c91-ab53-f40c6948148a.png?jwt=eyJ0eXAiOiJKV1QiLCJhbGciOiJIUzI1NiJ9.eyJpc3MiOiJnaXRodWIuY29tIiwiYXVkIjoicmF3LmdpdGh1YnVzZXJjb250ZW50LmNvbSIsImtleSI6ImtleTUiLCJleHAiOjE3NTU3ODMxMjgsIm5iZiI6MTc1NTc4MjgyOCwicGF0aCI6Ii8xMjAyMTAyNzQvNDgwNTIyMjM0LThhMGFlYmQ5LWNjZTItNGM5MS1hYjUzLWY0MGM2OTQ4MTQ4YS5wbmc_WC1BbXotQWxnb3JpdGhtPUFXUzQtSE1BQy1TSEEyNTYmWC1BbXotQ3JlZGVudGlhbD1BS0lBVkNPRFlMU0E1M1BRSzRaQSUyRjIwMjUwODIxJTJGdXMtZWFzdC0xJTJGczMlMkZhd3M0X3JlcXVlc3QmWC1BbXotRGF0ZT0yMDI1MDgyMVQxMzI3MDhaJlgtQW16LUV4cGlyZXM9MzAwJlgtQW16LVNpZ25hdHVyZT1jNzMzZDQzZDA4ODIyNGNlYjE5NmIxZDZiODllZjNiZmU2MzRhMTMwZDAyODNmODE1NDVjNjllZDk1MDNiNDllJlgtQW16LVNpZ25lZEhlYWRlcnM9aG9zdCJ9.XrVtpMN-aWxd7xyMdFoDQ4r2ONZd73sfyPm9ovP0qN4)\n"
   ]
  },
  {
   "cell_type": "markdown",
   "id": "1e264407-6fe9-4aae-88b8-52d62a21eaef",
   "metadata": {},
   "source": [
    "We are opening in the middle of the range from yesterday. Be patient and let the trades come to you."
   ]
  },
  {
   "cell_type": "markdown",
   "id": "e8cfafbd-dd6f-4674-a777-b8bac22b9844",
   "metadata": {},
   "source": [
    "##### 9:31\n",
    "\n",
    "Went short PLTR and META"
   ]
  },
  {
   "cell_type": "markdown",
   "id": "caf95d90-d271-4f48-829c-4e7e9e3c7eef",
   "metadata": {},
   "source": [
    "##### PLTR short\n",
    "\n",
    "![](https://www.tradingview.com/x/KEG7TXwy/)"
   ]
  },
  {
   "cell_type": "markdown",
   "id": "e10b969c-fb5a-4c0c-a364-d691671b88ad",
   "metadata": {},
   "source": [
    "##### META Short\n",
    "\n",
    "![](https://www.tradingview.com/x/6XjTgn7a/)"
   ]
  },
  {
   "cell_type": "code",
   "execution_count": null,
   "id": "4b59fd74-eda0-491d-832e-2212ed0e511f",
   "metadata": {},
   "outputs": [],
   "source": []
  }
 ],
 "metadata": {
  "kernelspec": {
   "display_name": "Python 3 (ipykernel)",
   "language": "python",
   "name": "python3"
  },
  "language_info": {
   "codemirror_mode": {
    "name": "ipython",
    "version": 3
   },
   "file_extension": ".py",
   "mimetype": "text/x-python",
   "name": "python",
   "nbconvert_exporter": "python",
   "pygments_lexer": "ipython3",
   "version": "3.12.7"
  }
 },
 "nbformat": 4,
 "nbformat_minor": 5
}
