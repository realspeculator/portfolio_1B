{
 "cells": [
  {
   "cell_type": "markdown",
   "id": "d5fcadec-2fb4-41dc-bc37-c031b90235e0",
   "metadata": {},
   "source": [
    "##### 2025-08-19\n",
    "\n",
    "![](https://private-user-images.githubusercontent.com/120210274/479512075-6008344f-21cc-4075-a58e-3bc302de1a94.png?jwt=eyJ0eXAiOiJKV1QiLCJhbGciOiJIUzI1NiJ9.eyJpc3MiOiJnaXRodWIuY29tIiwiYXVkIjoicmF3LmdpdGh1YnVzZXJjb250ZW50LmNvbSIsImtleSI6ImtleTUiLCJleHAiOjE3NTU2MDc2NTksIm5iZiI6MTc1NTYwNzM1OSwicGF0aCI6Ii8xMjAyMTAyNzQvNDc5NTEyMDc1LTYwMDgzNDRmLTIxY2MtNDA3NS1hNThlLTNiYzMwMmRlMWE5NC5wbmc_WC1BbXotQWxnb3JpdGhtPUFXUzQtSE1BQy1TSEEyNTYmWC1BbXotQ3JlZGVudGlhbD1BS0lBVkNPRFlMU0E1M1BRSzRaQSUyRjIwMjUwODE5JTJGdXMtZWFzdC0xJTJGczMlMkZhd3M0X3JlcXVlc3QmWC1BbXotRGF0ZT0yMDI1MDgxOVQxMjQyMzlaJlgtQW16LUV4cGlyZXM9MzAwJlgtQW16LVNpZ25hdHVyZT1jZDk3MzBkNjhkNDVhY2E3YTM5ZTZiOGUyNGRjOWNmMzRhM2Y3YTk0NmEwMGRlZjRiYzA5ODIwMmFlYTdjMTM2JlgtQW16LVNpZ25lZEhlYWRlcnM9aG9zdCJ9.clWJH27hGVrTfQYnwbr0T48VCK3PTEpsPqiUoYwpBy4)"
   ]
  },
  {
   "cell_type": "markdown",
   "id": "3e88c5bc-0205-4920-a024-006dd2a45bec",
   "metadata": {},
   "source": [
    "8:43 AM\n",
    "\n",
    "Since NQ made the swing high on Aug 13th, we have been drifting lower. NQ is balancing in a tight 0.5% range for the past few days.\n",
    "\n",
    "For today, I will keep the plan simple again and look for how it trades at the pivot points\n",
    "\n",
    "Yesterday's high was 23824 and low was 23720"
   ]
  },
  {
   "cell_type": "markdown",
   "id": "9b166740-84a4-4b38-9a4b-6affb1b1b709",
   "metadata": {},
   "source": [
    "![](https://private-user-images.githubusercontent.com/120210274/479515022-9f33215f-14b6-440c-8eb0-332a687482f8.png?jwt=eyJ0eXAiOiJKV1QiLCJhbGciOiJIUzI1NiJ9.eyJpc3MiOiJnaXRodWIuY29tIiwiYXVkIjoicmF3LmdpdGh1YnVzZXJjb250ZW50LmNvbSIsImtleSI6ImtleTUiLCJleHAiOjE3NTU2MDgxMjMsIm5iZiI6MTc1NTYwNzgyMywicGF0aCI6Ii8xMjAyMTAyNzQvNDc5NTE1MDIyLTlmMzMyMTVmLTE0YjYtNDQwYy04ZWIwLTMzMmE2ODc0ODJmOC5wbmc_WC1BbXotQWxnb3JpdGhtPUFXUzQtSE1BQy1TSEEyNTYmWC1BbXotQ3JlZGVudGlhbD1BS0lBVkNPRFlMU0E1M1BRSzRaQSUyRjIwMjUwODE5JTJGdXMtZWFzdC0xJTJGczMlMkZhd3M0X3JlcXVlc3QmWC1BbXotRGF0ZT0yMDI1MDgxOVQxMjUwMjNaJlgtQW16LUV4cGlyZXM9MzAwJlgtQW16LVNpZ25hdHVyZT1lNjZlYzA0M2Y2ODQwNTdkMzA1YTk1OGU5ZGQzZWM3ZmIwNjVhYzQ5ZTZjMTE1YjgyYWRkN2RlODg1NTExYjQ1JlgtQW16LVNpZ25lZEhlYWRlcnM9aG9zdCJ9.i_SAKeqm-ZD168i2yHP0OlMps8bNuIg8mxhwdCEug6g)"
   ]
  },
  {
   "cell_type": "markdown",
   "id": "2d2b534b-6679-4dde-a0aa-2df31c44d352",
   "metadata": {},
   "source": [
    "Look for swing trades today as the market chops around."
   ]
  },
  {
   "cell_type": "markdown",
   "id": "d4d06446-db04-4dd9-96b9-1fe911d38a3f",
   "metadata": {},
   "source": []
  }
 ],
 "metadata": {
  "kernelspec": {
   "display_name": "Python 3 (ipykernel)",
   "language": "python",
   "name": "python3"
  },
  "language_info": {
   "codemirror_mode": {
    "name": "ipython",
    "version": 3
   },
   "file_extension": ".py",
   "mimetype": "text/x-python",
   "name": "python",
   "nbconvert_exporter": "python",
   "pygments_lexer": "ipython3",
   "version": "3.12.7"
  }
 },
 "nbformat": 4,
 "nbformat_minor": 5
}
