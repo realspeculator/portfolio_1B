{
 "cells": [
  {
   "cell_type": "markdown",
   "id": "d5fcadec-2fb4-41dc-bc37-c031b90235e0",
   "metadata": {},
   "source": [
    "##### 2025-08-19\n",
    "\n",
    "![](https://private-user-images.githubusercontent.com/120210274/479512075-6008344f-21cc-4075-a58e-3bc302de1a94.png?jwt=eyJ0eXAiOiJKV1QiLCJhbGciOiJIUzI1NiJ9.eyJpc3MiOiJnaXRodWIuY29tIiwiYXVkIjoicmF3LmdpdGh1YnVzZXJjb250ZW50LmNvbSIsImtleSI6ImtleTUiLCJleHAiOjE3NTU2MDc2NTksIm5iZiI6MTc1NTYwNzM1OSwicGF0aCI6Ii8xMjAyMTAyNzQvNDc5NTEyMDc1LTYwMDgzNDRmLTIxY2MtNDA3NS1hNThlLTNiYzMwMmRlMWE5NC5wbmc_WC1BbXotQWxnb3JpdGhtPUFXUzQtSE1BQy1TSEEyNTYmWC1BbXotQ3JlZGVudGlhbD1BS0lBVkNPRFlMU0E1M1BRSzRaQSUyRjIwMjUwODE5JTJGdXMtZWFzdC0xJTJGczMlMkZhd3M0X3JlcXVlc3QmWC1BbXotRGF0ZT0yMDI1MDgxOVQxMjQyMzlaJlgtQW16LUV4cGlyZXM9MzAwJlgtQW16LVNpZ25hdHVyZT1jZDk3MzBkNjhkNDVhY2E3YTM5ZTZiOGUyNGRjOWNmMzRhM2Y3YTk0NmEwMGRlZjRiYzA5ODIwMmFlYTdjMTM2JlgtQW16LVNpZ25lZEhlYWRlcnM9aG9zdCJ9.clWJH27hGVrTfQYnwbr0T48VCK3PTEpsPqiUoYwpBy4)"
   ]
  },
  {
   "cell_type": "markdown",
   "id": "3e88c5bc-0205-4920-a024-006dd2a45bec",
   "metadata": {},
   "source": [
    "8:43 AM\n",
    "\n",
    "Since NQ made the swing high on Aug 13th, we have been drifting lower. NQ is balancing in a tight 0.5% range for the past few days.\n",
    "\n",
    "For today, I will keep the plan simple again and look for how it trades at the pivot points\n",
    "\n",
    "Yesterday's high was 23824 and low was 23720"
   ]
  },
  {
   "cell_type": "markdown",
   "id": "9b166740-84a4-4b38-9a4b-6affb1b1b709",
   "metadata": {},
   "source": [
    "![](https://private-user-images.githubusercontent.com/120210274/479515022-9f33215f-14b6-440c-8eb0-332a687482f8.png?jwt=eyJ0eXAiOiJKV1QiLCJhbGciOiJIUzI1NiJ9.eyJpc3MiOiJnaXRodWIuY29tIiwiYXVkIjoicmF3LmdpdGh1YnVzZXJjb250ZW50LmNvbSIsImtleSI6ImtleTUiLCJleHAiOjE3NTU2MDgxMjMsIm5iZiI6MTc1NTYwNzgyMywicGF0aCI6Ii8xMjAyMTAyNzQvNDc5NTE1MDIyLTlmMzMyMTVmLTE0YjYtNDQwYy04ZWIwLTMzMmE2ODc0ODJmOC5wbmc_WC1BbXotQWxnb3JpdGhtPUFXUzQtSE1BQy1TSEEyNTYmWC1BbXotQ3JlZGVudGlhbD1BS0lBVkNPRFlMU0E1M1BRSzRaQSUyRjIwMjUwODE5JTJGdXMtZWFzdC0xJTJGczMlMkZhd3M0X3JlcXVlc3QmWC1BbXotRGF0ZT0yMDI1MDgxOVQxMjUwMjNaJlgtQW16LUV4cGlyZXM9MzAwJlgtQW16LVNpZ25hdHVyZT1lNjZlYzA0M2Y2ODQwNTdkMzA1YTk1OGU5ZGQzZWM3ZmIwNjVhYzQ5ZTZjMTE1YjgyYWRkN2RlODg1NTExYjQ1JlgtQW16LVNpZ25lZEhlYWRlcnM9aG9zdCJ9.i_SAKeqm-ZD168i2yHP0OlMps8bNuIg8mxhwdCEug6g)"
   ]
  },
  {
   "cell_type": "markdown",
   "id": "2d2b534b-6679-4dde-a0aa-2df31c44d352",
   "metadata": {},
   "source": [
    "Look for swing trades today as the market chops around."
   ]
  },
  {
   "cell_type": "markdown",
   "id": "765b7b3b-e367-4703-9478-07e061b229fd",
   "metadata": {},
   "source": [
    "cbre, lyv, mpwr, fslr, "
   ]
  },
  {
   "cell_type": "markdown",
   "id": "3f3ad843-4daf-4596-975b-43d8634ab1f4",
   "metadata": {},
   "source": [
    "##### 9:33AM"
   ]
  },
  {
   "cell_type": "markdown",
   "id": "a565b815-60a3-48ee-9311-92156475d3d4",
   "metadata": {},
   "source": [
    "![](https://private-user-images.githubusercontent.com/120210274/479534364-535f8fd2-40db-4cdb-b6db-637e24390ac6.png?jwt=eyJ0eXAiOiJKV1QiLCJhbGciOiJIUzI1NiJ9.eyJpc3MiOiJnaXRodWIuY29tIiwiYXVkIjoicmF3LmdpdGh1YnVzZXJjb250ZW50LmNvbSIsImtleSI6ImtleTUiLCJleHAiOjE3NTU2MTA2NjYsIm5iZiI6MTc1NTYxMDM2NiwicGF0aCI6Ii8xMjAyMTAyNzQvNDc5NTM0MzY0LTUzNWY4ZmQyLTQwZGItNGNkYi1iNmRiLTYzN2UyNDM5MGFjNi5wbmc_WC1BbXotQWxnb3JpdGhtPUFXUzQtSE1BQy1TSEEyNTYmWC1BbXotQ3JlZGVudGlhbD1BS0lBVkNPRFlMU0E1M1BRSzRaQSUyRjIwMjUwODE5JTJGdXMtZWFzdC0xJTJGczMlMkZhd3M0X3JlcXVlc3QmWC1BbXotRGF0ZT0yMDI1MDgxOVQxMzMyNDZaJlgtQW16LUV4cGlyZXM9MzAwJlgtQW16LVNpZ25hdHVyZT03ZjcyMGI0ZTJmZTg0MTAzZTUyZWNjMjc3YWNmMmQwY2JkYjFjNzQ1NWM0N2Q5Yjg5ODE3ZTFmYmQ2ZjQwOGE2JlgtQW16LVNpZ25lZEhlYWRlcnM9aG9zdCJ9.y3wevCOX9kDAiYaWkCnmp4W0lrUTbQwpi9TDm5cjcMU)"
   ]
  },
  {
   "cell_type": "markdown",
   "id": "7a40754e-6867-4f46-a3b0-0dc61e74f572",
   "metadata": {},
   "source": [
    "Initial break. TICs are not that negative at -103 and AD line is above 550"
   ]
  },
  {
   "cell_type": "markdown",
   "id": "31247410-fc1b-444b-b917-5f1b5b57e91e",
   "metadata": {},
   "source": [
    "![](https://private-user-images.githubusercontent.com/120210274/479544699-96b5c998-c08b-45ed-9cae-f5be341e8973.png?jwt=eyJ0eXAiOiJKV1QiLCJhbGciOiJIUzI1NiJ9.eyJpc3MiOiJnaXRodWIuY29tIiwiYXVkIjoicmF3LmdpdGh1YnVzZXJjb250ZW50LmNvbSIsImtleSI6ImtleTUiLCJleHAiOjE3NTU2MTIwNzIsIm5iZiI6MTc1NTYxMTc3MiwicGF0aCI6Ii8xMjAyMTAyNzQvNDc5NTQ0Njk5LTk2YjVjOTk4LWMwOGItNDVlZC05Y2FlLWY1YmUzNDFlODk3My5wbmc_WC1BbXotQWxnb3JpdGhtPUFXUzQtSE1BQy1TSEEyNTYmWC1BbXotQ3JlZGVudGlhbD1BS0lBVkNPRFlMU0E1M1BRSzRaQSUyRjIwMjUwODE5JTJGdXMtZWFzdC0xJTJGczMlMkZhd3M0X3JlcXVlc3QmWC1BbXotRGF0ZT0yMDI1MDgxOVQxMzU2MTJaJlgtQW16LUV4cGlyZXM9MzAwJlgtQW16LVNpZ25hdHVyZT1hODRiNDViZjEwMjRiODUxYTJkMGE2MTE3ZGMzNmEwMDczZmVjNjNkNjQzMzg5Zjc0YWZkYTk2ODY0ZjdhZGQ1JlgtQW16LVNpZ25lZEhlYWRlcnM9aG9zdCJ9.hGOO-mdhu3Fx5frXHmuttp_yEh8TTp72g11yF2Jrl5o)"
   ]
  },
  {
   "cell_type": "markdown",
   "id": "c404fae6-e0d0-4ff9-88ee-e922b48f6f7b",
   "metadata": {},
   "source": [
    "##### 9:56AM\n",
    "\n",
    "Short 300 NQ at avg price 23695, since it broke yesterday's low.\n",
    "\n",
    "TICs are still at +24 and AD is at 802. This downside is mainly because of high flyers getting slammed today"
   ]
  },
  {
   "cell_type": "code",
   "execution_count": null,
   "id": "428de0e7-d8c7-4459-b00a-c0d53fed2b5c",
   "metadata": {},
   "outputs": [],
   "source": []
  }
 ],
 "metadata": {
  "kernelspec": {
   "display_name": "Python 3 (ipykernel)",
   "language": "python",
   "name": "python3"
  },
  "language_info": {
   "codemirror_mode": {
    "name": "ipython",
    "version": 3
   },
   "file_extension": ".py",
   "mimetype": "text/x-python",
   "name": "python",
   "nbconvert_exporter": "python",
   "pygments_lexer": "ipython3",
   "version": "3.12.7"
  }
 },
 "nbformat": 4,
 "nbformat_minor": 5
}
