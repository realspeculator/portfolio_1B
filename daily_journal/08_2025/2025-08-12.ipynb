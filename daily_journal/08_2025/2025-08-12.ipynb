{
 "cells": [
  {
   "cell_type": "markdown",
   "id": "6ab0a1d2-3d80-4772-8bd2-e91926c1e5d8",
   "metadata": {},
   "source": [
    "#### 2025-08-12\n",
    "\n",
    "We got the key CPI number at 8:30AM, markets rallied on this print.\n",
    "\n",
    "![](https://www.tradingview.com/x/oxAh6ULh/)\n",
    "\n",
    "Before the number I had an order open to short NQ at 23714.5. This order got triggered and now the position is underwater (1.5bps portfolio hit).\n",
    "\n",
    "More importantly Nasdaq is back at the high of the range. Today I am look forward to how it reacts at this level. A break above the level could trigger more upside as shorts start covering. A failed breakout could bring back the 3-4% pull back in play. Yet again we will let the market tell us what it wants to do and then follow it."
   ]
  },
  {
   "cell_type": "markdown",
   "id": "7a3e81ad-8850-4c0e-8fc3-bad6bd024565",
   "metadata": {
    "jp-MarkdownHeadingCollapsed": true
   },
   "source": [
    "##### 9:09AM Covered NQ short\n",
    "\n",
    "![](https://private-user-images.githubusercontent.com/120210274/477064774-9286b656-bcb2-4bc1-92fa-62dc3db7bef6.png?jwt=eyJ0eXAiOiJKV1QiLCJhbGciOiJIUzI1NiJ9.eyJpc3MiOiJnaXRodWIuY29tIiwiYXVkIjoicmF3LmdpdGh1YnVzZXJjb250ZW50LmNvbSIsImtleSI6ImtleTUiLCJleHAiOjE3NTUwMDQ0NDUsIm5iZiI6MTc1NTAwNDE0NSwicGF0aCI6Ii8xMjAyMTAyNzQvNDc3MDY0Nzc0LTkyODZiNjU2LWJjYjItNGJjMS05MmZhLTYyZGMzZGI3YmVmNi5wbmc_WC1BbXotQWxnb3JpdGhtPUFXUzQtSE1BQy1TSEEyNTYmWC1BbXotQ3JlZGVudGlhbD1BS0lBVkNPRFlMU0E1M1BRSzRaQSUyRjIwMjUwODEyJTJGdXMtZWFzdC0xJTJGczMlMkZhd3M0X3JlcXVlc3QmWC1BbXotRGF0ZT0yMDI1MDgxMlQxMzA5MDVaJlgtQW16LUV4cGlyZXM9MzAwJlgtQW16LVNpZ25hdHVyZT1mM2FkYTg4OGVhNjUyZGQ1ZmI3ZmFkYmNjZjkwMThlZWVhODYyNTllY2NhYTkxYzc3MmJlNmNiMjczZTNhMzY0JlgtQW16LVNpZ25lZEhlYWRlcnM9aG9zdCJ9.kDxwU_qzbhg3JI1FEQn1xanRGiOxjXr71IIaM10q9gU)\n",
    "\n",
    "I covered this short trade on the pull back. I should not have kept the order open before a crucial number and it only makes sense that I cover my mistake sooner than later. "
   ]
  },
  {
   "cell_type": "markdown",
   "id": "bc023c8c-64be-46bc-a6e0-4f44a82783e4",
   "metadata": {},
   "source": [
    "##### Trades done so far\n",
    "\n",
    "9:12AM\n",
    "\n",
    "    8/12/25\t01:00:00\tBAL\t--\tCash balance at the start of business day 12.08 CST\t--\t--\t--\t-11,025,079.80\n",
    "\t08:30:06\tTRD\t5220607643\tSOLD -200 /NQU25:XCME @23714.25\t--\t-450.00\t--\t-11,025,529.80\n",
    "\t09:07:58\tTRD\t5220631698\tBOT +200 /NQU25:XCME @23730.50\t--\t-450.00\t-65,000.00\t-11,090,979.80\n",
    "\n",
    "NQ short cost the portfolio \\\\$65000"
   ]
  },
  {
   "cell_type": "markdown",
   "id": "939af950-cf30-4f43-a223-f3d935400306",
   "metadata": {},
   "source": [
    "As of now NQ is now trading in the middle of yesterday's range. Plan for today, \n",
    "\n",
    "- sit tight the early morning session, let the market show the direction\n",
    "- Look for swing trade opportunities in other names"
   ]
  },
  {
   "cell_type": "markdown",
   "id": "b8ebe266-cb4a-42c9-9147-405c9e3d8d15",
   "metadata": {},
   "source": [
    "##### Open\n",
    "\n",
    "9:32\n",
    "\n",
    "![](https://private-user-images.githubusercontent.com/120210274/477075510-806e6902-938d-4b81-b96b-44f9a337c7e9.png?jwt=eyJ0eXAiOiJKV1QiLCJhbGciOiJIUzI1NiJ9.eyJpc3MiOiJnaXRodWIuY29tIiwiYXVkIjoicmF3LmdpdGh1YnVzZXJjb250ZW50LmNvbSIsImtleSI6ImtleTUiLCJleHAiOjE3NTUwMDU5MDEsIm5iZiI6MTc1NTAwNTYwMSwicGF0aCI6Ii8xMjAyMTAyNzQvNDc3MDc1NTEwLTgwNmU2OTAyLTkzOGQtNGI4MS1iOTZiLTQ0ZjlhMzM3YzdlOS5wbmc_WC1BbXotQWxnb3JpdGhtPUFXUzQtSE1BQy1TSEEyNTYmWC1BbXotQ3JlZGVudGlhbD1BS0lBVkNPRFlMU0E1M1BRSzRaQSUyRjIwMjUwODEyJTJGdXMtZWFzdC0xJTJGczMlMkZhd3M0X3JlcXVlc3QmWC1BbXotRGF0ZT0yMDI1MDgxMlQxMzMzMjFaJlgtQW16LUV4cGlyZXM9MzAwJlgtQW16LVNpZ25hdHVyZT03MGFiYWM2YWYzNzViNGI1M2U5Y2ExNTViOGQ3YWYzN2UwOTI1Yjg0Y2I3MjQ4MmU4NzVmNzNhNjZlM2U3ZTlkJlgtQW16LVNpZ25lZEhlYWRlcnM9aG9zdCJ9.qX6T-k8vVdY_IYLGXeqblb8fLebTWhU8gUUmy9mXWBU)\n",
    "\n",
    "We have opened in the middle of the range. The market is attempting to rally higher now (after the screen shot was taken)."
   ]
  },
  {
   "cell_type": "markdown",
   "id": "4085eb47-1c82-4828-9732-5e4f5b78bb1a",
   "metadata": {},
   "source": [
    "ES may offer better opportunity today. It has already broken out of yesterday's range."
   ]
  },
  {
   "cell_type": "markdown",
   "id": "fc229e24-815b-4a0d-8cb2-783f4f5793f0",
   "metadata": {},
   "source": [
    "#### Added to CELH\n",
    "\n",
    "Bought 250000 more in CELH."
   ]
  },
  {
   "cell_type": "markdown",
   "id": "c7bf29f7-4bcc-4eee-a0a2-492bdd92d358",
   "metadata": {},
   "source": [
    "##### 9:53\n",
    "\n",
    "![](https://private-user-images.githubusercontent.com/120210274/477087183-b0fa7454-c3ea-4c10-85a3-41d843273195.png?jwt=eyJ0eXAiOiJKV1QiLCJhbGciOiJIUzI1NiJ9.eyJpc3MiOiJnaXRodWIuY29tIiwiYXVkIjoicmF3LmdpdGh1YnVzZXJjb250ZW50LmNvbSIsImtleSI6ImtleTUiLCJleHAiOjE3NTUwMTA5ODYsIm5iZiI6MTc1NTAxMDY4NiwicGF0aCI6Ii8xMjAyMTAyNzQvNDc3MDg3MTgzLWIwZmE3NDU0LWMzZWEtNGMxMC04NWEzLTQxZDg0MzI3MzE5NS5wbmc_WC1BbXotQWxnb3JpdGhtPUFXUzQtSE1BQy1TSEEyNTYmWC1BbXotQ3JlZGVudGlhbD1BS0lBVkNPRFlMU0E1M1BRSzRaQSUyRjIwMjUwODEyJTJGdXMtZWFzdC0xJTJGczMlMkZhd3M0X3JlcXVlc3QmWC1BbXotRGF0ZT0yMDI1MDgxMlQxNDU4MDZaJlgtQW16LUV4cGlyZXM9MzAwJlgtQW16LVNpZ25hdHVyZT0zNWM5OWViYzc4MTNhNmI4YTdmNmNjMjQ5M2Y1Y2MxMjk5MzM5NGQyMjMyNjY3M2I5MTY1MzE4MThjZDhhMTI5JlgtQW16LVNpZ25lZEhlYWRlcnM9aG9zdCJ9.r2xbbNtFyjIkuBiTARaEczZmJE0bfWUCrFd2SVBfR2k)\n",
    "\n",
    "We are seeing an early pullback, NQ and ES have both rejected the high of the day. We traded above yesterday's high and traders came in and sold that high. Higher prices attracted sellers. It happened too quickly for my liking and I was not able to trade this. I think we will see a two way action in this 30 point range on the ES."
   ]
  },
  {
   "cell_type": "markdown",
   "id": "0d39f913-4a5b-42b0-b0b3-956e68a582e9",
   "metadata": {},
   "source": [
    "![](https://private-user-images.githubusercontent.com/120210274/477124544-c24bb663-f30a-4b07-9cd7-24faeff89142.png?jwt=eyJ0eXAiOiJKV1QiLCJhbGciOiJIUzI1NiJ9.eyJpc3MiOiJnaXRodWIuY29tIiwiYXVkIjoicmF3LmdpdGh1YnVzZXJjb250ZW50LmNvbSIsImtleSI6ImtleTUiLCJleHAiOjE3NTUwMTA5ODgsIm5iZiI6MTc1NTAxMDY4OCwicGF0aCI6Ii8xMjAyMTAyNzQvNDc3MTI0NTQ0LWMyNGJiNjYzLWYzMGEtNGIwNy05Y2Q3LTI0ZmFlZmY4OTE0Mi5wbmc_WC1BbXotQWxnb3JpdGhtPUFXUzQtSE1BQy1TSEEyNTYmWC1BbXotQ3JlZGVudGlhbD1BS0lBVkNPRFlMU0E1M1BRSzRaQSUyRjIwMjUwODEyJTJGdXMtZWFzdC0xJTJGczMlMkZhd3M0X3JlcXVlc3QmWC1BbXotRGF0ZT0yMDI1MDgxMlQxNDU4MDhaJlgtQW16LUV4cGlyZXM9MzAwJlgtQW16LVNpZ25hdHVyZT03MzI5ZjAyNTBjNjdlZTAyZjIxNzZhYmI1YjJmYTEyMjcxYzhmMzU1Yzk4MzM3NzExYTBlNzNiYTQ3YTBlM2YzJlgtQW16LVNpZ25lZEhlYWRlcnM9aG9zdCJ9.zQLGSHi2M0nf6ZFfS6nSF6wF6pdNB_uwv8IJWA9JW4w)\n"
   ]
  },
  {
   "cell_type": "markdown",
   "id": "20d93904-1b11-4b19-9d4a-31d27305023c",
   "metadata": {},
   "source": [
    "Went long 300 ES on this breakout above previous 30min candle. The traders who are short this market will try and cover their position, which could lead to further upside.\n",
    "\n",
    "##### LRCX STOP LOSS\n",
    "\n",
    "Got stopped out of LRCX position. In hindsight should have the trade right when LRCX entered yesterday's trading range."
   ]
  },
  {
   "cell_type": "markdown",
   "id": "f959ea68-11f6-4230-827b-51c8ba9d7e52",
   "metadata": {},
   "source": [
    "##### 11:01 AM\n",
    "\n",
    "![](https://private-user-images.githubusercontent.com/120210274/477126432-8521cf2a-1570-4153-8b8e-349758b2175d.png?jwt=eyJ0eXAiOiJKV1QiLCJhbGciOiJIUzI1NiJ9.eyJpc3MiOiJnaXRodWIuY29tIiwiYXVkIjoicmF3LmdpdGh1YnVzZXJjb250ZW50LmNvbSIsImtleSI6ImtleTUiLCJleHAiOjE3NTUwMTEyMDQsIm5iZiI6MTc1NTAxMDkwNCwicGF0aCI6Ii8xMjAyMTAyNzQvNDc3MTI2NDMyLTg1MjFjZjJhLTE1NzAtNDE1My04YjhlLTM0OTc1OGIyMTc1ZC5wbmc_WC1BbXotQWxnb3JpdGhtPUFXUzQtSE1BQy1TSEEyNTYmWC1BbXotQ3JlZGVudGlhbD1BS0lBVkNPRFlMU0E1M1BRSzRaQSUyRjIwMjUwODEyJTJGdXMtZWFzdC0xJTJGczMlMkZhd3M0X3JlcXVlc3QmWC1BbXotRGF0ZT0yMDI1MDgxMlQxNTAxNDRaJlgtQW16LUV4cGlyZXM9MzAwJlgtQW16LVNpZ25hdHVyZT00ZTU4NTBkZGIwNTNmZGZmMDk3YzFjZTEzMGYxM2RkODVlMjlmMmU2YWUwODJmYzA4YjhhYTA1MzdhOWVkODRmJlgtQW16LVNpZ25lZEhlYWRlcnM9aG9zdCJ9.M2EqksEC43P0RPAJ6dQxMc5P0Hqls_5NdixNLRaB_gw)\n",
    "\n",
    "\n",
    "Added more to ES long position. Now long 600 ES at 6442.625"
   ]
  },
  {
   "cell_type": "code",
   "execution_count": 1,
   "id": "5f5857a3-ee4d-4e25-b418-2cf346019734",
   "metadata": {},
   "outputs": [
    {
     "name": "stdout",
     "output_type": "stream",
     "text": [
      "The notional value is\n",
      "96639375.0\n"
     ]
    }
   ],
   "source": [
    "print(\"The notional value is\") \n",
    "print(6442.625*25*600)"
   ]
  },
  {
   "cell_type": "code",
   "execution_count": null,
   "id": "9026f4e9-6111-440c-8448-9151ac1c1657",
   "metadata": {},
   "outputs": [],
   "source": []
  }
 ],
 "metadata": {
  "kernelspec": {
   "display_name": "Python 3 (ipykernel)",
   "language": "python",
   "name": "python3"
  },
  "language_info": {
   "codemirror_mode": {
    "name": "ipython",
    "version": 3
   },
   "file_extension": ".py",
   "mimetype": "text/x-python",
   "name": "python",
   "nbconvert_exporter": "python",
   "pygments_lexer": "ipython3",
   "version": "3.12.7"
  }
 },
 "nbformat": 4,
 "nbformat_minor": 5
}
