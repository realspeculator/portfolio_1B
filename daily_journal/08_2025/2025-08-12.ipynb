{
 "cells": [
  {
   "cell_type": "markdown",
   "id": "6ab0a1d2-3d80-4772-8bd2-e91926c1e5d8",
   "metadata": {},
   "source": [
    "#### 2025-08-12\n",
    "\n",
    "We got the key CPI number at 8:30AM, markets rallied on this print.\n",
    "\n",
    "![](https://www.tradingview.com/x/oxAh6ULh/)\n",
    "\n",
    "Before the number I had an order open to short NQ at 23714.5. This order got triggered and now the position is underwater (1.5bps portfolio hit).\n",
    "\n",
    "More importantly Nasdaq is back at the high of the range. Today I am look forward to how it reacts at this level. A break above the level could trigger more upside as shorts start covering. A failed breakout could bring back the 3-4% pull back in play. Yet again we will let the market tell us what it wants to do and then follow it."
   ]
  },
  {
   "cell_type": "markdown",
   "id": "7a3e81ad-8850-4c0e-8fc3-bad6bd024565",
   "metadata": {
    "jp-MarkdownHeadingCollapsed": true
   },
   "source": [
    "##### 9:09AM Covered NQ short\n",
    "\n",
    "![](https://private-user-images.githubusercontent.com/120210274/477064774-9286b656-bcb2-4bc1-92fa-62dc3db7bef6.png?jwt=eyJ0eXAiOiJKV1QiLCJhbGciOiJIUzI1NiJ9.eyJpc3MiOiJnaXRodWIuY29tIiwiYXVkIjoicmF3LmdpdGh1YnVzZXJjb250ZW50LmNvbSIsImtleSI6ImtleTUiLCJleHAiOjE3NTUwMDQ0NDUsIm5iZiI6MTc1NTAwNDE0NSwicGF0aCI6Ii8xMjAyMTAyNzQvNDc3MDY0Nzc0LTkyODZiNjU2LWJjYjItNGJjMS05MmZhLTYyZGMzZGI3YmVmNi5wbmc_WC1BbXotQWxnb3JpdGhtPUFXUzQtSE1BQy1TSEEyNTYmWC1BbXotQ3JlZGVudGlhbD1BS0lBVkNPRFlMU0E1M1BRSzRaQSUyRjIwMjUwODEyJTJGdXMtZWFzdC0xJTJGczMlMkZhd3M0X3JlcXVlc3QmWC1BbXotRGF0ZT0yMDI1MDgxMlQxMzA5MDVaJlgtQW16LUV4cGlyZXM9MzAwJlgtQW16LVNpZ25hdHVyZT1mM2FkYTg4OGVhNjUyZGQ1ZmI3ZmFkYmNjZjkwMThlZWVhODYyNTllY2NhYTkxYzc3MmJlNmNiMjczZTNhMzY0JlgtQW16LVNpZ25lZEhlYWRlcnM9aG9zdCJ9.kDxwU_qzbhg3JI1FEQn1xanRGiOxjXr71IIaM10q9gU)\n",
    "\n",
    "I covered this short trade on the pull back. I should not have kept the order open before a crucial number and it only makes sense that I cover my mistake sooner than later. "
   ]
  },
  {
   "cell_type": "markdown",
   "id": "bc023c8c-64be-46bc-a6e0-4f44a82783e4",
   "metadata": {},
   "source": [
    "##### Trades done so far\n",
    "\n",
    "9:12AM\n",
    "\n",
    "    8/12/25\t01:00:00\tBAL\t--\tCash balance at the start of business day 12.08 CST\t--\t--\t--\t-11,025,079.80\n",
    "\t08:30:06\tTRD\t5220607643\tSOLD -200 /NQU25:XCME @23714.25\t--\t-450.00\t--\t-11,025,529.80\n",
    "\t09:07:58\tTRD\t5220631698\tBOT +200 /NQU25:XCME @23730.50\t--\t-450.00\t-65,000.00\t-11,090,979.80\n",
    "\n",
    "NQ short cost the portfolio \\\\$65000"
   ]
  },
  {
   "cell_type": "markdown",
   "id": "939af950-cf30-4f43-a223-f3d935400306",
   "metadata": {},
   "source": [
    "As of now NQ is now trading in the middle of yesterday's range. Plan for today, \n",
    "\n",
    "- sit tight the early morning session, let the market show the direction\n",
    "- Look for swing trade opportunities in other names"
   ]
  },
  {
   "cell_type": "code",
   "execution_count": null,
   "id": "0a7da872-0840-4597-87d1-ac0a58d50672",
   "metadata": {},
   "outputs": [],
   "source": []
  }
 ],
 "metadata": {
  "kernelspec": {
   "display_name": "Python 3 (ipykernel)",
   "language": "python",
   "name": "python3"
  },
  "language_info": {
   "codemirror_mode": {
    "name": "ipython",
    "version": 3
   },
   "file_extension": ".py",
   "mimetype": "text/x-python",
   "name": "python",
   "nbconvert_exporter": "python",
   "pygments_lexer": "ipython3",
   "version": "3.12.7"
  }
 },
 "nbformat": 4,
 "nbformat_minor": 5
}
