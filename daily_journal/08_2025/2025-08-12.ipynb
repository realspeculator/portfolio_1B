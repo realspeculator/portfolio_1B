{
 "cells": [
  {
   "cell_type": "markdown",
   "id": "6ab0a1d2-3d80-4772-8bd2-e91926c1e5d8",
   "metadata": {},
   "source": [
    "#### 2025-08-12\n",
    "\n",
    "We got the key CPI number at 8:30AM, markets rallied on this print.\n",
    "\n",
    "![](https://www.tradingview.com/x/oxAh6ULh/)\n",
    "\n",
    "Before the number I had an order open to short NQ at 23714.5. This order got triggered and now the position is underwater (1.5bps portfolio hit).\n",
    "\n",
    "More importantly Nasdaq is back at the high of the range. Today I am"
   ]
  },
  {
   "cell_type": "code",
   "execution_count": null,
   "id": "e27bf6f2-f52d-4650-8240-e074b7e5496d",
   "metadata": {},
   "outputs": [],
   "source": []
  }
 ],
 "metadata": {
  "kernelspec": {
   "display_name": "Python 3 (ipykernel)",
   "language": "python",
   "name": "python3"
  },
  "language_info": {
   "codemirror_mode": {
    "name": "ipython",
    "version": 3
   },
   "file_extension": ".py",
   "mimetype": "text/x-python",
   "name": "python",
   "nbconvert_exporter": "python",
   "pygments_lexer": "ipython3",
   "version": "3.12.7"
  }
 },
 "nbformat": 4,
 "nbformat_minor": 5
}
