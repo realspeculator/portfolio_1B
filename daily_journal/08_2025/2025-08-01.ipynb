{
 "cells": [
  {
   "cell_type": "markdown",
   "id": "817b95ba-abab-473f-abe6-d50be99bdd51",
   "metadata": {},
   "source": [
    "#### 2025-08-01\n",
    "\n",
    "I started our trading journey on an eventful day.\n",
    "\n",
    "The market opened extremely bearish. Shorting it was like jumping on a fast moving train.\n",
    "\n",
    "\n"
   ]
  },
  {
   "cell_type": "markdown",
   "id": "05b8aa20-4b2a-4fa8-99b6-d68ae9ebe8f0",
   "metadata": {},
   "source": [
    "##### 10:50 AM"
   ]
  },
  {
   "cell_type": "markdown",
   "id": "52c47066-c74c-45a4-abff-73782995d3a5",
   "metadata": {},
   "source": [
    "    8/1/25\t01:00:00\tBAL\t--\tCash balance at the start of business day 01.08 CST\t--\t--\t--\t1,000,000,000.00\n",
    "\t09:41:44\tTRD\t5216285390\tSOLD -200,000 NVDA @172.91\t-584.44\t--\t34,582,000.00\t1,034,581,415.56\n",
    "\t09:45:18\tTRD\t5216298505\tSOLD -50,000 AAPL @208.42\t-176.11\t--\t10,421,000.00\t1,045,002,239.45\n",
    "\t09:47:58\tTRD\t5216306445\tBOT +10,000,000 SGOV @100.40\t--\t--\t-1,004,000,000.00\t41,002,239.45\n",
    "\t10:09:03\tTRD\t5216363081\tBOT +200,000 NVDA @172.85\t--\t--\t-34,570,000.00\t6,432,239.45\n",
    "\t10:30:23\tTRD\t5216412207\tBOT +12,000 NFLX @1172.03\t--\t--\t-14,064,360.00\t-7,632,120.55\n",
    "\t10:39:43\tTRD\t5216427947\tSOLD -100,000 GOOGL @189.76\t-320.69\t--\t18,976,000.00\t11,343,558.76\n",
    "\t10:41:47\tTRD\t5216431149\tBOT +150 SPX 100 (Weeklys) 1 AUG 25 6240 PUT @13.20\t-78.90\t-97.50\t-198,000.00\t11,145,382.36"
   ]
  },
  {
   "cell_type": "markdown",
   "id": "2e116c00-2509-4ab9-a2c4-b6c85fb036e6",
   "metadata": {},
   "source": [
    "Above are the trades done so far in the account."
   ]
  },
  {
   "cell_type": "markdown",
   "id": "eefb3111-894f-4615-b3cc-dc69eda4870e",
   "metadata": {},
   "source": [
    "##### 12:09\n",
    "\n",
    "    8/1/25\t01:00:00\tBAL\t--\tCash balance at the start of business day 01.08 CST\t--\t--\t--\t1,000,000,000.00\n",
    "\t09:41:44\tTRD\t5216285390\tSOLD -200,000 NVDA @172.91\t-584.44\t--\t34,582,000.00\t1,034,581,415.56\n",
    "\t09:45:18\tTRD\t5216298505\tSOLD -50,000 AAPL @208.42\t-176.11\t--\t10,421,000.00\t1,045,002,239.45\n",
    "\t09:47:58\tTRD\t5216306445\tBOT +10,000,000 SGOV @100.40\t--\t--\t-1,004,000,000.00\t41,002,239.45\n",
    "\t10:09:03\tTRD\t5216363081\tBOT +200,000 NVDA @172.85\t--\t--\t-34,570,000.00\t6,432,239.45\n",
    "\t10:30:23\tTRD\t5216412207\tBOT +12,000 NFLX @1172.03\t--\t--\t-14,064,360.00\t-7,632,120.55\n",
    "\t10:39:43\tTRD\t5216427947\tSOLD -100,000 GOOGL @189.76\t-320.69\t--\t18,976,000.00\t11,343,558.76\n",
    "\t10:41:47\tTRD\t5216431149\tBOT +150 SPX 100 (Weeklys) 1 AUG 25 6240 PUT @13.20\t-78.90\t-97.50\t-198,000.00\t11,145,382.36\n",
    "\t11:55:01\tTRD\t5216525172\tBOT +100,000 NVDA @176.08\t--\t--\t-17,608,000.00\t-6,462,617.64\n",
    "\t11:57:25\tTRD\t5216528506\tSOLD -150 SPX 100 (Weeklys) 1 AUG 25 6240 PUT @7.90\t-78.90\t-97.50\t118,500.00\t-6,344,294.04\n",
    "\t12:00:05\tTRD\t5216530515\tBOT +200 SPX 100 (Weeklys) 1 AUG 25 6255 CALL @15.90\t-105.20\t-130.00\t-318,000.00\t-6,662,529.24"
   ]
  },
  {
   "cell_type": "markdown",
   "id": "c0dbd11f-0f14-48e0-b734-e2e05839b0cd",
   "metadata": {},
   "source": [
    "Did a few more trades. I anticipate a short cover rally. So I reversed the position in SPX 0DTE. entered long NVDA. This being a summer friday, rally may not materialize."
   ]
  },
  {
   "cell_type": "markdown",
   "id": "95e34f7d-f3fd-4419-968b-3d267242b040",
   "metadata": {},
   "source": [
    "##### 12:38\n",
    "\n",
    "NVDA stalled here, and now moving back into the range again. So I reversed my positions again. Too much chop and the market is not trending either way. AAPL and GOOGL short seem to be working. NFLX has backed off a bit (down 1.35%) since intraday high."
   ]
  },
  {
   "cell_type": "markdown",
   "id": "1a31d14a-36ba-4530-a68a-6f477a075ef6",
   "metadata": {},
   "source": [
    "Forgot to paste the trades.\n",
    "\n",
    "    8/1/25\t01:00:00\tBAL\t--\tCash balance at the start of business day 01.08 CST\t--\t--\t--\t1,000,000,000.00\n",
    "\t09:41:44\tTRD\t5216285390\tSOLD -200,000 NVDA @172.91\t-584.44\t--\t34,582,000.00\t1,034,581,415.56\n",
    "\t09:45:18\tTRD\t5216298505\tSOLD -50,000 AAPL @208.42\t-176.11\t--\t10,421,000.00\t1,045,002,239.45\n",
    "\t09:47:58\tTRD\t5216306445\tBOT +10,000,000 SGOV @100.40\t--\t--\t-1,004,000,000.00\t41,002,239.45\n",
    "\t10:09:03\tTRD\t5216363081\tBOT +200,000 NVDA @172.85\t--\t--\t-34,570,000.00\t6,432,239.45\n",
    "\t10:30:23\tTRD\t5216412207\tBOT +12,000 NFLX @1172.03\t--\t--\t-14,064,360.00\t-7,632,120.55\n",
    "\t10:39:43\tTRD\t5216427947\tSOLD -100,000 GOOGL @189.76\t-320.69\t--\t18,976,000.00\t11,343,558.76\n",
    "\t10:41:47\tTRD\t5216431149\tBOT +150 SPX 100 (Weeklys) 1 AUG 25 6240 PUT @13.20\t-78.90\t-97.50\t-198,000.00\t11,145,382.36\n",
    "\t11:55:01\tTRD\t5216525172\tBOT +100,000 NVDA @176.08\t--\t--\t-17,608,000.00\t-6,462,617.64\n",
    "\t11:57:25\tTRD\t5216528506\tSOLD -150 SPX 100 (Weeklys) 1 AUG 25 6240 PUT @7.90\t-78.90\t-97.50\t118,500.00\t-6,344,294.04\n",
    "\t12:00:05\tTRD\t5216530515\tBOT +200 SPX 100 (Weeklys) 1 AUG 25 6255 CALL @15.90\t-105.20\t-130.00\t-318,000.00\t-6,662,529.24\n",
    "\t12:29:53\tTRD\t5216558960\tSOLD -100,000 NVDA @175.78\t-297.07\t--\t17,578,000.00\t10,915,173.69\n",
    "\t12:30:17\tTRD\t5216558986\tSOLD -200 SPX 100 (Weeklys) 1 AUG 25 6255 CALL @15.50\t-105.20\t-130.00\t310,000.00\t11,224,938.49\n",
    "\t12:35:25\tTRD\t5216564368\tSOLD -10,000 NVDA @175.78\t-29.71\t--\t1,757,800.00\t12,982,708.78\n",
    "\t12:36:05\tTRD\t5216564395\tSOLD -90,000 NVDA @175.84\t-267.45\t--\t15,825,600.00\t28,808,041.33"
   ]
  },
  {
   "cell_type": "markdown",
   "id": "119191f3-5bdc-4560-a7ee-b31a61113f70",
   "metadata": {},
   "source": [
    "##### 2:55\n",
    "\n",
    "Covered the NVDA short just after it started to boounce a bit. Still have AAPL and GOOGL short open. NFLX long doesn't appear to be working. Its like swimming against the tide. SPX has been choppy, but a wide range. I missed trading the extremes of SPX and may have traded poorly buying/selling in the middle of the range. I was able to read the single name stock moves well. GOOGL and AAPL could be held as a swing trade."
   ]
  },
  {
   "cell_type": "markdown",
   "id": "8137f140-8e82-43f7-bac2-84a7de0ec7c0",
   "metadata": {},
   "source": [
    "    8/1/25\t01:00:00\tBAL\t--\tCash balance at the start of business day 01.08 CST\t--\t--\t--\t1,000,000,000.00\n",
    "\t09:41:44\tTRD\t5216285390\tSOLD -200,000 NVDA @172.91\t-584.44\t--\t34,582,000.00\t1,034,581,415.56\n",
    "\t09:45:18\tTRD\t5216298505\tSOLD -50,000 AAPL @208.42\t-176.11\t--\t10,421,000.00\t1,045,002,239.45\n",
    "\t09:47:58\tTRD\t5216306445\tBOT +10,000,000 SGOV @100.40\t--\t--\t-1,004,000,000.00\t41,002,239.45\n",
    "\t10:09:03\tTRD\t5216363081\tBOT +200,000 NVDA @172.85\t--\t--\t-34,570,000.00\t6,432,239.45\n",
    "\t10:30:23\tTRD\t5216412207\tBOT +12,000 NFLX @1172.03\t--\t--\t-14,064,360.00\t-7,632,120.55\n",
    "\t10:39:43\tTRD\t5216427947\tSOLD -100,000 GOOGL @189.76\t-320.69\t--\t18,976,000.00\t11,343,558.76\n",
    "\t10:41:47\tTRD\t5216431149\tBOT +150 SPX 100 (Weeklys) 1 AUG 25 6240 PUT @13.20\t-78.90\t-97.50\t-198,000.00\t11,145,382.36\n",
    "\t11:55:01\tTRD\t5216525172\tBOT +100,000 NVDA @176.08\t--\t--\t-17,608,000.00\t-6,462,617.64\n",
    "\t11:57:25\tTRD\t5216528506\tSOLD -150 SPX 100 (Weeklys) 1 AUG 25 6240 PUT @7.90\t-78.90\t-97.50\t118,500.00\t-6,344,294.04\n",
    "\t12:00:05\tTRD\t5216530515\tBOT +200 SPX 100 (Weeklys) 1 AUG 25 6255 CALL @15.90\t-105.20\t-130.00\t-318,000.00\t-6,662,529.24\n",
    "\t12:29:53\tTRD\t5216558960\tSOLD -100,000 NVDA @175.78\t-297.07\t--\t17,578,000.00\t10,915,173.69\n",
    "\t12:30:17\tTRD\t5216558986\tSOLD -200 SPX 100 (Weeklys) 1 AUG 25 6255 CALL @15.50\t-105.20\t-130.00\t310,000.00\t11,224,938.49\n",
    "\t12:35:25\tTRD\t5216564368\tSOLD -10,000 NVDA @175.78\t-29.71\t--\t1,757,800.00\t12,982,708.78\n",
    "\t12:36:05\tTRD\t5216564395\tSOLD -90,000 NVDA @175.84\t-267.45\t--\t15,825,600.00\t28,808,041.33\n",
    "\t14:24:43\tTRD\t5216661040\tBOT +100,000 NVDA @172.84\t--\t--\t-17,284,000.00\t11,524,041.33"
   ]
  },
  {
   "cell_type": "markdown",
   "id": "118e3d4a-bbd2-47e2-8024-00f71e465bd4",
   "metadata": {},
   "source": [
    "Total Commission paid on these trades was $2500. I don't have any sophisticated software to see how much I paid in bid-ask spread. I'm also sticking to big name stocks and indexes which are highly liquid to make these trades."
   ]
  },
  {
   "cell_type": "code",
   "execution_count": null,
   "id": "9014e4de-5ccc-401d-b23b-aaf61d0b0ab6",
   "metadata": {},
   "outputs": [],
   "source": []
  }
 ],
 "metadata": {
  "kernelspec": {
   "display_name": "Python 3 (ipykernel)",
   "language": "python",
   "name": "python3"
  },
  "language_info": {
   "codemirror_mode": {
    "name": "ipython",
    "version": 3
   },
   "file_extension": ".py",
   "mimetype": "text/x-python",
   "name": "python",
   "nbconvert_exporter": "python",
   "pygments_lexer": "ipython3",
   "version": "3.12.7"
  }
 },
 "nbformat": 4,
 "nbformat_minor": 5
}
