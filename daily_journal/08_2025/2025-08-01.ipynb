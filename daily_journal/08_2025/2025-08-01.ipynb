{
 "cells": [
  {
   "cell_type": "markdown",
   "id": "817b95ba-abab-473f-abe6-d50be99bdd51",
   "metadata": {},
   "source": [
    "#### 2025-08-01\n",
    "\n",
    "I started our trading journey on an eventful day.\n",
    "\n",
    "The market opened extremely bearish. Shorting it was like jumping on a fast moving train.\n",
    "\n",
    "\n"
   ]
  },
  {
   "cell_type": "markdown",
   "id": "05b8aa20-4b2a-4fa8-99b6-d68ae9ebe8f0",
   "metadata": {},
   "source": [
    "##### 10:50 AM"
   ]
  },
  {
   "cell_type": "markdown",
   "id": "52c47066-c74c-45a4-abff-73782995d3a5",
   "metadata": {},
   "source": [
    "    8/1/25\t01:00:00\tBAL\t--\tCash balance at the start of business day 01.08 CST\t--\t--\t--\t1,000,000,000.00\n",
    "\t09:41:44\tTRD\t5216285390\tSOLD -200,000 NVDA @172.91\t-584.44\t--\t34,582,000.00\t1,034,581,415.56\n",
    "\t09:45:18\tTRD\t5216298505\tSOLD -50,000 AAPL @208.42\t-176.11\t--\t10,421,000.00\t1,045,002,239.45\n",
    "\t09:47:58\tTRD\t5216306445\tBOT +10,000,000 SGOV @100.40\t--\t--\t-1,004,000,000.00\t41,002,239.45\n",
    "\t10:09:03\tTRD\t5216363081\tBOT +200,000 NVDA @172.85\t--\t--\t-34,570,000.00\t6,432,239.45\n",
    "\t10:30:23\tTRD\t5216412207\tBOT +12,000 NFLX @1172.03\t--\t--\t-14,064,360.00\t-7,632,120.55\n",
    "\t10:39:43\tTRD\t5216427947\tSOLD -100,000 GOOGL @189.76\t-320.69\t--\t18,976,000.00\t11,343,558.76\n",
    "\t10:41:47\tTRD\t5216431149\tBOT +150 SPX 100 (Weeklys) 1 AUG 25 6240 PUT @13.20\t-78.90\t-97.50\t-198,000.00\t11,145,382.36"
   ]
  },
  {
   "cell_type": "markdown",
   "id": "2e116c00-2509-4ab9-a2c4-b6c85fb036e6",
   "metadata": {},
   "source": [
    "Above are the trades done so far in the account."
   ]
  },
  {
   "cell_type": "code",
   "execution_count": null,
   "id": "263258ce-dc5b-47b5-b00f-30ffa385f21b",
   "metadata": {},
   "outputs": [],
   "source": []
  }
 ],
 "metadata": {
  "kernelspec": {
   "display_name": "Python 3 (ipykernel)",
   "language": "python",
   "name": "python3"
  },
  "language_info": {
   "codemirror_mode": {
    "name": "ipython",
    "version": 3
   },
   "file_extension": ".py",
   "mimetype": "text/x-python",
   "name": "python",
   "nbconvert_exporter": "python",
   "pygments_lexer": "ipython3",
   "version": "3.12.7"
  }
 },
 "nbformat": 4,
 "nbformat_minor": 5
}
