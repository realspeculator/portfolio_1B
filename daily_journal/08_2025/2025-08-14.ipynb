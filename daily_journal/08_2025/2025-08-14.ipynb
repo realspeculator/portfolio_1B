{
 "cells": [
  {
   "cell_type": "markdown",
   "id": "4bfa497c-21d3-46e0-bb23-be61701ce78c",
   "metadata": {},
   "source": [
    "#### 2025-08-14"
   ]
  },
  {
   "cell_type": "markdown",
   "id": "633c7af7-4db1-406b-8223-298c45dc3ad7",
   "metadata": {},
   "source": [
    "7:04 AM\n",
    "\n",
    "Yesterday we saw a rotation from mega cap tech stocks into russell 2000 stocks. The russell 2000 was up almost 2%, while the Nasdaq closed flat.\n",
    "\n",
    "Yesterday I went long russell 2000 futures. Currently its indicated open is near it top range from yesterday. \n",
    "\n",
    "Both ES and Nasdaq have been sideways in the overnight session. They are both indicating to open within yesterday's range.\n",
    "\n",
    "At 8:30AM we have some important economic data release so markets may move out of this sideways action after the release. \n",
    "\n",
    "Lets start looking at the major markets."
   ]
  },
  {
   "cell_type": "markdown",
   "id": "a31a6781-a3e4-462d-9047-55cb04965b46",
   "metadata": {},
   "source": [
    "##### NQ\n",
    "![](https://private-user-images.githubusercontent.com/120210274/477986216-9198b097-629e-4731-abfb-66f4d21866be.png?jwt=eyJ0eXAiOiJKV1QiLCJhbGciOiJIUzI1NiJ9.eyJpc3MiOiJnaXRodWIuY29tIiwiYXVkIjoicmF3LmdpdGh1YnVzZXJjb250ZW50LmNvbSIsImtleSI6ImtleTUiLCJleHAiOjE3NTUxNzA2OTYsIm5iZiI6MTc1NTE3MDM5NiwicGF0aCI6Ii8xMjAyMTAyNzQvNDc3OTg2MjE2LTkxOThiMDk3LTYyOWUtNDczMS1hYmZiLTY2ZjRkMjE4NjZiZS5wbmc_WC1BbXotQWxnb3JpdGhtPUFXUzQtSE1BQy1TSEEyNTYmWC1BbXotQ3JlZGVudGlhbD1BS0lBVkNPRFlMU0E1M1BRSzRaQSUyRjIwMjUwODE0JTJGdXMtZWFzdC0xJTJGczMlMkZhd3M0X3JlcXVlc3QmWC1BbXotRGF0ZT0yMDI1MDgxNFQxMTE5NTZaJlgtQW16LUV4cGlyZXM9MzAwJlgtQW16LVNpZ25hdHVyZT1iYmUyM2Q1ZTVjMTdkMmU1OTA5MTU5ZmVkZGRhZTkyZjkwMjBkYmNiZDM3YTEyMWJlNjU2MjgwOWFiNzA4NmQzJlgtQW16LVNpZ25lZEhlYWRlcnM9aG9zdCJ9.Njzo7HmZC3zPkCZX_UHqEf5FZSjot6DlutQEmIxt0-U)"
   ]
  },
  {
   "cell_type": "markdown",
   "id": "7573ed78-408c-4585-88ad-e6c93a5dbd28",
   "metadata": {},
   "source": [
    "NQ is opening within the balance area. \n",
    "\n",
    "The high of this area is 23970\n",
    "\n",
    "The low of this area is 23887\n",
    "\n",
    "Between this area we could see a whole lot of choppy action. Be patient today."
   ]
  },
  {
   "attachments": {},
   "cell_type": "markdown",
   "id": "3189f583-a984-41b4-a039-76c04bd8abd9",
   "metadata": {},
   "source": [
    "##### ES\n",
    "\n",
    "![](https://private-user-images.githubusercontent.com/120210274/477987693-0927737c-17dd-45c0-a8fe-8b1ce795dd5c.png?jwt=eyJ0eXAiOiJKV1QiLCJhbGciOiJIUzI1NiJ9.eyJpc3MiOiJnaXRodWIuY29tIiwiYXVkIjoicmF3LmdpdGh1YnVzZXJjb250ZW50LmNvbSIsImtleSI6ImtleTUiLCJleHAiOjE3NTUxNzA5NjUsIm5iZiI6MTc1NTE3MDY2NSwicGF0aCI6Ii8xMjAyMTAyNzQvNDc3OTg3NjkzLTA5Mjc3MzdjLTE3ZGQtNDVjMC1hOGZlLThiMWNlNzk1ZGQ1Yy5wbmc_WC1BbXotQWxnb3JpdGhtPUFXUzQtSE1BQy1TSEEyNTYmWC1BbXotQ3JlZGVudGlhbD1BS0lBVkNPRFlMU0E1M1BRSzRaQSUyRjIwMjUwODE0JTJGdXMtZWFzdC0xJTJGczMlMkZhd3M0X3JlcXVlc3QmWC1BbXotRGF0ZT0yMDI1MDgxNFQxMTI0MjVaJlgtQW16LUV4cGlyZXM9MzAwJlgtQW16LVNpZ25hdHVyZT0wMTU3YjY4NWM2YzY0ZTQzNWIxYWE2MzI0YzY0OGQ2OWViNGY3NzUxNTBhMzRjZjE4ODM0MmZlNTE1MTBhMzVhJlgtQW16LVNpZ25lZEhlYWRlcnM9aG9zdCJ9.kbwIdRldybV05B-j2YXpUeGGD9JX1X-G8PheWpVLLdM)"
   ]
  },
  {
   "cell_type": "markdown",
   "id": "f8a5c7be-0cac-4153-8523-1474bb1acafd",
   "metadata": {},
   "source": [
    "ES has broken out of its July high and its now attempting to establish a value area above this range. We are at the half way mark for the month of August. So it needs to stay above the July high for 2 more weeks. A break below and back into July range could potentially prompt the weak longs to close their position and push prices lower.\n",
    "\n",
    "For now ES is above the range so the market is favoring a move to the upside."
   ]
  },
  {
   "cell_type": "markdown",
   "id": "79cd2d81-a0bb-4655-9080-0df85f185fee",
   "metadata": {},
   "source": [
    "##### 9:05 AM\n",
    "\n",
    "We got massively higher than expected PPI number. Futures have sold off since then. The odds of rate cuts in September may have gone lower now. This is hitting the small caps more than the large cap stocks. ES and Qs are down only 40bps. But the russell is down 130bps. We are exposed to the Russell long and the portfolio is now down 12bps. "
   ]
  },
  {
   "cell_type": "markdown",
   "id": "220370a6-27cf-47ba-995f-f33d83fd45be",
   "metadata": {},
   "source": [
    "##### QQQ\n",
    "\n",
    "![](https://private-user-images.githubusercontent.com/120210274/478023427-30578d2c-422a-41f3-ac6f-74946f628b89.png?jwt=eyJ0eXAiOiJKV1QiLCJhbGciOiJIUzI1NiJ9.eyJpc3MiOiJnaXRodWIuY29tIiwiYXVkIjoicmF3LmdpdGh1YnVzZXJjb250ZW50LmNvbSIsImtleSI6ImtleTUiLCJleHAiOjE3NTUxNzcwOTYsIm5iZiI6MTc1NTE3Njc5NiwicGF0aCI6Ii8xMjAyMTAyNzQvNDc4MDIzNDI3LTMwNTc4ZDJjLTQyMmEtNDFmMy1hYzZmLTc0OTQ2ZjYyOGI4OS5wbmc_WC1BbXotQWxnb3JpdGhtPUFXUzQtSE1BQy1TSEEyNTYmWC1BbXotQ3JlZGVudGlhbD1BS0lBVkNPRFlMU0E1M1BRSzRaQSUyRjIwMjUwODE0JTJGdXMtZWFzdC0xJTJGczMlMkZhd3M0X3JlcXVlc3QmWC1BbXotRGF0ZT0yMDI1MDgxNFQxMzA2MzZaJlgtQW16LUV4cGlyZXM9MzAwJlgtQW16LVNpZ25hdHVyZT1hZDA3M2RkZDUwOTgxNDNlMTRjOTkwYTdjODY0MzQzZDg0ZWJjZDkzMzZkMDJkZDc1Y2U4MDg4MTgyNzBiNjk1JlgtQW16LVNpZ25lZEhlYWRlcnM9aG9zdCJ9.5-EAUGavKVar62y84bviaee-TVNT4ADceJexpfCvnN4)"
   ]
  },
  {
   "cell_type": "markdown",
   "id": "c4550877-cd90-4dd6-8585-8278cab91390",
   "metadata": {},
   "source": [
    "The Q's are just trading above the July high. As I mentioned above, its important for the bulls to hold this level, because a pullback into the July range could cause a selloff. I will join in shorting the market below this balance area."
   ]
  },
  {
   "cell_type": "markdown",
   "id": "67e6e418-81d2-407e-9e22-7c358a456c26",
   "metadata": {},
   "source": [
    "##### Russell\n",
    "\n",
    "![](https://private-user-images.githubusercontent.com/120210274/478025282-c5599211-e941-4ae9-99c4-fc283dac2e4d.png?jwt=eyJ0eXAiOiJKV1QiLCJhbGciOiJIUzI1NiJ9.eyJpc3MiOiJnaXRodWIuY29tIiwiYXVkIjoicmF3LmdpdGh1YnVzZXJjb250ZW50LmNvbSIsImtleSI6ImtleTUiLCJleHAiOjE3NTUxNzczOTQsIm5iZiI6MTc1NTE3NzA5NCwicGF0aCI6Ii8xMjAyMTAyNzQvNDc4MDI1MjgyLWM1NTk5MjExLWU5NDEtNGFlOS05OWM0LWZjMjgzZGFjMmU0ZC5wbmc_WC1BbXotQWxnb3JpdGhtPUFXUzQtSE1BQy1TSEEyNTYmWC1BbXotQ3JlZGVudGlhbD1BS0lBVkNPRFlMU0E1M1BRSzRaQSUyRjIwMjUwODE0JTJGdXMtZWFzdC0xJTJGczMlMkZhd3M0X3JlcXVlc3QmWC1BbXotRGF0ZT0yMDI1MDgxNFQxMzExMzRaJlgtQW16LUV4cGlyZXM9MzAwJlgtQW16LVNpZ25hdHVyZT1kNjljMjQwNWVlNjlhOWQzMWJlN2FiNzk5NDQzOTE3N2RhNTkzMTlkZDhkZTJjNDkzZmIxMTliMTRkMjlmYWI0JlgtQW16LVNpZ25lZEhlYWRlcnM9aG9zdCJ9.oCBZPoqBuzxAFnweiHcCnhJN6jyX9FDCwDi5jYqeYOE)"
   ]
  },
  {
   "cell_type": "markdown",
   "id": "19d918ba-1179-4279-85b3-68b81ea6bac8",
   "metadata": {},
   "source": [
    "Russell is still above the balance area. I have a STOP loss in place, which I will cancel because I don't want tohe opening volatile session to prematurely take me out. Instead we want to see a balance area form here before making a decision. The risk however is that we just don't form any balance and straight go down into yesterday's range. I will closely monitor this level at open."
   ]
  },
  {
   "cell_type": "markdown",
   "id": "98b70fb1-6dc4-425c-803c-c4afe9451db4",
   "metadata": {},
   "source": [
    "##### ES\n",
    "\n",
    "![](https://private-user-images.githubusercontent.com/120210274/478026541-65e8232c-84da-484d-81d5-3bf0d635f865.png?jwt=eyJ0eXAiOiJKV1QiLCJhbGciOiJIUzI1NiJ9.eyJpc3MiOiJnaXRodWIuY29tIiwiYXVkIjoicmF3LmdpdGh1YnVzZXJjb250ZW50LmNvbSIsImtleSI6ImtleTUiLCJleHAiOjE3NTUxNzc1ODMsIm5iZiI6MTc1NTE3NzI4MywicGF0aCI6Ii8xMjAyMTAyNzQvNDc4MDI2NTQxLTY1ZTgyMzJjLTg0ZGEtNDg0ZC04MWQ1LTNiZjBkNjM1Zjg2NS5wbmc_WC1BbXotQWxnb3JpdGhtPUFXUzQtSE1BQy1TSEEyNTYmWC1BbXotQ3JlZGVudGlhbD1BS0lBVkNPRFlMU0E1M1BRSzRaQSUyRjIwMjUwODE0JTJGdXMtZWFzdC0xJTJGczMlMkZhd3M0X3JlcXVlc3QmWC1BbXotRGF0ZT0yMDI1MDgxNFQxMzE0NDNaJlgtQW16LUV4cGlyZXM9MzAwJlgtQW16LVNpZ25hdHVyZT01Y2FiNDMzNGM5MWJiYjgxNzQ0YmFkZTExMjk3MzIzYTVlZDNkYmI2Yjk5ZjFlMzE5OTQxZmY1OTI4ZWZkMzU5JlgtQW16LVNpZ25lZEhlYWRlcnM9aG9zdCJ9.CVwQuWlbKSuQgSCql4x4FyMwFeqZx3IF4Uny9MmC0zc)\n",
    "\n",
    "Similar to QQQ, the SPY is also just trading above the July high. What I said about QQQ holds for SPY as well. If one sells of I dont see what the other can't go back into the range as well."
   ]
  },
  {
   "cell_type": "code",
   "execution_count": null,
   "id": "be1efb76-98e9-4801-844b-c0368d1f8d54",
   "metadata": {},
   "outputs": [],
   "source": []
  }
 ],
 "metadata": {
  "kernelspec": {
   "display_name": "Python 3 (ipykernel)",
   "language": "python",
   "name": "python3"
  },
  "language_info": {
   "codemirror_mode": {
    "name": "ipython",
    "version": 3
   },
   "file_extension": ".py",
   "mimetype": "text/x-python",
   "name": "python",
   "nbconvert_exporter": "python",
   "pygments_lexer": "ipython3",
   "version": "3.12.7"
  }
 },
 "nbformat": 4,
 "nbformat_minor": 5
}
