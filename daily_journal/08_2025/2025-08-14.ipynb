{
 "cells": [
  {
   "cell_type": "markdown",
   "id": "4bfa497c-21d3-46e0-bb23-be61701ce78c",
   "metadata": {},
   "source": [
    "#### 2025-08-14"
   ]
  },
  {
   "cell_type": "markdown",
   "id": "633c7af7-4db1-406b-8223-298c45dc3ad7",
   "metadata": {},
   "source": [
    "7:04 AM\n",
    "\n",
    "Yesterday we saw a rotation from mega cap tech stocks into russell 2000 stocks. The russell 2000 was up almost 2%, while the Nasdaq closed flat.\n",
    "\n",
    "Yesterday I went long russell 2000 futures. Currently its indicated open is near it top range from yesterday. \n",
    "\n",
    "Both ES and Nasdaq have been sideways in the overnight session. They are both indicating to open within yesterday's range.\n",
    "\n",
    "At 8:30AM we have some important economic data release so markets may move out of this sideways action after the release. \n",
    "\n",
    "Lets start looking at the major markets."
   ]
  },
  {
   "cell_type": "markdown",
   "id": "a31a6781-a3e4-462d-9047-55cb04965b46",
   "metadata": {},
   "source": [
    "##### NQ\n",
    "![](https://private-user-images.githubusercontent.com/120210274/477986216-9198b097-629e-4731-abfb-66f4d21866be.png?jwt=eyJ0eXAiOiJKV1QiLCJhbGciOiJIUzI1NiJ9.eyJpc3MiOiJnaXRodWIuY29tIiwiYXVkIjoicmF3LmdpdGh1YnVzZXJjb250ZW50LmNvbSIsImtleSI6ImtleTUiLCJleHAiOjE3NTUxNzA2OTYsIm5iZiI6MTc1NTE3MDM5NiwicGF0aCI6Ii8xMjAyMTAyNzQvNDc3OTg2MjE2LTkxOThiMDk3LTYyOWUtNDczMS1hYmZiLTY2ZjRkMjE4NjZiZS5wbmc_WC1BbXotQWxnb3JpdGhtPUFXUzQtSE1BQy1TSEEyNTYmWC1BbXotQ3JlZGVudGlhbD1BS0lBVkNPRFlMU0E1M1BRSzRaQSUyRjIwMjUwODE0JTJGdXMtZWFzdC0xJTJGczMlMkZhd3M0X3JlcXVlc3QmWC1BbXotRGF0ZT0yMDI1MDgxNFQxMTE5NTZaJlgtQW16LUV4cGlyZXM9MzAwJlgtQW16LVNpZ25hdHVyZT1iYmUyM2Q1ZTVjMTdkMmU1OTA5MTU5ZmVkZGRhZTkyZjkwMjBkYmNiZDM3YTEyMWJlNjU2MjgwOWFiNzA4NmQzJlgtQW16LVNpZ25lZEhlYWRlcnM9aG9zdCJ9.Njzo7HmZC3zPkCZX_UHqEf5FZSjot6DlutQEmIxt0-U)"
   ]
  },
  {
   "cell_type": "markdown",
   "id": "7573ed78-408c-4585-88ad-e6c93a5dbd28",
   "metadata": {},
   "source": [
    "NQ is opening within the balance area. \n",
    "\n",
    "The high of this area is 23970\n",
    "\n",
    "The low of this area is 23887\n",
    "\n",
    "Between this area we could see a whole lot of choppy action. Be patient today."
   ]
  },
  {
   "attachments": {},
   "cell_type": "markdown",
   "id": "3189f583-a984-41b4-a039-76c04bd8abd9",
   "metadata": {},
   "source": [
    "##### ES\n",
    "\n",
    "![](https://private-user-images.githubusercontent.com/120210274/477987693-0927737c-17dd-45c0-a8fe-8b1ce795dd5c.png?jwt=eyJ0eXAiOiJKV1QiLCJhbGciOiJIUzI1NiJ9.eyJpc3MiOiJnaXRodWIuY29tIiwiYXVkIjoicmF3LmdpdGh1YnVzZXJjb250ZW50LmNvbSIsImtleSI6ImtleTUiLCJleHAiOjE3NTUxNzA5NjUsIm5iZiI6MTc1NTE3MDY2NSwicGF0aCI6Ii8xMjAyMTAyNzQvNDc3OTg3NjkzLTA5Mjc3MzdjLTE3ZGQtNDVjMC1hOGZlLThiMWNlNzk1ZGQ1Yy5wbmc_WC1BbXotQWxnb3JpdGhtPUFXUzQtSE1BQy1TSEEyNTYmWC1BbXotQ3JlZGVudGlhbD1BS0lBVkNPRFlMU0E1M1BRSzRaQSUyRjIwMjUwODE0JTJGdXMtZWFzdC0xJTJGczMlMkZhd3M0X3JlcXVlc3QmWC1BbXotRGF0ZT0yMDI1MDgxNFQxMTI0MjVaJlgtQW16LUV4cGlyZXM9MzAwJlgtQW16LVNpZ25hdHVyZT0wMTU3YjY4NWM2YzY0ZTQzNWIxYWE2MzI0YzY0OGQ2OWViNGY3NzUxNTBhMzRjZjE4ODM0MmZlNTE1MTBhMzVhJlgtQW16LVNpZ25lZEhlYWRlcnM9aG9zdCJ9.kbwIdRldybV05B-j2YXpUeGGD9JX1X-G8PheWpVLLdM)"
   ]
  },
  {
   "cell_type": "markdown",
   "id": "f8a5c7be-0cac-4153-8523-1474bb1acafd",
   "metadata": {},
   "source": [
    "ES has broken out of its July high and its now attempting to establish a value area above this range. We are at the half way mark for the month of August. So it needs to stay above the July high for 2 more weeks. A break below and back into July range could potentially prompt the weak longs to close their position and push prices lower.\n",
    "\n",
    "For now ES is above the range so the market is favoring a move to the upside."
   ]
  },
  {
   "cell_type": "code",
   "execution_count": null,
   "id": "06f42269-eaf6-4997-bd44-e217746c094e",
   "metadata": {},
   "outputs": [],
   "source": []
  }
 ],
 "metadata": {
  "kernelspec": {
   "display_name": "Python 3 (ipykernel)",
   "language": "python",
   "name": "python3"
  },
  "language_info": {
   "codemirror_mode": {
    "name": "ipython",
    "version": 3
   },
   "file_extension": ".py",
   "mimetype": "text/x-python",
   "name": "python",
   "nbconvert_exporter": "python",
   "pygments_lexer": "ipython3",
   "version": "3.12.7"
  }
 },
 "nbformat": 4,
 "nbformat_minor": 5
}
