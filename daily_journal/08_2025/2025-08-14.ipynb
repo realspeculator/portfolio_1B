{
 "cells": [
  {
   "cell_type": "markdown",
   "id": "4bfa497c-21d3-46e0-bb23-be61701ce78c",
   "metadata": {},
   "source": [
    "#### 2025-08-14"
   ]
  },
  {
   "cell_type": "markdown",
   "id": "633c7af7-4db1-406b-8223-298c45dc3ad7",
   "metadata": {},
   "source": [
    "7:04 AM\n",
    "\n",
    "Yesterday we saw a rotation from mega cap tech stocks into russell 2000 stocks. The russell 2000 was up almost 2%, while the Nasdaq closed flat.\n",
    "\n",
    "Yesterday I went long russell 2000 futures. Currently its indicated open is near it top range from yesterday. \n",
    "\n",
    "Both ES and Nasdaq have been sideways in the overnight session. They are both indicating to open within yesterday's range.\n",
    "\n",
    "At 8:30AM we have some important economic data release so markets may move out of this sideways action after the release. \n",
    "\n",
    "Lets start looking at the major markets."
   ]
  },
  {
   "cell_type": "markdown",
   "id": "a31a6781-a3e4-462d-9047-55cb04965b46",
   "metadata": {},
   "source": [
    "##### NQ\n",
    "![](https://private-user-images.githubusercontent.com/120210274/477986216-9198b097-629e-4731-abfb-66f4d21866be.png?jwt=eyJ0eXAiOiJKV1QiLCJhbGciOiJIUzI1NiJ9.eyJpc3MiOiJnaXRodWIuY29tIiwiYXVkIjoicmF3LmdpdGh1YnVzZXJjb250ZW50LmNvbSIsImtleSI6ImtleTUiLCJleHAiOjE3NTUxNzA2OTYsIm5iZiI6MTc1NTE3MDM5NiwicGF0aCI6Ii8xMjAyMTAyNzQvNDc3OTg2MjE2LTkxOThiMDk3LTYyOWUtNDczMS1hYmZiLTY2ZjRkMjE4NjZiZS5wbmc_WC1BbXotQWxnb3JpdGhtPUFXUzQtSE1BQy1TSEEyNTYmWC1BbXotQ3JlZGVudGlhbD1BS0lBVkNPRFlMU0E1M1BRSzRaQSUyRjIwMjUwODE0JTJGdXMtZWFzdC0xJTJGczMlMkZhd3M0X3JlcXVlc3QmWC1BbXotRGF0ZT0yMDI1MDgxNFQxMTE5NTZaJlgtQW16LUV4cGlyZXM9MzAwJlgtQW16LVNpZ25hdHVyZT1iYmUyM2Q1ZTVjMTdkMmU1OTA5MTU5ZmVkZGRhZTkyZjkwMjBkYmNiZDM3YTEyMWJlNjU2MjgwOWFiNzA4NmQzJlgtQW16LVNpZ25lZEhlYWRlcnM9aG9zdCJ9.Njzo7HmZC3zPkCZX_UHqEf5FZSjot6DlutQEmIxt0-U)"
   ]
  },
  {
   "cell_type": "markdown",
   "id": "7573ed78-408c-4585-88ad-e6c93a5dbd28",
   "metadata": {},
   "source": [
    "NQ is opening within the balance area. \n",
    "\n",
    "The high of this area is 23970\n",
    "\n",
    "The low of this area is 23887\n",
    "\n",
    "Between this area we could see a whole lot of choppy action. Be patient today."
   ]
  },
  {
   "attachments": {},
   "cell_type": "markdown",
   "id": "3189f583-a984-41b4-a039-76c04bd8abd9",
   "metadata": {},
   "source": [
    "##### ES\n",
    "\n",
    "![](https://private-user-images.githubusercontent.com/120210274/477987693-0927737c-17dd-45c0-a8fe-8b1ce795dd5c.png?jwt=eyJ0eXAiOiJKV1QiLCJhbGciOiJIUzI1NiJ9.eyJpc3MiOiJnaXRodWIuY29tIiwiYXVkIjoicmF3LmdpdGh1YnVzZXJjb250ZW50LmNvbSIsImtleSI6ImtleTUiLCJleHAiOjE3NTUxNzA5NjUsIm5iZiI6MTc1NTE3MDY2NSwicGF0aCI6Ii8xMjAyMTAyNzQvNDc3OTg3NjkzLTA5Mjc3MzdjLTE3ZGQtNDVjMC1hOGZlLThiMWNlNzk1ZGQ1Yy5wbmc_WC1BbXotQWxnb3JpdGhtPUFXUzQtSE1BQy1TSEEyNTYmWC1BbXotQ3JlZGVudGlhbD1BS0lBVkNPRFlMU0E1M1BRSzRaQSUyRjIwMjUwODE0JTJGdXMtZWFzdC0xJTJGczMlMkZhd3M0X3JlcXVlc3QmWC1BbXotRGF0ZT0yMDI1MDgxNFQxMTI0MjVaJlgtQW16LUV4cGlyZXM9MzAwJlgtQW16LVNpZ25hdHVyZT0wMTU3YjY4NWM2YzY0ZTQzNWIxYWE2MzI0YzY0OGQ2OWViNGY3NzUxNTBhMzRjZjE4ODM0MmZlNTE1MTBhMzVhJlgtQW16LVNpZ25lZEhlYWRlcnM9aG9zdCJ9.kbwIdRldybV05B-j2YXpUeGGD9JX1X-G8PheWpVLLdM)"
   ]
  },
  {
   "cell_type": "markdown",
   "id": "f8a5c7be-0cac-4153-8523-1474bb1acafd",
   "metadata": {},
   "source": [
    "ES has broken out of its July high and its now attempting to establish a value area above this range. We are at the half way mark for the month of August. So it needs to stay above the July high for 2 more weeks. A break below and back into July range could potentially prompt the weak longs to close their position and push prices lower.\n",
    "\n",
    "For now ES is above the range so the market is favoring a move to the upside."
   ]
  },
  {
   "cell_type": "markdown",
   "id": "79cd2d81-a0bb-4655-9080-0df85f185fee",
   "metadata": {},
   "source": [
    "##### 9:05 AM\n",
    "\n",
    "We got massively higher than expected PPI number. Futures have sold off since then. The odds of rate cuts in September may have gone lower now. This is hitting the small caps more than the large cap stocks. ES and Qs are down only 40bps. But the russell is down 130bps. We are exposed to the Russell long and the portfolio is now down 12bps. "
   ]
  },
  {
   "cell_type": "markdown",
   "id": "220370a6-27cf-47ba-995f-f33d83fd45be",
   "metadata": {},
   "source": [
    "##### QQQ\n",
    "\n",
    "![](https://private-user-images.githubusercontent.com/120210274/478023427-30578d2c-422a-41f3-ac6f-74946f628b89.png?jwt=eyJ0eXAiOiJKV1QiLCJhbGciOiJIUzI1NiJ9.eyJpc3MiOiJnaXRodWIuY29tIiwiYXVkIjoicmF3LmdpdGh1YnVzZXJjb250ZW50LmNvbSIsImtleSI6ImtleTUiLCJleHAiOjE3NTUxNzcwOTYsIm5iZiI6MTc1NTE3Njc5NiwicGF0aCI6Ii8xMjAyMTAyNzQvNDc4MDIzNDI3LTMwNTc4ZDJjLTQyMmEtNDFmMy1hYzZmLTc0OTQ2ZjYyOGI4OS5wbmc_WC1BbXotQWxnb3JpdGhtPUFXUzQtSE1BQy1TSEEyNTYmWC1BbXotQ3JlZGVudGlhbD1BS0lBVkNPRFlMU0E1M1BRSzRaQSUyRjIwMjUwODE0JTJGdXMtZWFzdC0xJTJGczMlMkZhd3M0X3JlcXVlc3QmWC1BbXotRGF0ZT0yMDI1MDgxNFQxMzA2MzZaJlgtQW16LUV4cGlyZXM9MzAwJlgtQW16LVNpZ25hdHVyZT1hZDA3M2RkZDUwOTgxNDNlMTRjOTkwYTdjODY0MzQzZDg0ZWJjZDkzMzZkMDJkZDc1Y2U4MDg4MTgyNzBiNjk1JlgtQW16LVNpZ25lZEhlYWRlcnM9aG9zdCJ9.5-EAUGavKVar62y84bviaee-TVNT4ADceJexpfCvnN4)"
   ]
  },
  {
   "cell_type": "markdown",
   "id": "c4550877-cd90-4dd6-8585-8278cab91390",
   "metadata": {},
   "source": [
    "The Q's are just trading above the July high. As I mentioned above, its important for the bulls to hold this level, because a pullback into the July range could cause a selloff. I will join in shorting the market below this balance area."
   ]
  },
  {
   "cell_type": "markdown",
   "id": "67e6e418-81d2-407e-9e22-7c358a456c26",
   "metadata": {},
   "source": [
    "##### Russell\n",
    "\n",
    "![](https://private-user-images.githubusercontent.com/120210274/478025282-c5599211-e941-4ae9-99c4-fc283dac2e4d.png?jwt=eyJ0eXAiOiJKV1QiLCJhbGciOiJIUzI1NiJ9.eyJpc3MiOiJnaXRodWIuY29tIiwiYXVkIjoicmF3LmdpdGh1YnVzZXJjb250ZW50LmNvbSIsImtleSI6ImtleTUiLCJleHAiOjE3NTUxNzczOTQsIm5iZiI6MTc1NTE3NzA5NCwicGF0aCI6Ii8xMjAyMTAyNzQvNDc4MDI1MjgyLWM1NTk5MjExLWU5NDEtNGFlOS05OWM0LWZjMjgzZGFjMmU0ZC5wbmc_WC1BbXotQWxnb3JpdGhtPUFXUzQtSE1BQy1TSEEyNTYmWC1BbXotQ3JlZGVudGlhbD1BS0lBVkNPRFlMU0E1M1BRSzRaQSUyRjIwMjUwODE0JTJGdXMtZWFzdC0xJTJGczMlMkZhd3M0X3JlcXVlc3QmWC1BbXotRGF0ZT0yMDI1MDgxNFQxMzExMzRaJlgtQW16LUV4cGlyZXM9MzAwJlgtQW16LVNpZ25hdHVyZT1kNjljMjQwNWVlNjlhOWQzMWJlN2FiNzk5NDQzOTE3N2RhNTkzMTlkZDhkZTJjNDkzZmIxMTliMTRkMjlmYWI0JlgtQW16LVNpZ25lZEhlYWRlcnM9aG9zdCJ9.oCBZPoqBuzxAFnweiHcCnhJN6jyX9FDCwDi5jYqeYOE)"
   ]
  },
  {
   "cell_type": "markdown",
   "id": "19d918ba-1179-4279-85b3-68b81ea6bac8",
   "metadata": {},
   "source": [
    "Russell is still above the balance area. I have a STOP loss in place, which I will cancel because I don't want tohe opening volatile session to prematurely take me out. Instead we want to see a balance area form here before making a decision. The risk however is that we just don't form any balance and straight go down into yesterday's range. I will closely monitor this level at open."
   ]
  },
  {
   "cell_type": "markdown",
   "id": "98b70fb1-6dc4-425c-803c-c4afe9451db4",
   "metadata": {},
   "source": [
    "##### ES\n",
    "\n",
    "![](https://private-user-images.githubusercontent.com/120210274/478026541-65e8232c-84da-484d-81d5-3bf0d635f865.png?jwt=eyJ0eXAiOiJKV1QiLCJhbGciOiJIUzI1NiJ9.eyJpc3MiOiJnaXRodWIuY29tIiwiYXVkIjoicmF3LmdpdGh1YnVzZXJjb250ZW50LmNvbSIsImtleSI6ImtleTUiLCJleHAiOjE3NTUxNzc1ODMsIm5iZiI6MTc1NTE3NzI4MywicGF0aCI6Ii8xMjAyMTAyNzQvNDc4MDI2NTQxLTY1ZTgyMzJjLTg0ZGEtNDg0ZC04MWQ1LTNiZjBkNjM1Zjg2NS5wbmc_WC1BbXotQWxnb3JpdGhtPUFXUzQtSE1BQy1TSEEyNTYmWC1BbXotQ3JlZGVudGlhbD1BS0lBVkNPRFlMU0E1M1BRSzRaQSUyRjIwMjUwODE0JTJGdXMtZWFzdC0xJTJGczMlMkZhd3M0X3JlcXVlc3QmWC1BbXotRGF0ZT0yMDI1MDgxNFQxMzE0NDNaJlgtQW16LUV4cGlyZXM9MzAwJlgtQW16LVNpZ25hdHVyZT01Y2FiNDMzNGM5MWJiYjgxNzQ0YmFkZTExMjk3MzIzYTVlZDNkYmI2Yjk5ZjFlMzE5OTQxZmY1OTI4ZWZkMzU5JlgtQW16LVNpZ25lZEhlYWRlcnM9aG9zdCJ9.CVwQuWlbKSuQgSCql4x4FyMwFeqZx3IF4Uny9MmC0zc)\n",
    "\n",
    "Similar to QQQ, the SPY is also just trading above the July high. What I said about QQQ holds for SPY as well. If one sells of I dont see what the other can't go back into the range as well."
   ]
  },
  {
   "cell_type": "markdown",
   "id": "160ff7e4-e922-4692-be4e-f0d055d3a47c",
   "metadata": {},
   "source": [
    "##### 9:44 AM\n",
    "\n",
    "Closed RTY \n",
    "\n",
    "Long NQ\n"
   ]
  },
  {
   "cell_type": "markdown",
   "id": "baa4000b-212a-4761-87c4-9f4434c26764",
   "metadata": {},
   "source": [
    "##### 9:52\n",
    "\n",
    "Flatten NQ at 23594. Portfolio now down only 3bps since yesterday. \n",
    "\n",
    "![](https://private-user-images.githubusercontent.com/120210274/478042588-a6bdf747-ede9-44c1-8986-a4260b29d7db.png?jwt=eyJ0eXAiOiJKV1QiLCJhbGciOiJIUzI1NiJ9.eyJpc3MiOiJnaXRodWIuY29tIiwiYXVkIjoicmF3LmdpdGh1YnVzZXJjb250ZW50LmNvbSIsImtleSI6ImtleTUiLCJleHAiOjE3NTUxNzk5MzIsIm5iZiI6MTc1NTE3OTYzMiwicGF0aCI6Ii8xMjAyMTAyNzQvNDc4MDQyNTg4LWE2YmRmNzQ3LWVkZTktNDRjMS04OTg2LWE0MjYwYjI5ZDdkYi5wbmc_WC1BbXotQWxnb3JpdGhtPUFXUzQtSE1BQy1TSEEyNTYmWC1BbXotQ3JlZGVudGlhbD1BS0lBVkNPRFlMU0E1M1BRSzRaQSUyRjIwMjUwODE0JTJGdXMtZWFzdC0xJTJGczMlMkZhd3M0X3JlcXVlc3QmWC1BbXotRGF0ZT0yMDI1MDgxNFQxMzUzNTJaJlgtQW16LUV4cGlyZXM9MzAwJlgtQW16LVNpZ25hdHVyZT02ODE2NzdiYzg2MDAwZmVhMDI5ZDE5OWFlMTkyN2IwM2MzNDg5MDFiOTA1MzhiMzU1ZmViNWJhNTQyY2RjZGI4JlgtQW16LVNpZ25lZEhlYWRlcnM9aG9zdCJ9.YebEHr3INZMkzVAWajKRtz_7c5khnqLJZNq50P9Ji2o)"
   ]
  },
  {
   "cell_type": "markdown",
   "id": "9c68f402-44b0-4471-8064-9b17489ed54b",
   "metadata": {},
   "source": [
    "##### 10:17 AM\n",
    "\n",
    "NQ and ES are almost flat, but Russell is down about 1.5%. Moreover its forming a balance area at the lows of yesterday's range. This is also the breakout area from day before yesterday. Still the first half hour low is holding well. \n",
    "\n",
    "![](https://private-user-images.githubusercontent.com/120210274/478052016-3ca13261-3c7f-4884-b705-44c5fd58048b.png?jwt=eyJ0eXAiOiJKV1QiLCJhbGciOiJIUzI1NiJ9.eyJpc3MiOiJnaXRodWIuY29tIiwiYXVkIjoicmF3LmdpdGh1YnVzZXJjb250ZW50LmNvbSIsImtleSI6ImtleTUiLCJleHAiOjE3NTUxODEzMTQsIm5iZiI6MTc1NTE4MTAxNCwicGF0aCI6Ii8xMjAyMTAyNzQvNDc4MDUyMDE2LTNjYTEzMjYxLTNjN2YtNDg4NC1iNzA1LTQ0YzVmZDU4MDQ4Yi5wbmc_WC1BbXotQWxnb3JpdGhtPUFXUzQtSE1BQy1TSEEyNTYmWC1BbXotQ3JlZGVudGlhbD1BS0lBVkNPRFlMU0E1M1BRSzRaQSUyRjIwMjUwODE0JTJGdXMtZWFzdC0xJTJGczMlMkZhd3M0X3JlcXVlc3QmWC1BbXotRGF0ZT0yMDI1MDgxNFQxNDE2NTRaJlgtQW16LUV4cGlyZXM9MzAwJlgtQW16LVNpZ25hdHVyZT00MTYxYTY5NjJjOGZhMmU0ZTNkNDI2ZTlkMjZiODI1M2E5NjA4MTQ2NTliZDM1ZDFkNWE3ZjIzODhkNTg4ODMxJlgtQW16LVNpZ25lZEhlYWRlcnM9aG9zdCJ9.xPA64k4dWTfRZVsd78ggfnQFxcNDsQ0-1xr0io9Y680)"
   ]
  },
  {
   "cell_type": "markdown",
   "id": "2f260782-c0a8-45f7-b75b-58a2fd954861",
   "metadata": {},
   "source": [
    "##### Fed Watch\n",
    "\n",
    "The probability of September rate cut is still very high\n",
    "\n",
    "![](https://private-user-images.githubusercontent.com/120210274/478055230-2613be3d-2d6c-4ca1-b5fb-b041dc39049a.png?jwt=eyJ0eXAiOiJKV1QiLCJhbGciOiJIUzI1NiJ9.eyJpc3MiOiJnaXRodWIuY29tIiwiYXVkIjoicmF3LmdpdGh1YnVzZXJjb250ZW50LmNvbSIsImtleSI6ImtleTUiLCJleHAiOjE3NTUxODE3NzYsIm5iZiI6MTc1NTE4MTQ3NiwicGF0aCI6Ii8xMjAyMTAyNzQvNDc4MDU1MjMwLTI2MTNiZTNkLTJkNmMtNGNhMS1iNWZiLWIwNDFkYzM5MDQ5YS5wbmc_WC1BbXotQWxnb3JpdGhtPUFXUzQtSE1BQy1TSEEyNTYmWC1BbXotQ3JlZGVudGlhbD1BS0lBVkNPRFlMU0E1M1BRSzRaQSUyRjIwMjUwODE0JTJGdXMtZWFzdC0xJTJGczMlMkZhd3M0X3JlcXVlc3QmWC1BbXotRGF0ZT0yMDI1MDgxNFQxNDI0MzZaJlgtQW16LUV4cGlyZXM9MzAwJlgtQW16LVNpZ25hdHVyZT00MmVhYjU1MWQwN2Y5YWQ2Nzc0ZTY4MDcxOTRjZDRiODAwNDE5YjdjYjc4MjY5MGQ2NDZjNDkwMWQyOTIwZjQ0JlgtQW16LVNpZ25lZEhlYWRlcnM9aG9zdCJ9.R3h33K87QGh3Dxcpj82ARn6ejiuXV3-iqxrxqM6cbNM)\n",
    "\n",
    "So this selloff in small cap cannot be entirely due to that.\n",
    "\n",
    "##### 10:26\n",
    "\n",
    "Russell just broke below the first 30min low."
   ]
  },
  {
   "cell_type": "markdown",
   "id": "b7e99f9f-3c0e-4634-b881-6d13fffe8fc0",
   "metadata": {},
   "source": [
    "![](https://private-user-images.githubusercontent.com/120210274/478031876-921cfab4-e64d-4715-a84e-17a9dcb0e83d.png?jwt=eyJ0eXAiOiJKV1QiLCJhbGciOiJIUzI1NiJ9.eyJpc3MiOiJnaXRodWIuY29tIiwiYXVkIjoicmF3LmdpdGh1YnVzZXJjb250ZW50LmNvbSIsImtleSI6ImtleTUiLCJleHAiOjE3NTUxODE1ODIsIm5iZiI6MTc1NTE4MTI4MiwicGF0aCI6Ii8xMjAyMTAyNzQvNDc4MDMxODc2LTkyMWNmYWI0LWU2NGQtNDcxNS1hODRlLTE3YTlkY2IwZTgzZC5wbmc_WC1BbXotQWxnb3JpdGhtPUFXUzQtSE1BQy1TSEEyNTYmWC1BbXotQ3JlZGVudGlhbD1BS0lBVkNPRFlMU0E1M1BRSzRaQSUyRjIwMjUwODE0JTJGdXMtZWFzdC0xJTJGczMlMkZhd3M0X3JlcXVlc3QmWC1BbXotRGF0ZT0yMDI1MDgxNFQxNDIxMjJaJlgtQW16LUV4cGlyZXM9MzAwJlgtQW16LVNpZ25hdHVyZT05ZmIyOTAyMTcyNTNkZjRhNGJhZTRmOGVkOGIyZDU0ZGVlNGQ2OWEzN2M0Zjk5NzhiZWM4ODg1NzE3YjdhNDczJlgtQW16LVNpZ25lZEhlYWRlcnM9aG9zdCJ9.UUjery8t2PAmiBRh_MlGC6J29O5s_JyMtTYHdjjY0mw)"
   ]
  },
  {
   "cell_type": "markdown",
   "id": "fd7534c7-e842-4567-93f8-ba4037274959",
   "metadata": {},
   "source": [
    "##### 10:28AM\n",
    "\n",
    "![](https://private-user-images.githubusercontent.com/120210274/478056637-439f3c17-ee83-488f-af0e-6cdbaa8fbdf7.png?jwt=eyJ0eXAiOiJKV1QiLCJhbGciOiJIUzI1NiJ9.eyJpc3MiOiJnaXRodWIuY29tIiwiYXVkIjoicmF3LmdpdGh1YnVzZXJjb250ZW50LmNvbSIsImtleSI6ImtleTUiLCJleHAiOjE3NTUxODE5ODMsIm5iZiI6MTc1NTE4MTY4MywicGF0aCI6Ii8xMjAyMTAyNzQvNDc4MDU2NjM3LTQzOWYzYzE3LWVlODMtNDg4Zi1hZjBlLTZjZGJhYThmYmRmNy5wbmc_WC1BbXotQWxnb3JpdGhtPUFXUzQtSE1BQy1TSEEyNTYmWC1BbXotQ3JlZGVudGlhbD1BS0lBVkNPRFlMU0E1M1BRSzRaQSUyRjIwMjUwODE0JTJGdXMtZWFzdC0xJTJGczMlMkZhd3M0X3JlcXVlc3QmWC1BbXotRGF0ZT0yMDI1MDgxNFQxNDI4MDNaJlgtQW16LUV4cGlyZXM9MzAwJlgtQW16LVNpZ25hdHVyZT05YzlkZGZiNWYxMTM5ZWIyN2E2YjhhOTBhNGE2NmJmMmNjNjNkODM3NGEzNWYzYTE0YjgwZmE0MGEzNzVhZmY0JlgtQW16LVNpZ25lZEhlYWRlcnM9aG9zdCJ9.YnqzELsq5Z5NBCwyCg2eDBFi7o3W_LmInbyByjSCOsM)\n",
    "\n",
    "I may go long if we get back into yesterday's trading range."
   ]
  },
  {
   "cell_type": "markdown",
   "id": "f475434a-7d4d-45fe-80ca-d6991da721a8",
   "metadata": {},
   "source": [
    "##### 10:30 AM\n",
    "\n",
    "Went long 600 RTY. Very tight stop. Risking only 1.2bps"
   ]
  },
  {
   "cell_type": "markdown",
   "id": "fbddf0fe-4dab-4bdc-85a4-9414381fd9b8",
   "metadata": {},
   "source": [
    "##### 11:02AM\n",
    "\n",
    "![](https://private-user-images.githubusercontent.com/120210274/478071862-3b6030bd-2a16-4041-b1a5-41242ef0b35a.png?jwt=eyJ0eXAiOiJKV1QiLCJhbGciOiJIUzI1NiJ9.eyJpc3MiOiJnaXRodWIuY29tIiwiYXVkIjoicmF3LmdpdGh1YnVzZXJjb250ZW50LmNvbSIsImtleSI6ImtleTUiLCJleHAiOjE3NTUxODQwNTgsIm5iZiI6MTc1NTE4Mzc1OCwicGF0aCI6Ii8xMjAyMTAyNzQvNDc4MDcxODYyLTNiNjAzMGJkLTJhMTYtNDA0MS1iMWE1LTQxMjQyZWYwYjM1YS5wbmc_WC1BbXotQWxnb3JpdGhtPUFXUzQtSE1BQy1TSEEyNTYmWC1BbXotQ3JlZGVudGlhbD1BS0lBVkNPRFlMU0E1M1BRSzRaQSUyRjIwMjUwODE0JTJGdXMtZWFzdC0xJTJGczMlMkZhd3M0X3JlcXVlc3QmWC1BbXotRGF0ZT0yMDI1MDgxNFQxNTAyMzhaJlgtQW16LUV4cGlyZXM9MzAwJlgtQW16LVNpZ25hdHVyZT03Y2M5NDljNWQxYjI1ZDQ4MDFlNzY1OGJlNTM3ZDZlNjc5Mjc5MzQwZDEyNzMxOWUwNWRiNTA5NTNhNjViODY2JlgtQW16LVNpZ25lZEhlYWRlcnM9aG9zdCJ9.UGG8aObO5kLW862-vbv6Gaa1rcD00lDFB9VGokM4YCY)\n",
    "\n",
    "Long 600 NQ"
   ]
  },
  {
   "cell_type": "markdown",
   "id": "7327241d-7cb3-48a1-83ec-3598ac164398",
   "metadata": {},
   "source": [
    "![](https://private-user-images.githubusercontent.com/120210274/478076780-c79f1594-0ab0-4d96-bd52-1911aa09743e.png?jwt=eyJ0eXAiOiJKV1QiLCJhbGciOiJIUzI1NiJ9.eyJpc3MiOiJnaXRodWIuY29tIiwiYXVkIjoicmF3LmdpdGh1YnVzZXJjb250ZW50LmNvbSIsImtleSI6ImtleTUiLCJleHAiOjE3NTUxODQ2OTEsIm5iZiI6MTc1NTE4NDM5MSwicGF0aCI6Ii8xMjAyMTAyNzQvNDc4MDc2NzgwLWM3OWYxNTk0LTBhYjAtNGQ5Ni1iZDUyLTE5MTFhYTA5NzQzZS5wbmc_WC1BbXotQWxnb3JpdGhtPUFXUzQtSE1BQy1TSEEyNTYmWC1BbXotQ3JlZGVudGlhbD1BS0lBVkNPRFlMU0E1M1BRSzRaQSUyRjIwMjUwODE0JTJGdXMtZWFzdC0xJTJGczMlMkZhd3M0X3JlcXVlc3QmWC1BbXotRGF0ZT0yMDI1MDgxNFQxNTEzMTFaJlgtQW16LUV4cGlyZXM9MzAwJlgtQW16LVNpZ25hdHVyZT1kZDUxNWRkMTc5ODc4MDc3NWZhMDhjZDNhMjgzNmRmOGUzYzVhMjhiZmJmODRjNTYzNWQwZGQ0N2Y4ZDZmNTEzJlgtQW16LVNpZ25lZEhlYWRlcnM9aG9zdCJ9.MEnHhcEDdAPfRyqcsVPR_lg0BhfJHIWuc2YbwnpF55s)\n",
    "\n",
    "\n",
    "Got stopped out of both RTY and NQ. Gave up 3bps of performance."
   ]
  },
  {
   "cell_type": "markdown",
   "id": "d833c003-26ec-4645-b8a2-c3cbe80fe231",
   "metadata": {},
   "source": [
    "##### 11:40 AM\n",
    "\n",
    "I was to be short this market but I'm getting tired of this chop fest. So I'm buying some NDX puts expiring next week. My belief is that NDX could trade as low as 23500\n",
    "\n",
    "\n",
    "![](https://private-user-images.githubusercontent.com/120210274/478087795-72636b59-b8a0-41b5-86b2-5fda6b9429eb.png?jwt=eyJ0eXAiOiJKV1QiLCJhbGciOiJIUzI1NiJ9.eyJpc3MiOiJnaXRodWIuY29tIiwiYXVkIjoicmF3LmdpdGh1YnVzZXJjb250ZW50LmNvbSIsImtleSI6ImtleTUiLCJleHAiOjE3NTUxODYyODksIm5iZiI6MTc1NTE4NTk4OSwicGF0aCI6Ii8xMjAyMTAyNzQvNDc4MDg3Nzk1LTcyNjM2YjU5LWI4YTAtNDFiNS04NmIyLTVmZGE2Yjk0MjllYi5wbmc_WC1BbXotQWxnb3JpdGhtPUFXUzQtSE1BQy1TSEEyNTYmWC1BbXotQ3JlZGVudGlhbD1BS0lBVkNPRFlMU0E1M1BRSzRaQSUyRjIwMjUwODE0JTJGdXMtZWFzdC0xJTJGczMlMkZhd3M0X3JlcXVlc3QmWC1BbXotRGF0ZT0yMDI1MDgxNFQxNTM5NDlaJlgtQW16LUV4cGlyZXM9MzAwJlgtQW16LVNpZ25hdHVyZT1kZTViMzEzYWNiMWMyNDVlMThhYTJmZDkzZDg3YmVkODk4OWIwMDNlZmNjMTFjZDY1YmU5M2I4MjEwZDhhM2M4JlgtQW16LVNpZ25lZEhlYWRlcnM9aG9zdCJ9.tbvPXRmwjzh2xY3N-C6HB3lJHsHX8TLhH5bJEE_7Ehs)"
   ]
  },
  {
   "cell_type": "markdown",
   "id": "0c37e2c7-c180-4c53-a874-620589d62364",
   "metadata": {},
   "source": [
    "##### 11:40 AM\n",
    "\n",
    "RTY is also attempting to entering yesterday's range.\n",
    "\n",
    "![](https://private-user-images.githubusercontent.com/120210274/478089192-d3468f70-5e35-445d-ac5f-b2fbf14a95b8.png?jwt=eyJ0eXAiOiJKV1QiLCJhbGciOiJIUzI1NiJ9.eyJpc3MiOiJnaXRodWIuY29tIiwiYXVkIjoicmF3LmdpdGh1YnVzZXJjb250ZW50LmNvbSIsImtleSI6ImtleTUiLCJleHAiOjE3NTUxODY0OTYsIm5iZiI6MTc1NTE4NjE5NiwicGF0aCI6Ii8xMjAyMTAyNzQvNDc4MDg5MTkyLWQzNDY4ZjcwLTVlMzUtNDQ1ZC1hYzVmLWIyZmJmMTRhOTViOC5wbmc_WC1BbXotQWxnb3JpdGhtPUFXUzQtSE1BQy1TSEEyNTYmWC1BbXotQ3JlZGVudGlhbD1BS0lBVkNPRFlMU0E1M1BRSzRaQSUyRjIwMjUwODE0JTJGdXMtZWFzdC0xJTJGczMlMkZhd3M0X3JlcXVlc3QmWC1BbXotRGF0ZT0yMDI1MDgxNFQxNTQzMTZaJlgtQW16LUV4cGlyZXM9MzAwJlgtQW16LVNpZ25hdHVyZT03YTllOTgwOGVmMTk2OTE3MTU4ZWJmZjU0YTc1NzNlY2U0NDZjODc4N2JiODAyMWNmMzhmYzFlNzc5ZmY4MmQ3JlgtQW16LVNpZ25lZEhlYWRlcnM9aG9zdCJ9.Q7xywinTPjgyW2LnT6ZLQwdg-B2_50q5gGtBylPggao)\n",
    "\n"
   ]
  },
  {
   "cell_type": "markdown",
   "id": "dd4bb70a-e9b3-45f5-b2d7-593714891e15",
   "metadata": {},
   "source": [
    "##### 3:05 PM\n",
    "\n",
    "I feel Totally Clueless about today's actions. We have chopped around all day. TICs have been negative all day. AD Line is negative. Market has probed below yesterday's low and yet we did not see any continuation.\n",
    "\n",
    "Its been trading in this tight range all day. I gave up 3-4 bps of performance on this chop. The portfolio is being saved by the NFLX and CELH long.\n",
    "\n",
    "I totally ill-timed my trade on COIN. Its down 5.5% since I bought. But its still something I will hold"
   ]
  },
  {
   "cell_type": "markdown",
   "id": "fb73a030-de57-4c0d-93ce-09c2e5ec6838",
   "metadata": {},
   "source": [
    "![](https://private-user-images.githubusercontent.com/120210274/478167551-5cc1adc8-63ec-47ca-b960-26a78176c611.png?jwt=eyJ0eXAiOiJKV1QiLCJhbGciOiJIUzI1NiJ9.eyJpc3MiOiJnaXRodWIuY29tIiwiYXVkIjoicmF3LmdpdGh1YnVzZXJjb250ZW50LmNvbSIsImtleSI6ImtleTUiLCJleHAiOjE3NTUxOTg4ODUsIm5iZiI6MTc1NTE5ODU4NSwicGF0aCI6Ii8xMjAyMTAyNzQvNDc4MTY3NTUxLTVjYzFhZGM4LTYzZWMtNDdjYS1iOTYwLTI2YTc4MTc2YzYxMS5wbmc_WC1BbXotQWxnb3JpdGhtPUFXUzQtSE1BQy1TSEEyNTYmWC1BbXotQ3JlZGVudGlhbD1BS0lBVkNPRFlMU0E1M1BRSzRaQSUyRjIwMjUwODE0JTJGdXMtZWFzdC0xJTJGczMlMkZhd3M0X3JlcXVlc3QmWC1BbXotRGF0ZT0yMDI1MDgxNFQxOTA5NDVaJlgtQW16LUV4cGlyZXM9MzAwJlgtQW16LVNpZ25hdHVyZT1lNWJlMjAyODFlNWE0N2Y0ZWU5NjY3YmZjYTA2MGI0MGQyZWRlZDk2MGIyODY0YTg5Y2ZkNzY0M2EyYWJmMTVmJlgtQW16LVNpZ25lZEhlYWRlcnM9aG9zdCJ9.GD6K6u_t2xRD3QK9uJEt3bkgD7RpQ9u4V4_36DAaYUk)\n",
    "\n"
   ]
  },
  {
   "cell_type": "markdown",
   "id": "2c0f682a-d184-4cba-8107-634f5e06bf38",
   "metadata": {},
   "source": [
    "Choppy action last 2 trading days."
   ]
  },
  {
   "cell_type": "code",
   "execution_count": null,
   "id": "dbf0bd8c-9d44-4698-8f59-2cd4eb577f06",
   "metadata": {},
   "outputs": [],
   "source": []
  }
 ],
 "metadata": {
  "kernelspec": {
   "display_name": "Python 3 (ipykernel)",
   "language": "python",
   "name": "python3"
  },
  "language_info": {
   "codemirror_mode": {
    "name": "ipython",
    "version": 3
   },
   "file_extension": ".py",
   "mimetype": "text/x-python",
   "name": "python",
   "nbconvert_exporter": "python",
   "pygments_lexer": "ipython3",
   "version": "3.12.7"
  }
 },
 "nbformat": 4,
 "nbformat_minor": 5
}
