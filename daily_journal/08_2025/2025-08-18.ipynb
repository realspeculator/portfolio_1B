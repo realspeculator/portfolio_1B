{
 "cells": [
  {
   "cell_type": "markdown",
   "id": "3de2d4d4-187a-4596-9a3d-4baaa32cc17f",
   "metadata": {},
   "source": [
    "##### 2025-08-18\n",
    "\n",
    "8:56 am\n",
    "\n",
    "We are now starting the last two trading weeks of August. Markets are up almost 2% so far. The portfolio is up 0.40% so far. We have only used 5 to 10 % of the capital to achieve that. Our current open position (from Aug 15th) can be found [here](https://github.com/realspeculator/portfolio_1B/blob/main/daily_statement/2025-08-15-AccountStatement.csv). "
   ]
  },
  {
   "cell_type": "markdown",
   "id": "48251098-fb1e-4c3a-81e5-fad7e2f98e90",
   "metadata": {},
   "source": [
    "![](https://private-user-images.githubusercontent.com/120210274/479045711-5c0045b7-d25d-4475-99e2-95b37ec96868.png?jwt=eyJ0eXAiOiJKV1QiLCJhbGciOiJIUzI1NiJ9.eyJpc3MiOiJnaXRodWIuY29tIiwiYXVkIjoicmF3LmdpdGh1YnVzZXJjb250ZW50LmNvbSIsImtleSI6ImtleTUiLCJleHAiOjE3NTU1MjI1ODUsIm5iZiI6MTc1NTUyMjI4NSwicGF0aCI6Ii8xMjAyMTAyNzQvNDc5MDQ1NzExLTVjMDA0NWI3LWQyNWQtNDQ3NS05OWUyLTk1YjM3ZWM5Njg2OC5wbmc_WC1BbXotQWxnb3JpdGhtPUFXUzQtSE1BQy1TSEEyNTYmWC1BbXotQ3JlZGVudGlhbD1BS0lBVkNPRFlMU0E1M1BRSzRaQSUyRjIwMjUwODE4JTJGdXMtZWFzdC0xJTJGczMlMkZhd3M0X3JlcXVlc3QmWC1BbXotRGF0ZT0yMDI1MDgxOFQxMzA0NDVaJlgtQW16LUV4cGlyZXM9MzAwJlgtQW16LVNpZ25hdHVyZT0xMWZjY2FjOTRiZDE1NWMzOGVjYzdlZjBiYmI0NTY4M2I3NTdmMzU5NDcxN2VkNjc3MzhlN2E4N2U2ODY2MGRjJlgtQW16LVNpZ25lZEhlYWRlcnM9aG9zdCJ9.-QGdKMCbd3OTsSP7cvmxlOrUrElDJdk3gWiKpE8fw6g)"
   ]
  },
  {
   "cell_type": "markdown",
   "id": "01013158-21b5-4c21-a2b4-bbc125c1d3d0",
   "metadata": {},
   "source": [
    "NQ made a previous all time high in July. Since then it broke down lower are and sold of 4%. Since August 1st we have traded back above this pivot point high.\n",
    "\n",
    "However in the last few days we have come back into this the July range. NQ can take one of three paths going forward\n",
    "\n",
    "- Bounce and break out above the 24000 level\n",
    "- Drop and break below the 23700 level, and potentially re-test August low\n",
    "- Chop and Balance between 23700 to 24000\n",
    "\n",
    "I have drawn a red line above and will take a short position if we break that level. My stop will be tight just above this line. This trade gives the best risk-reward play.\n"
   ]
  },
  {
   "cell_type": "markdown",
   "id": "bbd2e88f-3b66-4fc0-a130-33607dfe263a",
   "metadata": {},
   "source": [
    "9:21am\n",
    "\n",
    "![](https://private-user-images.githubusercontent.com/120210274/479055220-228ac995-9808-4dd3-869d-9671afed384a.png?jwt=eyJ0eXAiOiJKV1QiLCJhbGciOiJIUzI1NiJ9.eyJpc3MiOiJnaXRodWIuY29tIiwiYXVkIjoicmF3LmdpdGh1YnVzZXJjb250ZW50LmNvbSIsImtleSI6ImtleTUiLCJleHAiOjE3NTU1MjM1ODAsIm5iZiI6MTc1NTUyMzI4MCwicGF0aCI6Ii8xMjAyMTAyNzQvNDc5MDU1MjIwLTIyOGFjOTk1LTk4MDgtNGRkMy04NjlkLTk2NzFhZmVkMzg0YS5wbmc_WC1BbXotQWxnb3JpdGhtPUFXUzQtSE1BQy1TSEEyNTYmWC1BbXotQ3JlZGVudGlhbD1BS0lBVkNPRFlMU0E1M1BRSzRaQSUyRjIwMjUwODE4JTJGdXMtZWFzdC0xJTJGczMlMkZhd3M0X3JlcXVlc3QmWC1BbXotRGF0ZT0yMDI1MDgxOFQxMzIxMjBaJlgtQW16LUV4cGlyZXM9MzAwJlgtQW16LVNpZ25hdHVyZT0wZGZhNGYyNjhkNGE5MGU4OGI2YzgwNmQ2NjdjNjJmMGU1N2Y2Mjg2MmNhZTIwNTk0NzE1Y2E0NTRiNTFhMWU5JlgtQW16LVNpZ25lZEhlYWRlcnM9aG9zdCJ9.ZzcLNgbbkiuIaYRkMvfyeL_ib5KX62lOg_W1-GieuO0)"
   ]
  },
  {
   "cell_type": "markdown",
   "id": "f5a9df0a-77ec-4e81-baba-000c81843bd5",
   "metadata": {},
   "source": [
    "Shorted 100 NQ as a trial position. I will add more to it if/when it breaks the red line. Very tight stop above the overnight balance area."
   ]
  },
  {
   "cell_type": "markdown",
   "id": "459f7f0c-d8a4-43bf-8888-e44d4a2abd25",
   "metadata": {},
   "source": [
    "##### 10:54 am\n",
    "\n",
    "![](https://private-user-images.githubusercontent.com/120210274/479095147-d576aff3-9aa2-4186-9ba1-900959b19036.png?jwt=eyJ0eXAiOiJKV1QiLCJhbGciOiJIUzI1NiJ9.eyJpc3MiOiJnaXRodWIuY29tIiwiYXVkIjoicmF3LmdpdGh1YnVzZXJjb250ZW50LmNvbSIsImtleSI6ImtleTUiLCJleHAiOjE3NTU1MjkxNzIsIm5iZiI6MTc1NTUyODg3MiwicGF0aCI6Ii8xMjAyMTAyNzQvNDc5MDk1MTQ3LWQ1NzZhZmYzLTlhYTItNDE4Ni05YmExLTkwMDk1OWIxOTAzNi5wbmc_WC1BbXotQWxnb3JpdGhtPUFXUzQtSE1BQy1TSEEyNTYmWC1BbXotQ3JlZGVudGlhbD1BS0lBVkNPRFlMU0E1M1BRSzRaQSUyRjIwMjUwODE4JTJGdXMtZWFzdC0xJTJGczMlMkZhd3M0X3JlcXVlc3QmWC1BbXotRGF0ZT0yMDI1MDgxOFQxNDU0MzJaJlgtQW16LUV4cGlyZXM9MzAwJlgtQW16LVNpZ25hdHVyZT1iZDVkNDM4NjRlMzU5OTI5NmIwZmQwZWI3ODg4MDhmZDVlYWU1YjJkYTlmNjJmOTllYWNiZDA5MWE1MWZiZGU2JlgtQW16LVNpZ25lZEhlYWRlcnM9aG9zdCJ9.GUbVqnywrseL_UxVGEaF-YL9GY7_bKd7vk3f_TR4uu0)"
   ]
  },
  {
   "cell_type": "markdown",
   "id": "166fef2d-7aa3-4060-801f-61985a94d521",
   "metadata": {},
   "source": [
    "We just traded below the low of friday (which is the red line support) and had a quick bounce back. I have also gotten stopped out of my short trades twice. "
   ]
  },
  {
   "cell_type": "code",
   "execution_count": null,
   "id": "553ebf9a-0a10-47e9-a38e-a81b433ac411",
   "metadata": {},
   "outputs": [],
   "source": []
  }
 ],
 "metadata": {
  "kernelspec": {
   "display_name": "Python 3 (ipykernel)",
   "language": "python",
   "name": "python3"
  },
  "language_info": {
   "codemirror_mode": {
    "name": "ipython",
    "version": 3
   },
   "file_extension": ".py",
   "mimetype": "text/x-python",
   "name": "python",
   "nbconvert_exporter": "python",
   "pygments_lexer": "ipython3",
   "version": "3.12.7"
  }
 },
 "nbformat": 4,
 "nbformat_minor": 5
}
