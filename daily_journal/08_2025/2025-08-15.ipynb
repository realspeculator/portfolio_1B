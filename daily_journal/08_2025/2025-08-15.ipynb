{
 "cells": [
  {
   "cell_type": "markdown",
   "id": "e77ea712-4ec1-4856-b972-035885d2b181",
   "metadata": {},
   "source": [
    "#### 2025-08-15"
   ]
  },
  {
   "cell_type": "markdown",
   "id": "d0bb1fc7-d183-49d4-8d56-a8d15d439be5",
   "metadata": {},
   "source": [
    "Yesterday's trading day appeared to be weak based on the internals. \n",
    "\n",
    "The TICs were mostly trading below zero\n",
    "\n",
    "![](https://private-user-images.githubusercontent.com/120210274/478400264-d5de5b42-81ff-4c7f-afd1-b56788252855.png?jwt=eyJ0eXAiOiJKV1QiLCJhbGciOiJIUzI1NiJ9.eyJpc3MiOiJnaXRodWIuY29tIiwiYXVkIjoicmF3LmdpdGh1YnVzZXJjb250ZW50LmNvbSIsImtleSI6ImtleTUiLCJleHAiOjE3NTUyNTcwMDIsIm5iZiI6MTc1NTI1NjcwMiwicGF0aCI6Ii8xMjAyMTAyNzQvNDc4NDAwMjY0LWQ1ZGU1YjQyLTgxZmYtNGM3Zi1hZmQxLWI1Njc4ODI1Mjg1NS5wbmc_WC1BbXotQWxnb3JpdGhtPUFXUzQtSE1BQy1TSEEyNTYmWC1BbXotQ3JlZGVudGlhbD1BS0lBVkNPRFlMU0E1M1BRSzRaQSUyRjIwMjUwODE1JTJGdXMtZWFzdC0xJTJGczMlMkZhd3M0X3JlcXVlc3QmWC1BbXotRGF0ZT0yMDI1MDgxNVQxMTE4MjJaJlgtQW16LUV4cGlyZXM9MzAwJlgtQW16LVNpZ25hdHVyZT1iNGRlY2MwNzM5NWMxOWI3NzZhNDRjMjRkNjk5MGFmMjE0MDk4ZGYzMDkxMzJmYmM3NDdjMmY0NDE2YmFkNzNmJlgtQW16LVNpZ25lZEhlYWRlcnM9aG9zdCJ9.QzvpyTO9bVNR4kwrWAjWIzXRaoGA78Z4vgy0Xt2lEhk)\n",
    "\n",
    "The AD line was also well below the zero line.\n",
    "\n",
    "![](https://private-user-images.githubusercontent.com/120210274/478400427-5d780e30-bd3a-403d-a4c5-cb8d6f4fbc67.png?jwt=eyJ0eXAiOiJKV1QiLCJhbGciOiJIUzI1NiJ9.eyJpc3MiOiJnaXRodWIuY29tIiwiYXVkIjoicmF3LmdpdGh1YnVzZXJjb250ZW50LmNvbSIsImtleSI6ImtleTUiLCJleHAiOjE3NTUyNTcwNTYsIm5iZiI6MTc1NTI1Njc1NiwicGF0aCI6Ii8xMjAyMTAyNzQvNDc4NDAwNDI3LTVkNzgwZTMwLWJkM2EtNDAzZC1hNGM1LWNiOGQ2ZjRmYmM2Ny5wbmc_WC1BbXotQWxnb3JpdGhtPUFXUzQtSE1BQy1TSEEyNTYmWC1BbXotQ3JlZGVudGlhbD1BS0lBVkNPRFlMU0E1M1BRSzRaQSUyRjIwMjUwODE1JTJGdXMtZWFzdC0xJTJGczMlMkZhd3M0X3JlcXVlc3QmWC1BbXotRGF0ZT0yMDI1MDgxNVQxMTE5MTZaJlgtQW16LUV4cGlyZXM9MzAwJlgtQW16LVNpZ25hdHVyZT0zOGQ4NzRkNDNkMWZlYzRkY2NjMTI4YzlhMTU2MGZhYmMxYzg2MzlhZDZjMmE1MzEzOTk5MDUzMWNhZjU4N2FlJlgtQW16LVNpZ25lZEhlYWRlcnM9aG9zdCJ9.su2oq_A_QUQWxMEndgY1YwDh43YZ1qwn5Ru_4CoF7E4)"
   ]
  },
  {
   "cell_type": "markdown",
   "id": "3c5f2d2d-679a-4ce3-aa4d-2b2c61128d63",
   "metadata": {},
   "source": [
    "For a sometime the NQ dipped below previous day's low. Yet we did not see any continuation.\n",
    "\n",
    "![](https://private-user-images.githubusercontent.com/120210274/478400747-3f3ee823-be1d-49fc-b722-7d947949abd3.png?jwt=eyJ0eXAiOiJKV1QiLCJhbGciOiJIUzI1NiJ9.eyJpc3MiOiJnaXRodWIuY29tIiwiYXVkIjoicmF3LmdpdGh1YnVzZXJjb250ZW50LmNvbSIsImtleSI6ImtleTUiLCJleHAiOjE3NTUyNTcxNTUsIm5iZiI6MTc1NTI1Njg1NSwicGF0aCI6Ii8xMjAyMTAyNzQvNDc4NDAwNzQ3LTNmM2VlODIzLWJlMWQtNDlmYy1iNzIyLTdkOTQ3OTQ5YWJkMy5wbmc_WC1BbXotQWxnb3JpdGhtPUFXUzQtSE1BQy1TSEEyNTYmWC1BbXotQ3JlZGVudGlhbD1BS0lBVkNPRFlMU0E1M1BRSzRaQSUyRjIwMjUwODE1JTJGdXMtZWFzdC0xJTJGczMlMkZhd3M0X3JlcXVlc3QmWC1BbXotRGF0ZT0yMDI1MDgxNVQxMTIwNTVaJlgtQW16LUV4cGlyZXM9MzAwJlgtQW16LVNpZ25hdHVyZT0wMTBhNzM4MGQwYzIyMmYzNWI4MzYwM2YyNTBlMTk4MzFiM2ViY2ViYzRhNmNmODgzMjA4MzExZWJmZTgxMzBjJlgtQW16LVNpZ25lZEhlYWRlcnM9aG9zdCJ9.yEWHOOtFztBFoYEOZBSAhCOLLH0mQHooe54tCr0r_ng)"
   ]
  },
  {
   "cell_type": "markdown",
   "id": "c4fbe880-5d83-447f-bc94-b77fc731b9fe",
   "metadata": {},
   "source": [
    "Market participants just wanted to buy every dip. I traded this choppy session and won and loss. The market was missing the energy to go either way."
   ]
  },
  {
   "cell_type": "code",
   "execution_count": null,
   "id": "6641dc6c-dcb4-4f0a-ab9c-d7e4fb59e9b2",
   "metadata": {},
   "outputs": [],
   "source": []
  }
 ],
 "metadata": {
  "kernelspec": {
   "display_name": "Python 3 (ipykernel)",
   "language": "python",
   "name": "python3"
  },
  "language_info": {
   "codemirror_mode": {
    "name": "ipython",
    "version": 3
   },
   "file_extension": ".py",
   "mimetype": "text/x-python",
   "name": "python",
   "nbconvert_exporter": "python",
   "pygments_lexer": "ipython3",
   "version": "3.12.7"
  }
 },
 "nbformat": 4,
 "nbformat_minor": 5
}
