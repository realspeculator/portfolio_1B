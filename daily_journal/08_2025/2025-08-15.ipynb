{
 "cells": [
  {
   "cell_type": "markdown",
   "id": "e77ea712-4ec1-4856-b972-035885d2b181",
   "metadata": {},
   "source": [
    "#### 2025-08-15"
   ]
  },
  {
   "cell_type": "markdown",
   "id": "32a7cbe9-8b4a-4bf5-a404-bf0cc282ef2d",
   "metadata": {},
   "source": [
    "Yesterday's trading day appeared to be weak based on the internals. \n",
    "\n",
    "The TICs were mostly trading below zero"
   ]
  },
  {
   "cell_type": "markdown",
   "id": "8bc0a0e4-6bca-4fc7-800d-5e02361baefa",
   "metadata": {},
   "source": [
    "![](https://private-user-images.githubusercontent.com/120210274/478400264-d5de5b42-81ff-4c7f-afd1-b56788252855.png?jwt=eyJ0eXAiOiJKV1QiLCJhbGciOiJIUzI1NiJ9.eyJpc3MiOiJnaXRodWIuY29tIiwiYXVkIjoicmF3LmdpdGh1YnVzZXJjb250ZW50LmNvbSIsImtleSI6ImtleTUiLCJleHAiOjE3NTUyNTcwMDIsIm5iZiI6MTc1NTI1NjcwMiwicGF0aCI6Ii8xMjAyMTAyNzQvNDc4NDAwMjY0LWQ1ZGU1YjQyLTgxZmYtNGM3Zi1hZmQxLWI1Njc4ODI1Mjg1NS5wbmc_WC1BbXotQWxnb3JpdGhtPUFXUzQtSE1BQy1TSEEyNTYmWC1BbXotQ3JlZGVudGlhbD1BS0lBVkNPRFlMU0E1M1BRSzRaQSUyRjIwMjUwODE1JTJGdXMtZWFzdC0xJTJGczMlMkZhd3M0X3JlcXVlc3QmWC1BbXotRGF0ZT0yMDI1MDgxNVQxMTE4MjJaJlgtQW16LUV4cGlyZXM9MzAwJlgtQW16LVNpZ25hdHVyZT1iNGRlY2MwNzM5NWMxOWI3NzZhNDRjMjRkNjk5MGFmMjE0MDk4ZGYzMDkxMzJmYmM3NDdjMmY0NDE2YmFkNzNmJlgtQW16LVNpZ25lZEhlYWRlcnM9aG9zdCJ9.QzvpyTO9bVNR4kwrWAjWIzXRaoGA78Z4vgy0Xt2lEhk)"
   ]
  },
  {
   "cell_type": "markdown",
   "id": "ddb8d2b6-536a-4858-b897-5b3ebea4232e",
   "metadata": {},
   "source": [
    "The AD line was also well below the zero line."
   ]
  },
  {
   "cell_type": "markdown",
   "id": "3aa254b9-438c-4556-8001-4600a96d04ec",
   "metadata": {},
   "source": [
    "![](https://private-user-images.githubusercontent.com/120210274/478400427-5d780e30-bd3a-403d-a4c5-cb8d6f4fbc67.png?jwt=eyJ0eXAiOiJKV1QiLCJhbGciOiJIUzI1NiJ9.eyJpc3MiOiJnaXRodWIuY29tIiwiYXVkIjoicmF3LmdpdGh1YnVzZXJjb250ZW50LmNvbSIsImtleSI6ImtleTUiLCJleHAiOjE3NTUyNTcwNTYsIm5iZiI6MTc1NTI1Njc1NiwicGF0aCI6Ii8xMjAyMTAyNzQvNDc4NDAwNDI3LTVkNzgwZTMwLWJkM2EtNDAzZC1hNGM1LWNiOGQ2ZjRmYmM2Ny5wbmc_WC1BbXotQWxnb3JpdGhtPUFXUzQtSE1BQy1TSEEyNTYmWC1BbXotQ3JlZGVudGlhbD1BS0lBVkNPRFlMU0E1M1BRSzRaQSUyRjIwMjUwODE1JTJGdXMtZWFzdC0xJTJGczMlMkZhd3M0X3JlcXVlc3QmWC1BbXotRGF0ZT0yMDI1MDgxNVQxMTE5MTZaJlgtQW16LUV4cGlyZXM9MzAwJlgtQW16LVNpZ25hdHVyZT0zOGQ4NzRkNDNkMWZlYzRkY2NjMTI4YzlhMTU2MGZhYmMxYzg2MzlhZDZjMmE1MzEzOTk5MDUzMWNhZjU4N2FlJlgtQW16LVNpZ25lZEhlYWRlcnM9aG9zdCJ9.su2oq_A_QUQWxMEndgY1YwDh43YZ1qwn5Ru_4CoF7E4)"
   ]
  },
  {
   "cell_type": "markdown",
   "id": "c8ef5836-a757-462f-94d7-12278107e63a",
   "metadata": {},
   "source": [
    "For a sometime the NQ dipped below previous day's low. Yet we did not see any continuation."
   ]
  },
  {
   "cell_type": "markdown",
   "id": "6f914fb8-6acb-4060-9278-f235ea7d5993",
   "metadata": {},
   "source": [
    "![](https://private-user-images.githubusercontent.com/120210274/478400747-3f3ee823-be1d-49fc-b722-7d947949abd3.png?jwt=eyJ0eXAiOiJKV1QiLCJhbGciOiJIUzI1NiJ9.eyJpc3MiOiJnaXRodWIuY29tIiwiYXVkIjoicmF3LmdpdGh1YnVzZXJjb250ZW50LmNvbSIsImtleSI6ImtleTUiLCJleHAiOjE3NTUyNTcxNTUsIm5iZiI6MTc1NTI1Njg1NSwicGF0aCI6Ii8xMjAyMTAyNzQvNDc4NDAwNzQ3LTNmM2VlODIzLWJlMWQtNDlmYy1iNzIyLTdkOTQ3OTQ5YWJkMy5wbmc_WC1BbXotQWxnb3JpdGhtPUFXUzQtSE1BQy1TSEEyNTYmWC1BbXotQ3JlZGVudGlhbD1BS0lBVkNPRFlMU0E1M1BRSzRaQSUyRjIwMjUwODE1JTJGdXMtZWFzdC0xJTJGczMlMkZhd3M0X3JlcXVlc3QmWC1BbXotRGF0ZT0yMDI1MDgxNVQxMTIwNTVaJlgtQW16LUV4cGlyZXM9MzAwJlgtQW16LVNpZ25hdHVyZT0wMTBhNzM4MGQwYzIyMmYzNWI4MzYwM2YyNTBlMTk4MzFiM2ViY2ViYzRhNmNmODgzMjA4MzExZWJmZTgxMzBjJlgtQW16LVNpZ25lZEhlYWRlcnM9aG9zdCJ9.yEWHOOtFztBFoYEOZBSAhCOLLH0mQHooe54tCr0r_ng)"
   ]
  },
  {
   "cell_type": "markdown",
   "id": "c4fbe880-5d83-447f-bc94-b77fc731b9fe",
   "metadata": {},
   "source": [
    "Market participants just wanted to buy every dip. I traded this choppy session and won and loss. The market was missing the energy to go either way."
   ]
  },
  {
   "cell_type": "markdown",
   "id": "7d1eb754-4108-4e78-9f3d-f9e5da0071da",
   "metadata": {},
   "source": [
    "##### 9:13AM\n",
    "\n",
    "![](https://private-user-images.githubusercontent.com/120210274/478435135-dcd6b020-2432-40c7-b987-ef5b0e07b69b.png?jwt=eyJ0eXAiOiJKV1QiLCJhbGciOiJIUzI1NiJ9.eyJpc3MiOiJnaXRodWIuY29tIiwiYXVkIjoicmF3LmdpdGh1YnVzZXJjb250ZW50LmNvbSIsImtleSI6ImtleTUiLCJleHAiOjE3NTUyNjQwNjgsIm5iZiI6MTc1NTI2Mzc2OCwicGF0aCI6Ii8xMjAyMTAyNzQvNDc4NDM1MTM1LWRjZDZiMDIwLTI0MzItNDBjNy1iOTg3LWVmNWIwZTA3YjY5Yi5wbmc_WC1BbXotQWxnb3JpdGhtPUFXUzQtSE1BQy1TSEEyNTYmWC1BbXotQ3JlZGVudGlhbD1BS0lBVkNPRFlMU0E1M1BRSzRaQSUyRjIwMjUwODE1JTJGdXMtZWFzdC0xJTJGczMlMkZhd3M0X3JlcXVlc3QmWC1BbXotRGF0ZT0yMDI1MDgxNVQxMzE2MDhaJlgtQW16LUV4cGlyZXM9MzAwJlgtQW16LVNpZ25hdHVyZT1kMmZmOTZjMzNhN2M0OWM0NDRmODdjNDNjMGU1ZWJmNGFiODEzMGU1NGIxNjg3NGU4ODhmZTYzNmFkM2JjODc1JlgtQW16LVNpZ25lZEhlYWRlcnM9aG9zdCJ9.6TDvsYptf_t5GOY5kREzfUNQWwvT8zcnUCMUl1J53rk)"
   ]
  },
  {
   "cell_type": "markdown",
   "id": "bf881b5f-944c-4185-8f29-29e5d2cf28c6",
   "metadata": {},
   "source": [
    "We are attempting a balance area above the July High. We have only one-time framed throughout the month of August. \n",
    "\n",
    "Today is the 15th, or mid way point of this month. "
   ]
  },
  {
   "cell_type": "markdown",
   "id": "90cd1b88-d310-4174-9622-a63a85fad6ee",
   "metadata": {},
   "source": [
    "##### 9:22 AM\n",
    "\n",
    "We are opening at the highs of yesterday. "
   ]
  },
  {
   "cell_type": "markdown",
   "id": "14480ef5-8abb-40cd-9f70-5eec6b24d076",
   "metadata": {},
   "source": [
    "![](https://private-user-images.githubusercontent.com/120210274/478437242-208a3242-1694-4e49-9f3f-61ded529f8f5.png?jwt=eyJ0eXAiOiJKV1QiLCJhbGciOiJIUzI1NiJ9.eyJpc3MiOiJnaXRodWIuY29tIiwiYXVkIjoicmF3LmdpdGh1YnVzZXJjb250ZW50LmNvbSIsImtleSI6ImtleTUiLCJleHAiOjE3NTUyNjQ1MDcsIm5iZiI6MTc1NTI2NDIwNywicGF0aCI6Ii8xMjAyMTAyNzQvNDc4NDM3MjQyLTIwOGEzMjQyLTE2OTQtNGU0OS05ZjNmLTYxZGVkNTI5ZjhmNS5wbmc_WC1BbXotQWxnb3JpdGhtPUFXUzQtSE1BQy1TSEEyNTYmWC1BbXotQ3JlZGVudGlhbD1BS0lBVkNPRFlMU0E1M1BRSzRaQSUyRjIwMjUwODE1JTJGdXMtZWFzdC0xJTJGczMlMkZhd3M0X3JlcXVlc3QmWC1BbXotRGF0ZT0yMDI1MDgxNVQxMzIzMjdaJlgtQW16LUV4cGlyZXM9MzAwJlgtQW16LVNpZ25hdHVyZT1jMjkyNDM4YjM1YzAwNGNmZTllNjU5YTNhMzI1YWQxNWEzYWFkMmIyNWZmZDljMzdlZGM2MzJmNjNmMGE4MjQ3JlgtQW16LVNpZ25lZEhlYWRlcnM9aG9zdCJ9.5vjxEFndDfSA9UFvc4vFgQQxFxxy9EMacgW2-mfDGuk)"
   ]
  },
  {
   "cell_type": "markdown",
   "id": "aea1aef5-2745-44f8-8207-2da36e1b52f6",
   "metadata": {},
   "source": [
    "Plan for the day.\n",
    "\n",
    "- Do nothing if We could chop between 6498 to 6510\n",
    "- Look for a balance arounf 6490, and go short below 6490 if we break that\n",
    "\n"
   ]
  },
  {
   "cell_type": "code",
   "execution_count": null,
   "id": "7977518a-8f54-44c5-97a9-d9cb2d53e03b",
   "metadata": {},
   "outputs": [],
   "source": []
  }
 ],
 "metadata": {
  "kernelspec": {
   "display_name": "Python 3 (ipykernel)",
   "language": "python",
   "name": "python3"
  },
  "language_info": {
   "codemirror_mode": {
    "name": "ipython",
    "version": 3
   },
   "file_extension": ".py",
   "mimetype": "text/x-python",
   "name": "python",
   "nbconvert_exporter": "python",
   "pygments_lexer": "ipython3",
   "version": "3.12.7"
  }
 },
 "nbformat": 4,
 "nbformat_minor": 5
}
