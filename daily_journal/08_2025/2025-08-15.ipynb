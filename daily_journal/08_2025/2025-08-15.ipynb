{
 "cells": [
  {
   "cell_type": "markdown",
   "id": "e77ea712-4ec1-4856-b972-035885d2b181",
   "metadata": {},
   "source": [
    "#### 2025-08-15"
   ]
  },
  {
   "cell_type": "markdown",
   "id": "32a7cbe9-8b4a-4bf5-a404-bf0cc282ef2d",
   "metadata": {},
   "source": [
    "Yesterday's trading day appeared to be weak based on the internals. \n",
    "\n",
    "The TICs were mostly trading below zero"
   ]
  },
  {
   "cell_type": "markdown",
   "id": "8bc0a0e4-6bca-4fc7-800d-5e02361baefa",
   "metadata": {},
   "source": [
    "![](https://private-user-images.githubusercontent.com/120210274/478400264-d5de5b42-81ff-4c7f-afd1-b56788252855.png?jwt=eyJ0eXAiOiJKV1QiLCJhbGciOiJIUzI1NiJ9.eyJpc3MiOiJnaXRodWIuY29tIiwiYXVkIjoicmF3LmdpdGh1YnVzZXJjb250ZW50LmNvbSIsImtleSI6ImtleTUiLCJleHAiOjE3NTUyNTcwMDIsIm5iZiI6MTc1NTI1NjcwMiwicGF0aCI6Ii8xMjAyMTAyNzQvNDc4NDAwMjY0LWQ1ZGU1YjQyLTgxZmYtNGM3Zi1hZmQxLWI1Njc4ODI1Mjg1NS5wbmc_WC1BbXotQWxnb3JpdGhtPUFXUzQtSE1BQy1TSEEyNTYmWC1BbXotQ3JlZGVudGlhbD1BS0lBVkNPRFlMU0E1M1BRSzRaQSUyRjIwMjUwODE1JTJGdXMtZWFzdC0xJTJGczMlMkZhd3M0X3JlcXVlc3QmWC1BbXotRGF0ZT0yMDI1MDgxNVQxMTE4MjJaJlgtQW16LUV4cGlyZXM9MzAwJlgtQW16LVNpZ25hdHVyZT1iNGRlY2MwNzM5NWMxOWI3NzZhNDRjMjRkNjk5MGFmMjE0MDk4ZGYzMDkxMzJmYmM3NDdjMmY0NDE2YmFkNzNmJlgtQW16LVNpZ25lZEhlYWRlcnM9aG9zdCJ9.QzvpyTO9bVNR4kwrWAjWIzXRaoGA78Z4vgy0Xt2lEhk)"
   ]
  },
  {
   "cell_type": "markdown",
   "id": "ddb8d2b6-536a-4858-b897-5b3ebea4232e",
   "metadata": {},
   "source": [
    "The AD line was also well below the zero line."
   ]
  },
  {
   "cell_type": "markdown",
   "id": "3aa254b9-438c-4556-8001-4600a96d04ec",
   "metadata": {},
   "source": [
    "![](https://private-user-images.githubusercontent.com/120210274/478400427-5d780e30-bd3a-403d-a4c5-cb8d6f4fbc67.png?jwt=eyJ0eXAiOiJKV1QiLCJhbGciOiJIUzI1NiJ9.eyJpc3MiOiJnaXRodWIuY29tIiwiYXVkIjoicmF3LmdpdGh1YnVzZXJjb250ZW50LmNvbSIsImtleSI6ImtleTUiLCJleHAiOjE3NTUyNTcwNTYsIm5iZiI6MTc1NTI1Njc1NiwicGF0aCI6Ii8xMjAyMTAyNzQvNDc4NDAwNDI3LTVkNzgwZTMwLWJkM2EtNDAzZC1hNGM1LWNiOGQ2ZjRmYmM2Ny5wbmc_WC1BbXotQWxnb3JpdGhtPUFXUzQtSE1BQy1TSEEyNTYmWC1BbXotQ3JlZGVudGlhbD1BS0lBVkNPRFlMU0E1M1BRSzRaQSUyRjIwMjUwODE1JTJGdXMtZWFzdC0xJTJGczMlMkZhd3M0X3JlcXVlc3QmWC1BbXotRGF0ZT0yMDI1MDgxNVQxMTE5MTZaJlgtQW16LUV4cGlyZXM9MzAwJlgtQW16LVNpZ25hdHVyZT0zOGQ4NzRkNDNkMWZlYzRkY2NjMTI4YzlhMTU2MGZhYmMxYzg2MzlhZDZjMmE1MzEzOTk5MDUzMWNhZjU4N2FlJlgtQW16LVNpZ25lZEhlYWRlcnM9aG9zdCJ9.su2oq_A_QUQWxMEndgY1YwDh43YZ1qwn5Ru_4CoF7E4)"
   ]
  },
  {
   "cell_type": "markdown",
   "id": "c8ef5836-a757-462f-94d7-12278107e63a",
   "metadata": {},
   "source": [
    "For a sometime the NQ dipped below previous day's low. Yet we did not see any continuation."
   ]
  },
  {
   "cell_type": "markdown",
   "id": "6f914fb8-6acb-4060-9278-f235ea7d5993",
   "metadata": {},
   "source": [
    "![](https://private-user-images.githubusercontent.com/120210274/478400747-3f3ee823-be1d-49fc-b722-7d947949abd3.png?jwt=eyJ0eXAiOiJKV1QiLCJhbGciOiJIUzI1NiJ9.eyJpc3MiOiJnaXRodWIuY29tIiwiYXVkIjoicmF3LmdpdGh1YnVzZXJjb250ZW50LmNvbSIsImtleSI6ImtleTUiLCJleHAiOjE3NTUyNTcxNTUsIm5iZiI6MTc1NTI1Njg1NSwicGF0aCI6Ii8xMjAyMTAyNzQvNDc4NDAwNzQ3LTNmM2VlODIzLWJlMWQtNDlmYy1iNzIyLTdkOTQ3OTQ5YWJkMy5wbmc_WC1BbXotQWxnb3JpdGhtPUFXUzQtSE1BQy1TSEEyNTYmWC1BbXotQ3JlZGVudGlhbD1BS0lBVkNPRFlMU0E1M1BRSzRaQSUyRjIwMjUwODE1JTJGdXMtZWFzdC0xJTJGczMlMkZhd3M0X3JlcXVlc3QmWC1BbXotRGF0ZT0yMDI1MDgxNVQxMTIwNTVaJlgtQW16LUV4cGlyZXM9MzAwJlgtQW16LVNpZ25hdHVyZT0wMTBhNzM4MGQwYzIyMmYzNWI4MzYwM2YyNTBlMTk4MzFiM2ViY2ViYzRhNmNmODgzMjA4MzExZWJmZTgxMzBjJlgtQW16LVNpZ25lZEhlYWRlcnM9aG9zdCJ9.yEWHOOtFztBFoYEOZBSAhCOLLH0mQHooe54tCr0r_ng)"
   ]
  },
  {
   "cell_type": "markdown",
   "id": "c4fbe880-5d83-447f-bc94-b77fc731b9fe",
   "metadata": {},
   "source": [
    "Market participants just wanted to buy every dip. I traded this choppy session and won and loss. The market was missing the energy to go either way."
   ]
  },
  {
   "cell_type": "markdown",
   "id": "7d1eb754-4108-4e78-9f3d-f9e5da0071da",
   "metadata": {},
   "source": [
    "##### 9:13AM\n",
    "\n",
    "![](https://private-user-images.githubusercontent.com/120210274/478435135-dcd6b020-2432-40c7-b987-ef5b0e07b69b.png?jwt=eyJ0eXAiOiJKV1QiLCJhbGciOiJIUzI1NiJ9.eyJpc3MiOiJnaXRodWIuY29tIiwiYXVkIjoicmF3LmdpdGh1YnVzZXJjb250ZW50LmNvbSIsImtleSI6ImtleTUiLCJleHAiOjE3NTUyNjQwNjgsIm5iZiI6MTc1NTI2Mzc2OCwicGF0aCI6Ii8xMjAyMTAyNzQvNDc4NDM1MTM1LWRjZDZiMDIwLTI0MzItNDBjNy1iOTg3LWVmNWIwZTA3YjY5Yi5wbmc_WC1BbXotQWxnb3JpdGhtPUFXUzQtSE1BQy1TSEEyNTYmWC1BbXotQ3JlZGVudGlhbD1BS0lBVkNPRFlMU0E1M1BRSzRaQSUyRjIwMjUwODE1JTJGdXMtZWFzdC0xJTJGczMlMkZhd3M0X3JlcXVlc3QmWC1BbXotRGF0ZT0yMDI1MDgxNVQxMzE2MDhaJlgtQW16LUV4cGlyZXM9MzAwJlgtQW16LVNpZ25hdHVyZT1kMmZmOTZjMzNhN2M0OWM0NDRmODdjNDNjMGU1ZWJmNGFiODEzMGU1NGIxNjg3NGU4ODhmZTYzNmFkM2JjODc1JlgtQW16LVNpZ25lZEhlYWRlcnM9aG9zdCJ9.6TDvsYptf_t5GOY5kREzfUNQWwvT8zcnUCMUl1J53rk)"
   ]
  },
  {
   "cell_type": "markdown",
   "id": "bf881b5f-944c-4185-8f29-29e5d2cf28c6",
   "metadata": {},
   "source": [
    "We are attempting a balance area above the July High. We have only one-time framed throughout the month of August. \n",
    "\n",
    "Today is the 15th, or mid way point of this month. "
   ]
  },
  {
   "cell_type": "markdown",
   "id": "90cd1b88-d310-4174-9622-a63a85fad6ee",
   "metadata": {},
   "source": [
    "##### 9:22 AM\n",
    "\n",
    "We are opening at the highs of yesterday. "
   ]
  },
  {
   "cell_type": "markdown",
   "id": "14480ef5-8abb-40cd-9f70-5eec6b24d076",
   "metadata": {},
   "source": [
    "![](https://private-user-images.githubusercontent.com/120210274/478437242-208a3242-1694-4e49-9f3f-61ded529f8f5.png?jwt=eyJ0eXAiOiJKV1QiLCJhbGciOiJIUzI1NiJ9.eyJpc3MiOiJnaXRodWIuY29tIiwiYXVkIjoicmF3LmdpdGh1YnVzZXJjb250ZW50LmNvbSIsImtleSI6ImtleTUiLCJleHAiOjE3NTUyNjQ1MDcsIm5iZiI6MTc1NTI2NDIwNywicGF0aCI6Ii8xMjAyMTAyNzQvNDc4NDM3MjQyLTIwOGEzMjQyLTE2OTQtNGU0OS05ZjNmLTYxZGVkNTI5ZjhmNS5wbmc_WC1BbXotQWxnb3JpdGhtPUFXUzQtSE1BQy1TSEEyNTYmWC1BbXotQ3JlZGVudGlhbD1BS0lBVkNPRFlMU0E1M1BRSzRaQSUyRjIwMjUwODE1JTJGdXMtZWFzdC0xJTJGczMlMkZhd3M0X3JlcXVlc3QmWC1BbXotRGF0ZT0yMDI1MDgxNVQxMzIzMjdaJlgtQW16LUV4cGlyZXM9MzAwJlgtQW16LVNpZ25hdHVyZT1jMjkyNDM4YjM1YzAwNGNmZTllNjU5YTNhMzI1YWQxNWEzYWFkMmIyNWZmZDljMzdlZGM2MzJmNjNmMGE4MjQ3JlgtQW16LVNpZ25lZEhlYWRlcnM9aG9zdCJ9.5vjxEFndDfSA9UFvc4vFgQQxFxxy9EMacgW2-mfDGuk)"
   ]
  },
  {
   "cell_type": "markdown",
   "id": "aea1aef5-2745-44f8-8207-2da36e1b52f6",
   "metadata": {},
   "source": [
    "Plan for the day.\n",
    "\n",
    "- Do nothing if We could chop between 6498 to 6510\n",
    "- Look for a balance arounf 6490, and go short below 6490 if we break that\n",
    "\n"
   ]
  },
  {
   "cell_type": "markdown",
   "id": "da32c953-363d-481c-908c-e2eda5b29d9e",
   "metadata": {},
   "source": [
    "##### 9:33\n",
    "\n",
    "Short 300 ES at 6490.50"
   ]
  },
  {
   "cell_type": "markdown",
   "id": "80c71969-cc98-4810-b0bb-fad504d8ccef",
   "metadata": {},
   "source": [
    "##### 9:39\n",
    "\n",
    "![](https://private-user-images.githubusercontent.com/120210274/478441719-a46f1e49-854f-4536-9553-a605e1354785.png?jwt=eyJ0eXAiOiJKV1QiLCJhbGciOiJIUzI1NiJ9.eyJpc3MiOiJnaXRodWIuY29tIiwiYXVkIjoicmF3LmdpdGh1YnVzZXJjb250ZW50LmNvbSIsImtleSI6ImtleTUiLCJleHAiOjE3NTUyNjU0ODcsIm5iZiI6MTc1NTI2NTE4NywicGF0aCI6Ii8xMjAyMTAyNzQvNDc4NDQxNzE5LWE0NmYxZTQ5LTg1NGYtNDUzNi05NTUzLWE2MDVlMTM1NDc4NS5wbmc_WC1BbXotQWxnb3JpdGhtPUFXUzQtSE1BQy1TSEEyNTYmWC1BbXotQ3JlZGVudGlhbD1BS0lBVkNPRFlMU0E1M1BRSzRaQSUyRjIwMjUwODE1JTJGdXMtZWFzdC0xJTJGczMlMkZhd3M0X3JlcXVlc3QmWC1BbXotRGF0ZT0yMDI1MDgxNVQxMzM5NDdaJlgtQW16LUV4cGlyZXM9MzAwJlgtQW16LVNpZ25hdHVyZT0wMjczZTA2ODEwZjAzZjBlMzc5MWE5OTllYzlkNTg1MjRiZWRlY2M0MDg5MzIxMDVjYmY2MmU1YjVjMmNlMDc3JlgtQW16LVNpZ25lZEhlYWRlcnM9aG9zdCJ9.YiJ7AkApJr-d-a9Nt8OpGeMDOz1ZLQ0uUx_s5Qtfooc)"
   ]
  },
  {
   "cell_type": "markdown",
   "id": "690f4bd9-e3d9-4297-99bb-d22b5b6cb82b",
   "metadata": {},
   "source": [
    "As of now this might work."
   ]
  },
  {
   "cell_type": "markdown",
   "id": "3082195c-e7ee-4234-a2fd-41a5cca3587c",
   "metadata": {},
   "source": [
    "##### 10:45AM\n",
    "\n",
    "Trades done so far this morning.\n",
    "\n",
    "    8/15/25\t01:00:00\tBAL\t--\tCash balance at the start of business day 15.08 CST\t--\t--\t--\t-57,497,342.20\n",
    "\t09:33:39\tTRD\t5222473499\tSOLD -300 /ESU25:XCME @6490.50\t--\t-675.00\t--\t-57,498,017.20\n",
    "\t10:03:18\tTRD\t5222567177\tBOT +300 /ESU25:XCME @6479.75\t--\t-675.00\t161,250.00\t-57,337,442.20\n",
    "\t10:04:55\tTRD\t5222571812\tSOLD -1 /ESU25:XCME @6481.50\t--\t-2.25\t--\t-57,337,444.45\n",
    "\t10:05:02\tTRD\t5222571893\tBOT +1 /ESU25:XCME @6481.25\t--\t-2.25\t12.50\t-57,337,434.20\n",
    "\t10:05:03\tTRD\t5222543832\tSOLD -25,000 SMH @296.71\t-125.36\t--\t7,417,750.00\t-49,919,809.56\n",
    "\t10:07:14\tTRD\t5222577800\tSOLD -200 /ESU25:XCME @6477.25\t--\t-450.00\t--\t-49,920,259.56\n",
    "\t10:21:10\tTRD\t5222610801\tSOLD -200 /NQU25:XCME @23856.00\t--\t-450.00\t--\t-49,920,709.56"
   ]
  },
  {
   "cell_type": "markdown",
   "id": "57376f97-b014-4ab2-abf1-6d5c13a77ad3",
   "metadata": {},
   "source": [
    "Also sold the SMH, AMAT earnings disappointed on guidance. NQ breaking out of this range could also be because of the bearishness on this sector."
   ]
  },
  {
   "cell_type": "code",
   "execution_count": null,
   "id": "d9a0d18c-3613-4fae-a8b4-a4dd1056f0b2",
   "metadata": {},
   "outputs": [],
   "source": []
  }
 ],
 "metadata": {
  "kernelspec": {
   "display_name": "Python 3 (ipykernel)",
   "language": "python",
   "name": "python3"
  },
  "language_info": {
   "codemirror_mode": {
    "name": "ipython",
    "version": 3
   },
   "file_extension": ".py",
   "mimetype": "text/x-python",
   "name": "python",
   "nbconvert_exporter": "python",
   "pygments_lexer": "ipython3",
   "version": "3.12.7"
  }
 },
 "nbformat": 4,
 "nbformat_minor": 5
}
